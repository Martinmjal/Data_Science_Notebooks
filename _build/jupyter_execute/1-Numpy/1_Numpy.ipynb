{
 "cells": [
  {
   "block_group": "67af066b7ad049928dfacde0c075809e",
   "cell_type": "markdown",
   "metadata": {
    "cell_id": "67af066b7ad049928dfacde0c075809e",
    "deepnote_app_coordinates": {
     "h": 5,
     "w": 12,
     "x": 0,
     "y": 1
    },
    "deepnote_cell_type": "text-cell-h1",
    "formattedRanges": [],
    "is_collapsed": false,
    "tags": []
   },
   "source": [
    "# Numpy"
   ]
  },
  {
   "block_group": "48953cbcb6184161930b8e042a238d62",
   "cell_type": "markdown",
   "metadata": {
    "cell_id": "48953cbcb6184161930b8e042a238d62",
    "deepnote_app_coordinates": {
     "h": 5,
     "w": 12,
     "x": 0,
     "y": 7
    },
    "deepnote_cell_type": "markdown",
    "tags": []
   },
   "source": [
    "AKA Numeric Python\n",
    "\n",
    "Numpy advantages:\n",
    "\n",
    "- optimized storage in memory\n",
    "- 50 times faster than a python list\n",
    "- allows mathematical operators that don´t work with lists"
   ]
  },
  {
   "block_group": "84b087d3622540ab949e1a8dfa1fb92e",
   "cell_type": "markdown",
   "metadata": {
    "cell_id": "84b087d3622540ab949e1a8dfa1fb92e",
    "deepnote_app_coordinates": {
     "h": 5,
     "w": 12,
     "x": 0,
     "y": 13
    },
    "deepnote_cell_type": "text-cell-h1",
    "formattedRanges": [],
    "is_collapsed": false,
    "tags": []
   },
   "source": [
    "# Numpy data Types"
   ]
  },
  {
   "block_group": "0dfb27dedd9b48da945cdff702c0609a",
   "cell_type": "markdown",
   "metadata": {
    "cell_id": "0dfb27dedd9b48da945cdff702c0609a",
    "deepnote_app_coordinates": {
     "h": 5,
     "w": 12,
     "x": 0,
     "y": 19
    },
    "deepnote_cell_type": "markdown",
    "tags": []
   },
   "source": [
    "A numpy array can hold just one data type at the same time, even tough it still support the following data types:\n",
    "\n"
   ]
  },
  {
   "block_group": "cebd81fd3ab9425aac55f61f84b00871",
   "cell_type": "markdown",
   "metadata": {
    "cell_id": "cebd81fd3ab9425aac55f61f84b00871",
    "deepnote_app_coordinates": {
     "h": 5,
     "w": 12,
     "x": 0,
     "y": 25
    },
    "deepnote_cell_type": "markdown",
    "tags": []
   },
   "source": [
    "If you want to see the data type that is holding your array, use the **dtype** method"
   ]
  },
  {
   "block_group": "28663a4725014201a410bc0d22717d2c",
   "cell_type": "code",
   "execution_count": 1,
   "metadata": {
    "cell_id": "28663a4725014201a410bc0d22717d2c",
    "deepnote_app_coordinates": {
     "h": 5,
     "w": 12,
     "x": 0,
     "y": 31
    },
    "deepnote_cell_type": "code",
    "deepnote_to_be_reexecuted": false,
    "execution_millis": 5,
    "execution_start": 1669182113337,
    "source_hash": "e79894ed",
    "tags": []
   },
   "outputs": [
    {
     "name": "stdout",
     "output_type": "stream",
     "text": [
      "int32\n"
     ]
    }
   ],
   "source": [
    "import numpy as np\n",
    "\n",
    "arr = np.array([1,2,3,4,5])\n",
    "\n",
    "print(arr.dtype)"
   ]
  },
  {
   "block_group": "83e878ef4e13418ea72212ff54ba4919",
   "cell_type": "markdown",
   "metadata": {
    "cell_id": "83e878ef4e13418ea72212ff54ba4919",
    "deepnote_app_coordinates": {
     "h": 5,
     "w": 12,
     "x": 0,
     "y": 37
    },
    "deepnote_cell_type": "text-cell-h3",
    "formattedRanges": [],
    "is_collapsed": false,
    "tags": []
   },
   "source": [
    "### change the data type of an array"
   ]
  },
  {
   "block_group": "2a1a656d221e4b93ae6b77af22822a68",
   "cell_type": "markdown",
   "metadata": {
    "cell_id": "2a1a656d221e4b93ae6b77af22822a68",
    "deepnote_app_coordinates": {
     "h": 5,
     "w": 12,
     "x": 0,
     "y": 43
    },
    "deepnote_cell_type": "markdown",
    "tags": []
   },
   "source": [
    "we might want to transform these data types into float\n",
    "\n",
    "**note that the numbers are originally int64, let´s turn them into float64**\n",
    "\n",
    "*this is convenient if you are working with tensorflow, pytorch and Neural Networks. code will run faster*"
   ]
  },
  {
   "block_group": "cd2db2f899954de7958331cdd128ea23",
   "cell_type": "code",
   "execution_count": 2,
   "metadata": {
    "cell_id": "cd2db2f899954de7958331cdd128ea23",
    "deepnote_app_coordinates": {
     "h": 5,
     "w": 12,
     "x": 0,
     "y": 49
    },
    "deepnote_cell_type": "code",
    "deepnote_to_be_reexecuted": false,
    "execution_millis": 99,
    "execution_start": 1668742368051,
    "source_hash": "48645426",
    "tags": []
   },
   "outputs": [
    {
     "name": "stdout",
     "output_type": "stream",
     "text": [
      "float64\n",
      "[1. 2. 3. 4. 5.]\n"
     ]
    }
   ],
   "source": [
    "import numpy as np\n",
    "\n",
    "arr2 = np.array([1,2,3,4,5], dtype = \"float64\")\n",
    "\n",
    "print(arr2.dtype)\n",
    "print(arr2)"
   ]
  },
  {
   "block_group": "9fe97ab15f86472ab2a1a4eb1d88c090",
   "cell_type": "markdown",
   "metadata": {
    "cell_id": "9fe97ab15f86472ab2a1a4eb1d88c090",
    "deepnote_app_coordinates": {
     "h": 5,
     "w": 12,
     "x": 0,
     "y": 55
    },
    "deepnote_cell_type": "markdown",
    "tags": []
   },
   "source": [
    "another way to redefine the data type given an array\n",
    "\n",
    "this will turn data **into float64**\n",
    "\n",
    "note:\n",
    "to turn data into **float64** use the method:\n",
    "\n",
    "*array_name*.**astpye(np.float64)**"
   ]
  },
  {
   "block_group": "dd667897fe6c49bd91f9d968eaf245e4",
   "cell_type": "code",
   "execution_count": 3,
   "metadata": {
    "cell_id": "dd667897fe6c49bd91f9d968eaf245e4",
    "deepnote_app_coordinates": {
     "h": 5,
     "w": 12,
     "x": 0,
     "y": 61
    },
    "deepnote_cell_type": "code",
    "deepnote_to_be_reexecuted": false,
    "execution_millis": 98,
    "execution_start": 1668742368052,
    "source_hash": "bdd5284a",
    "tags": []
   },
   "outputs": [
    {
     "name": "stdout",
     "output_type": "stream",
     "text": [
      "[1. 2. 3. 4. 5.]\n",
      "float64\n"
     ]
    }
   ],
   "source": [
    "#import numpy as np\n",
    "\n",
    "#creating the array\n",
    "arr3 = np.array([1,2,3,4,5])\n",
    "\n",
    "#changing the array data type\n",
    "arr3 = arr3.astype(np.float64)\n",
    "\n",
    "#now print the array and its data type\n",
    "print(arr3)\n",
    "print(arr3.dtype)"
   ]
  },
  {
   "block_group": "b6052b57200546daa2d64749cfa6d948",
   "cell_type": "markdown",
   "metadata": {
    "cell_id": "b6052b57200546daa2d64749cfa6d948",
    "deepnote_app_coordinates": {
     "h": 5,
     "w": 12,
     "x": 0,
     "y": 67
    },
    "deepnote_cell_type": "markdown",
    "tags": []
   },
   "source": [
    "to turn data into **boolean** use the method:\n",
    "\n",
    "*array_name*.**astype(np.bool_)**"
   ]
  },
  {
   "block_group": "c1684d24e6be4b0da510a104ebd9aff7",
   "cell_type": "code",
   "execution_count": 4,
   "metadata": {
    "cell_id": "c1684d24e6be4b0da510a104ebd9aff7",
    "deepnote_app_coordinates": {
     "h": 5,
     "w": 12,
     "x": 0,
     "y": 73
    },
    "deepnote_cell_type": "code",
    "deepnote_to_be_reexecuted": false,
    "execution_millis": 67,
    "execution_start": 1668742368084,
    "source_hash": "1cb6448e",
    "tags": []
   },
   "outputs": [
    {
     "name": "stdout",
     "output_type": "stream",
     "text": [
      "[False  True  True  True  True  True]\n",
      "bool\n",
      "note that the only false value is that one corresponding to 0\n"
     ]
    }
   ],
   "source": [
    "#import numpy as np\n",
    "\n",
    "#creating the array\n",
    "arr4 = np.array([0,1,2,3,4,5])\n",
    "\n",
    "#changing the array data type\n",
    "arr4 = arr4.astype(np.bool_)\n",
    "\n",
    "#now print the array and its data type\n",
    "print(arr4)\n",
    "print(arr4.dtype)\n",
    "\n",
    "print(\"note that the only false value is that one corresponding to 0\")"
   ]
  },
  {
   "block_group": "afb683c6453e4b55a74bcbd8e5bd50a4",
   "cell_type": "markdown",
   "metadata": {
    "cell_id": "afb683c6453e4b55a74bcbd8e5bd50a4",
    "deepnote_app_coordinates": {
     "h": 5,
     "w": 12,
     "x": 0,
     "y": 79
    },
    "deepnote_cell_type": "markdown",
    "tags": []
   },
   "source": [
    "to turn data into **string** use the method:\n",
    "\n",
    "*array_name*.**astype(np.string_)**"
   ]
  },
  {
   "block_group": "7606fe7c617e4d0aae88b7c689d517ed",
   "cell_type": "code",
   "execution_count": 5,
   "metadata": {
    "cell_id": "7606fe7c617e4d0aae88b7c689d517ed",
    "deepnote_app_coordinates": {
     "h": 5,
     "w": 12,
     "x": 0,
     "y": 85
    },
    "deepnote_cell_type": "code",
    "deepnote_to_be_reexecuted": false,
    "execution_millis": 66,
    "execution_start": 1668742368085,
    "source_hash": "7aa58bc9",
    "tags": []
   },
   "outputs": [
    {
     "name": "stdout",
     "output_type": "stream",
     "text": [
      "[b'0' b'1' b'2' b'3' b'4' b'5']\n",
      "|S11\n"
     ]
    }
   ],
   "source": [
    "#import numpy as np\n",
    "\n",
    "#creating the array\n",
    "arr5 = np.array([0,1,2,3,4,5])\n",
    "\n",
    "#changing the array data type\n",
    "arr5 = arr5.astype(np.string_)\n",
    "\n",
    "#now print the array and its data type\n",
    "print(arr5)\n",
    "print(arr5.dtype)"
   ]
  },
  {
   "block_group": "7960eba5b2b5451b922ac2c7a6684bdd",
   "cell_type": "markdown",
   "metadata": {
    "cell_id": "7960eba5b2b5451b922ac2c7a6684bdd",
    "deepnote_app_coordinates": {
     "h": 5,
     "w": 12,
     "x": 0,
     "y": 91
    },
    "deepnote_cell_type": "markdown",
    "tags": []
   },
   "source": [
    "can we do the opposite?\n",
    "\n",
    "from **string** to **integer**\n",
    "\n",
    "btw use the method:\n",
    "*array_name*.**astype(np.int8)**"
   ]
  },
  {
   "block_group": "af163cd6ea0d4d3e8549df9d4b228ff5",
   "cell_type": "code",
   "execution_count": 6,
   "metadata": {
    "cell_id": "af163cd6ea0d4d3e8549df9d4b228ff5",
    "deepnote_app_coordinates": {
     "h": 5,
     "w": 12,
     "x": 0,
     "y": 97
    },
    "deepnote_cell_type": "code",
    "deepnote_to_be_reexecuted": false,
    "execution_millis": 65,
    "execution_start": 1668742368086,
    "source_hash": "5e51e6a3",
    "tags": []
   },
   "outputs": [
    {
     "name": "stdout",
     "output_type": "stream",
     "text": [
      "[0 1 2 3 4 5]\n",
      "int8\n"
     ]
    }
   ],
   "source": [
    "#import numpy as np\n",
    "\n",
    "#creating the array of strings\n",
    "arr6 = np.array([\"0\",\"1\",\"2\",\"3\",\"4\",\"5\"])\n",
    "\n",
    "#changing the array data type\n",
    "arr6 = arr6.astype(np.int8)\n",
    "\n",
    "#now print the array and its data type\n",
    "print(arr6)\n",
    "print(arr6.dtype)"
   ]
  },
  {
   "block_group": "c0c36c64ef454b01b949eff7639ca01f",
   "cell_type": "markdown",
   "metadata": {
    "cell_id": "c0c36c64ef454b01b949eff7639ca01f",
    "deepnote_app_coordinates": {
     "h": 5,
     "w": 12,
     "x": 0,
     "y": 103
    },
    "deepnote_cell_type": "markdown",
    "tags": []
   },
   "source": [
    "note that the strings CANNOT have letters, just numbers, otherwise it will shoot an error"
   ]
  },
  {
   "block_group": "bcc8c551d105480780a6699c037c097e",
   "cell_type": "markdown",
   "metadata": {
    "cell_id": "bcc8c551d105480780a6699c037c097e",
    "deepnote_app_coordinates": {
     "h": 5,
     "w": 12,
     "x": 0,
     "y": 109
    },
    "deepnote_cell_type": "text-cell-h2",
    "formattedRanges": [],
    "is_collapsed": false,
    "tags": []
   },
   "source": [
    "## Numpy data type & definition"
   ]
  },
  {
   "block_group": "038281558cce4fa0a882f0689a625d57",
   "cell_type": "markdown",
   "metadata": {
    "cell_id": "038281558cce4fa0a882f0689a625d57",
    "deepnote_app_coordinates": {
     "h": 5,
     "w": 12,
     "x": 0,
     "y": 115
    },
    "deepnote_cell_type": "markdown",
    "tags": []
   },
   "source": [
    "In numpy, the main data type is an array. The arrays are defined as follows:\n",
    "\n",
    "a = **np.array([1, 2, 3])**\n",
    "\n",
    "*arrays are built from python lists*"
   ]
  },
  {
   "block_group": "0c4bcf708edb4a42862159d7f1aa9337",
   "cell_type": "markdown",
   "metadata": {
    "cell_id": "0c4bcf708edb4a42862159d7f1aa9337",
    "deepnote_app_coordinates": {
     "h": 5,
     "w": 12,
     "x": 0,
     "y": 121
    },
    "deepnote_cell_type": "markdown",
    "tags": []
   },
   "source": [
    "![Picture title](image-20221109-171118.png)"
   ]
  },
  {
   "block_group": "208fdf0ed1b24b1e9c35745b168ec6c2",
   "cell_type": "markdown",
   "metadata": {
    "cell_id": "208fdf0ed1b24b1e9c35745b168ec6c2",
    "deepnote_app_coordinates": {
     "h": 5,
     "w": 12,
     "x": 0,
     "y": 127
    },
    "deepnote_cell_type": "text-cell-h1",
    "formattedRanges": [],
    "is_collapsed": false,
    "tags": []
   },
   "source": [
    "# Operators & indexing"
   ]
  },
  {
   "block_group": "90ea699061a446cda2ccf5892c70c8a1",
   "cell_type": "markdown",
   "metadata": {
    "cell_id": "90ea699061a446cda2ccf5892c70c8a1",
    "deepnote_app_coordinates": {
     "h": 5,
     "w": 12,
     "x": 0,
     "y": 133
    },
    "deepnote_cell_type": "text-cell-h2",
    "formattedRanges": [],
    "is_collapsed": false,
    "tags": []
   },
   "source": [
    "## Mathematical operators in numpy"
   ]
  },
  {
   "block_group": "09ea4ada877c4d64b55410b7baa96ad2",
   "cell_type": "markdown",
   "metadata": {
    "cell_id": "09ea4ada877c4d64b55410b7baa96ad2",
    "deepnote_app_coordinates": {
     "h": 5,
     "w": 12,
     "x": 0,
     "y": 139
    },
    "deepnote_cell_type": "markdown",
    "tags": []
   },
   "source": [
    "suppose you have a list and you want to calculated each element to the power of two"
   ]
  },
  {
   "block_group": "dec329959e27425484a8448b0066229f",
   "cell_type": "code",
   "execution_count": 7,
   "metadata": {
    "cell_id": "dec329959e27425484a8448b0066229f",
    "deepnote_app_coordinates": {
     "h": 5,
     "w": 12,
     "x": 0,
     "y": 145
    },
    "deepnote_cell_type": "code",
    "deepnote_to_be_reexecuted": false,
    "execution_millis": 32,
    "execution_start": 1668742368133,
    "source_hash": "cb3ff334",
    "tags": []
   },
   "outputs": [
    {
     "name": "stdout",
     "output_type": "stream",
     "text": [
      "[1, 2, 3, 4, 5]\n"
     ]
    }
   ],
   "source": [
    "x = [1, 2, 3, 4, 5]\n",
    "\n",
    "print(x)"
   ]
  },
  {
   "block_group": "ffcad1b832d24aa3958993409a5cfafb",
   "cell_type": "markdown",
   "metadata": {
    "cell_id": "ffcad1b832d24aa3958993409a5cfafb",
    "deepnote_app_coordinates": {
     "h": 5,
     "w": 12,
     "x": 0,
     "y": 151
    },
    "deepnote_cell_type": "markdown",
    "tags": []
   },
   "source": [
    "if you try x**2 it will shoot you an error, i promise.\n",
    "\n",
    "To solve these problems, you can use **Numpy arrays**"
   ]
  },
  {
   "block_group": "037b983fe1e84e10baf7775a6ec9dade",
   "cell_type": "code",
   "execution_count": 8,
   "metadata": {
    "cell_id": "037b983fe1e84e10baf7775a6ec9dade",
    "deepnote_app_coordinates": {
     "h": 5,
     "w": 12,
     "x": 0,
     "y": 157
    },
    "deepnote_cell_type": "code",
    "deepnote_to_be_reexecuted": false,
    "execution_millis": 3,
    "execution_start": 1668742368162,
    "source_hash": "2e01f091",
    "tags": []
   },
   "outputs": [
    {
     "name": "stdout",
     "output_type": "stream",
     "text": [
      "<class 'numpy.ndarray'>\n",
      "[ 1  4  9 16 25]\n"
     ]
    }
   ],
   "source": [
    "# first step\n",
    "import numpy as np\n",
    "\n",
    "# this is how you transform a list into an array\n",
    "x = np.array(x)\n",
    "\n",
    "#now we use the ** operator on the array without getting an error\n",
    "print(type(x))\n",
    "print(x**2)"
   ]
  },
  {
   "block_group": "36a869b09fd44b22a478087443076528",
   "cell_type": "markdown",
   "metadata": {
    "cell_id": "36a869b09fd44b22a478087443076528",
    "deepnote_app_coordinates": {
     "h": 5,
     "w": 12,
     "x": 0,
     "y": 163
    },
    "deepnote_cell_type": "markdown",
    "tags": []
   },
   "source": [
    "**Numpy arrays can only contain one data type**!!!!!!!!!!!!!!!!"
   ]
  },
  {
   "block_group": "e52983ba21ba4ed9a1fe88d72c8545fe",
   "cell_type": "code",
   "execution_count": 9,
   "metadata": {
    "cell_id": "e52983ba21ba4ed9a1fe88d72c8545fe",
    "deepnote_app_coordinates": {
     "h": 5,
     "w": 12,
     "x": 0,
     "y": 169
    },
    "deepnote_cell_type": "code",
    "deepnote_to_be_reexecuted": false,
    "execution_millis": 5,
    "execution_start": 1668742368166,
    "source_hash": "f509d4f9",
    "tags": []
   },
   "outputs": [
    {
     "name": "stdout",
     "output_type": "stream",
     "text": [
      "<class 'numpy.ndarray'>\n",
      "<class 'numpy.str_'>\n",
      "note that everything will be turned into a string\n",
      "<class 'numpy.str_'>\n"
     ]
    }
   ],
   "source": [
    "#import numpy as np\n",
    "\n",
    "a = np.array([1, \"is\", True])\n",
    "\n",
    "print(type(a))\n",
    "print(type(a[0])) #first element\n",
    "print(\"note that everything will be turned into a string\")\n",
    "print(type(a[2])) #third element"
   ]
  },
  {
   "block_group": "b2119493bc844e29b1d87aa0ed9acf24",
   "cell_type": "markdown",
   "metadata": {
    "cell_id": "b2119493bc844e29b1d87aa0ed9acf24",
    "deepnote_app_coordinates": {
     "h": 5,
     "w": 12,
     "x": 0,
     "y": 175
    },
    "deepnote_cell_type": "text-cell-h2",
    "formattedRanges": [],
    "is_collapsed": false,
    "tags": []
   },
   "source": [
    "## Performable operations  with Numpy Arrays"
   ]
  },
  {
   "block_group": "d46a76c9088d43ffb52e413571a1b44f",
   "cell_type": "code",
   "execution_count": 10,
   "metadata": {
    "cell_id": "d46a76c9088d43ffb52e413571a1b44f",
    "deepnote_app_coordinates": {
     "h": 5,
     "w": 12,
     "x": 0,
     "y": 181
    },
    "deepnote_cell_type": "code",
    "deepnote_to_be_reexecuted": false,
    "execution_millis": 4,
    "execution_start": 1668742368170,
    "source_hash": "dd32cbc2",
    "tags": []
   },
   "outputs": [
    {
     "name": "stdout",
     "output_type": "stream",
     "text": [
      "[1, 2, 3, 1, 2, 3]\n",
      "[2 4 6]\n"
     ]
    }
   ],
   "source": [
    "#import numpy as np\n",
    "\n",
    "firstlist = [1, 2, 3]\n",
    "numpylist = np.array(firstlist)\n",
    "\n",
    "print(firstlist + firstlist)\n",
    "print(numpylist + numpylist)"
   ]
  },
  {
   "block_group": "75668d32c1f1400f91eac20820ddb74d",
   "cell_type": "markdown",
   "metadata": {
    "cell_id": "75668d32c1f1400f91eac20820ddb74d",
    "deepnote_app_coordinates": {
     "h": 5,
     "w": 12,
     "x": 0,
     "y": 187
    },
    "deepnote_cell_type": "markdown",
    "tags": []
   },
   "source": [
    "Note that the list is doing an append, while the array is summing the arrays element by element (and that makes more sense)"
   ]
  },
  {
   "block_group": "1792512e73744269be216a45bc47cb6d",
   "cell_type": "markdown",
   "metadata": {
    "cell_id": "1792512e73744269be216a45bc47cb6d",
    "deepnote_app_coordinates": {
     "h": 5,
     "w": 12,
     "x": 0,
     "y": 193
    },
    "deepnote_cell_type": "text-cell-h2",
    "formattedRanges": [],
    "is_collapsed": false,
    "tags": []
   },
   "source": [
    "## Numpy Indexing"
   ]
  },
  {
   "block_group": "952068ac58dd4fe3b545a522793c22e7",
   "cell_type": "markdown",
   "metadata": {
    "cell_id": "952068ac58dd4fe3b545a522793c22e7",
    "deepnote_app_coordinates": {
     "h": 5,
     "w": 12,
     "x": 0,
     "y": 199
    },
    "deepnote_cell_type": "markdown",
    "tags": []
   },
   "source": [
    "In Numpy, you can index as in a list.\n",
    "\n",
    "Structure\n",
    "\n",
    "Array[conditions]\n",
    "\n",
    "example:"
   ]
  },
  {
   "block_group": "ddc674bbebfc4f179db95b1bf215c9b7",
   "cell_type": "code",
   "execution_count": 11,
   "metadata": {
    "cell_id": "ddc674bbebfc4f179db95b1bf215c9b7",
    "deepnote_app_coordinates": {
     "h": 5,
     "w": 12,
     "x": 0,
     "y": 205
    },
    "deepnote_cell_type": "code",
    "deepnote_to_be_reexecuted": false,
    "execution_millis": 3,
    "execution_start": 1668742368177,
    "source_hash": "6697f2fb",
    "tags": []
   },
   "outputs": [
    {
     "name": "stdout",
     "output_type": "stream",
     "text": [
      "1\n",
      "[2 3 4 5 6]\n",
      "[ 2  3  4  5  6  7  8  9 10 11 12]\n",
      "[1 2 3 4 5 6 7]\n"
     ]
    }
   ],
   "source": [
    "#import numpy as np\n",
    "\n",
    "#creating a 1D array\n",
    "crazylist = [1,2,3,4,5,6,7,8,9,10,11,12]\n",
    "crazyarray = np.array(crazylist)\n",
    "\n",
    "#let´s print the first element of the array\n",
    "print(crazyarray[0])\n",
    "\n",
    "#let´s slice from the 2nd to the 5th elements\n",
    "print(crazyarray[1:6])\n",
    "\n",
    "#slice from second object to the last\n",
    "print(crazyarray[1:])\n",
    "\n",
    "#slice from the beginning until the sixth element\n",
    "print(crazyarray[:7])"
   ]
  },
  {
   "block_group": "9731d880f9a9423fbc5f37b6f71a8ff8",
   "cell_type": "markdown",
   "metadata": {
    "cell_id": "9731d880f9a9423fbc5f37b6f71a8ff8",
    "deepnote_app_coordinates": {
     "h": 5,
     "w": 12,
     "x": 0,
     "y": 211
    },
    "deepnote_cell_type": "markdown",
    "tags": []
   },
   "source": [
    "If put a condition to an array, you will create an array of booleans (booleans will be true if condition is met)\n",
    "\n",
    "example:\n",
    "\n",
    "**crazyarray < 3** will create a booleans array in which the numbers that are less than 3 will be true"
   ]
  },
  {
   "block_group": "9564ba772bd144ed89a2067d58a02a98",
   "cell_type": "code",
   "execution_count": 12,
   "metadata": {
    "cell_id": "9564ba772bd144ed89a2067d58a02a98",
    "deepnote_app_coordinates": {
     "h": 5,
     "w": 12,
     "x": 0,
     "y": 217
    },
    "deepnote_cell_type": "code",
    "deepnote_to_be_reexecuted": false,
    "execution_millis": 5,
    "execution_start": 1668742368223,
    "source_hash": "d318ec9c",
    "tags": []
   },
   "outputs": [
    {
     "name": "stdout",
     "output_type": "stream",
     "text": [
      "[ True  True False False False False False False False False False False]\n"
     ]
    }
   ],
   "source": [
    "#import numpy as np\n",
    "\n",
    "crazylist = [1,2,3,4,5,6,7,8,9,10,11,12]\n",
    "crazyarray = np.array(crazylist)\n",
    "\n",
    "#let´s print an array of conditions\n",
    "conditionals = crazyarray<3\n",
    "\n",
    "print(conditionals)"
   ]
  },
  {
   "block_group": "0fbe1f44512844b9a7f708c17be15971",
   "cell_type": "markdown",
   "metadata": {
    "cell_id": "0fbe1f44512844b9a7f708c17be15971",
    "deepnote_app_coordinates": {
     "h": 5,
     "w": 12,
     "x": 0,
     "y": 223
    },
    "deepnote_cell_type": "text-cell-h3",
    "formattedRanges": [],
    "is_collapsed": false,
    "tags": []
   },
   "source": [
    "### Subset with conditions"
   ]
  },
  {
   "block_group": "3f9b66bf0738467e8b52dad80db364d0",
   "cell_type": "markdown",
   "metadata": {
    "cell_id": "3f9b66bf0738467e8b52dad80db364d0",
    "deepnote_app_coordinates": {
     "h": 5,
     "w": 12,
     "x": 0,
     "y": 229
    },
    "deepnote_cell_type": "markdown",
    "tags": []
   },
   "source": [
    "And finally, if you subset that list of booleans, you can get the actual elements from the array that meet the condition."
   ]
  },
  {
   "block_group": "027ba95600a54bc98999535741124a1e",
   "cell_type": "code",
   "execution_count": 13,
   "metadata": {
    "cell_id": "027ba95600a54bc98999535741124a1e",
    "deepnote_app_coordinates": {
     "h": 5,
     "w": 12,
     "x": 0,
     "y": 235
    },
    "deepnote_cell_type": "code",
    "deepnote_to_be_reexecuted": false,
    "execution_millis": 788,
    "execution_start": 1668818212470,
    "source_hash": "e522d2c1",
    "tags": []
   },
   "outputs": [
    {
     "name": "stdout",
     "output_type": "stream",
     "text": [
      "[1 2 3 4 5]\n",
      "[4 5 6]\n"
     ]
    }
   ],
   "source": [
    "import numpy as np\n",
    "\n",
    "crazylist = [1,2,3,4,5,6,7,8,9,10,11,12]\n",
    "crazyarray = np.array(crazylist)\n",
    "\n",
    "#let´s say that i want to print all the numbers less than 6\n",
    "\n",
    "\n",
    "#this is the condition\n",
    "crazyarray < 6\n",
    "\n",
    "#this is the actual array that i want to print (subset the condition)\n",
    "print(crazyarray[crazyarray < 6])\n",
    "\n",
    "#if we want to set multiple conditions\n",
    "\n",
    "print(crazyarray[(crazyarray>3) & (crazyarray<7)])"
   ]
  },
  {
   "block_group": "1217578476764e429b371c1150f58d8b",
   "cell_type": "markdown",
   "metadata": {
    "cell_id": "1217578476764e429b371c1150f58d8b",
    "deepnote_app_coordinates": {
     "h": 5,
     "w": 12,
     "x": 0,
     "y": 241
    },
    "deepnote_cell_type": "markdown",
    "tags": []
   },
   "source": [
    "a **third argument** inside the indexing box, would indicate the number of steps:\n"
   ]
  },
  {
   "block_group": "6d25cdca88a9423b916ef75f40dcaaa7",
   "cell_type": "code",
   "execution_count": 14,
   "metadata": {
    "cell_id": "6d25cdca88a9423b916ef75f40dcaaa7",
    "deepnote_app_coordinates": {
     "h": 5,
     "w": 12,
     "x": 0,
     "y": 247
    },
    "deepnote_cell_type": "code",
    "deepnote_to_be_reexecuted": false,
    "execution_millis": 5,
    "execution_start": 1668742368247,
    "source_hash": "7032ed4f",
    "tags": []
   },
   "outputs": [
    {
     "name": "stdout",
     "output_type": "stream",
     "text": [
      "[ 1  4  7 10]\n"
     ]
    }
   ],
   "source": [
    "#import numpy as np\n",
    "\n",
    "crazylist = [1,2,3,4,5,6,7,8,9,10,11,12]\n",
    "crazyarray = np.array(crazylist)\n",
    "\n",
    "#three steps sequence\n",
    "print(crazyarray[::3])"
   ]
  },
  {
   "block_group": "451e55e81d8545b2b00129fc3e3043c5",
   "cell_type": "markdown",
   "metadata": {
    "cell_id": "451e55e81d8545b2b00129fc3e3043c5",
    "deepnote_app_coordinates": {
     "h": 5,
     "w": 12,
     "x": 0,
     "y": 253
    },
    "deepnote_cell_type": "text-cell-h1",
    "formattedRanges": [],
    "is_collapsed": false,
    "tags": []
   },
   "source": [
    "# 2D Numpy arrays (just arrays with rows and columns)"
   ]
  },
  {
   "block_group": "91a75bbe53d44540b342912a74ab8493",
   "cell_type": "markdown",
   "metadata": {
    "cell_id": "91a75bbe53d44540b342912a74ab8493",
    "deepnote_app_coordinates": {
     "h": 5,
     "w": 12,
     "x": 0,
     "y": 259
    },
    "deepnote_cell_type": "markdown",
    "tags": []
   },
   "source": [
    "Let´s create a numpy array from two lists, the lists have n objects. Then the array will have two rows and n columns.\n",
    "\n",
    "The **Structure** to create a 2D np.array is:\n",
    "\n",
    "np.array( [  [row_1] , [row_2], [row_3], [row_n]  ] )."
   ]
  },
  {
   "block_group": "722c4cf56b12418da828cba94f59e19f",
   "cell_type": "markdown",
   "metadata": {
    "cell_id": "722c4cf56b12418da828cba94f59e19f",
    "deepnote_app_coordinates": {
     "h": 5,
     "w": 12,
     "x": 0,
     "y": 265
    },
    "deepnote_cell_type": "text-cell-h3",
    "formattedRanges": [],
    "is_collapsed": false,
    "tags": []
   },
   "source": [
    "### creating a 2D array"
   ]
  },
  {
   "block_group": "f8372e7be9c6442c9668db90f2002b75",
   "cell_type": "markdown",
   "metadata": {
    "cell_id": "f8372e7be9c6442c9668db90f2002b75",
    "deepnote_app_coordinates": {
     "h": 5,
     "w": 12,
     "x": 0,
     "y": 271
    },
    "deepnote_cell_type": "markdown",
    "tags": []
   },
   "source": [
    "example: *create an array of 3 rows and 3 columns with numbers from 1 to 9*"
   ]
  },
  {
   "block_group": "4f33804d7507466db369b6b32fa53a92",
   "cell_type": "code",
   "execution_count": 15,
   "metadata": {
    "cell_id": "4f33804d7507466db369b6b32fa53a92",
    "deepnote_app_coordinates": {
     "h": 5,
     "w": 12,
     "x": 0,
     "y": 277
    },
    "deepnote_cell_type": "code",
    "deepnote_to_be_reexecuted": false,
    "execution_millis": 4,
    "execution_start": 1668742368248,
    "source_hash": "ba25bed5",
    "tags": []
   },
   "outputs": [
    {
     "name": "stdout",
     "output_type": "stream",
     "text": [
      "[[1 2 3]\n",
      " [4 5 6]\n",
      " [7 8 9]]\n",
      "this array has the following amount of rows and columns respectively:\n",
      "(3, 3)\n"
     ]
    }
   ],
   "source": [
    "my_array = np.array( [ [1,2,3] , [4,5,6] , [7,8,9] ] )\n",
    "\n",
    "print(my_array)\n",
    "\n",
    "#now print the number of rows and columns\n",
    "print(\"this array has the following amount of rows and columns respectively:\")\n",
    "print(my_array.shape)"
   ]
  },
  {
   "block_group": "eff33dec793f41f3b1a2156d6b54fd85",
   "cell_type": "markdown",
   "metadata": {
    "cell_id": "eff33dec793f41f3b1a2156d6b54fd85",
    "deepnote_app_coordinates": {
     "h": 5,
     "w": 12,
     "x": 0,
     "y": 283
    },
    "deepnote_cell_type": "markdown",
    "tags": []
   },
   "source": [
    "another example:"
   ]
  },
  {
   "block_group": "66710ae5ad8d40898417bd21fd039227",
   "cell_type": "code",
   "execution_count": 16,
   "metadata": {
    "cell_id": "66710ae5ad8d40898417bd21fd039227",
    "deepnote_app_coordinates": {
     "h": 5,
     "w": 12,
     "x": 0,
     "y": 289
    },
    "deepnote_cell_type": "code",
    "deepnote_to_be_reexecuted": false,
    "execution_millis": 6,
    "execution_start": 1668742368250,
    "source_hash": "8db1d1e3",
    "tags": []
   },
   "outputs": [
    {
     "name": "stdout",
     "output_type": "stream",
     "text": [
      "[[ 1.73  1.68  1.71  1.89  1.79]\n",
      " [65.4  59.2  63.6  88.4  68.7 ]]\n",
      "rows and columns respectively are:\n",
      "(2, 5)\n"
     ]
    }
   ],
   "source": [
    "import numpy as np\n",
    "\n",
    "np_height = [1.73, 1.68, 1.71, 1.89, 1.79]\n",
    "np_weight = [65.4, 59.2, 63.6, 88.4, 68.7]\n",
    "\n",
    "#this is the 2D array\n",
    "np_bigarray = np.array([np_height, np_weight])\n",
    "\n",
    "print(np_bigarray)\n",
    "print(\"rows and columns respectively are:\")\n",
    "print(np_bigarray.shape)"
   ]
  },
  {
   "block_group": "4d63f43212864b0695c90455ff710fc5",
   "cell_type": "markdown",
   "metadata": {
    "cell_id": "4d63f43212864b0695c90455ff710fc5",
    "deepnote_app_coordinates": {
     "h": 5,
     "w": 12,
     "x": 0,
     "y": 295
    },
    "deepnote_cell_type": "text-cell-h2",
    "formattedRanges": [],
    "is_collapsed": false,
    "tags": []
   },
   "source": [
    "## how to subset in a 2D array"
   ]
  },
  {
   "block_group": "eed15a92fd744f7aafed3e6fdd903abe",
   "cell_type": "markdown",
   "metadata": {
    "cell_id": "eed15a92fd744f7aafed3e6fdd903abe",
    "deepnote_app_coordinates": {
     "h": 5,
     "w": 12,
     "x": 0,
     "y": 301
    },
    "deepnote_cell_type": "markdown",
    "tags": []
   },
   "source": [
    "structure:\n",
    "\n",
    "**arrayname[rowindex, colindex]**\n",
    "\n",
    "or\n",
    "\n",
    "**arrayname[rowindex][colindex]**\n",
    "\n",
    "example:"
   ]
  },
  {
   "block_group": "85c1a7699e0d4431852110e92eb8d35a",
   "cell_type": "code",
   "execution_count": 17,
   "metadata": {
    "cell_id": "85c1a7699e0d4431852110e92eb8d35a",
    "deepnote_app_coordinates": {
     "h": 5,
     "w": 12,
     "x": 0,
     "y": 307
    },
    "deepnote_cell_type": "code",
    "deepnote_to_be_reexecuted": false,
    "execution_millis": 578016,
    "execution_start": 1668742368285,
    "source_hash": "faaa2358",
    "tags": []
   },
   "outputs": [
    {
     "name": "stdout",
     "output_type": "stream",
     "text": [
      "1.73\n",
      "1.73\n"
     ]
    }
   ],
   "source": [
    "#import numpy as np\n",
    "\n",
    "np_height = [1.73, 1.68, 1.71, 1.89, 1.79]\n",
    "np_weight = [65.4, 59.2, 63.6, 88.4, 68.7]\n",
    "\n",
    "np_bigarray = np.array([np_height, np_weight])\n",
    "\n",
    "b = np_bigarray[0,0] #note that this will be element located in first row and first col\n",
    "alsob = np_bigarray[0][0] #same thing but with another structure\n",
    "\n",
    "print(b)\n",
    "print(alsob)"
   ]
  },
  {
   "block_group": "e80d2953c8aa4702bc1c63e450e356db",
   "cell_type": "markdown",
   "metadata": {
    "cell_id": "e80d2953c8aa4702bc1c63e450e356db",
    "deepnote_app_coordinates": {
     "h": 5,
     "w": 12,
     "x": 0,
     "y": 313
    },
    "deepnote_cell_type": "text-cell-h3",
    "formattedRanges": [],
    "is_collapsed": false,
    "tags": []
   },
   "source": [
    "### row-col subsetting"
   ]
  },
  {
   "block_group": "ab7fc20ce3e544a7ad7dbd2e17371d9d",
   "cell_type": "markdown",
   "metadata": {
    "cell_id": "ab7fc20ce3e544a7ad7dbd2e17371d9d",
    "deepnote_app_coordinates": {
     "h": 5,
     "w": 12,
     "x": 0,
     "y": 319
    },
    "deepnote_cell_type": "markdown",
    "tags": []
   },
   "source": [
    "Now your mission is *print the element from **row 2** and **col 3***.\n",
    "\n",
    "remember that the array is:\n",
    "\n",
    "[\n",
    " [1.73, 1.68, 1.71, 1.89, 1.79],\n",
    " [65.4, 59.2, 63.6, 88.4, 68.7]\n",
    "]"
   ]
  },
  {
   "block_group": "cadf75e9fcc7471eb427904736a0b9a0",
   "cell_type": "code",
   "execution_count": 18,
   "metadata": {
    "cell_id": "cadf75e9fcc7471eb427904736a0b9a0",
    "deepnote_app_coordinates": {
     "h": 5,
     "w": 12,
     "x": 0,
     "y": 325
    },
    "deepnote_cell_type": "code",
    "deepnote_to_be_reexecuted": false,
    "execution_millis": 3,
    "execution_start": 1668742368285,
    "source_hash": "98913b20",
    "tags": []
   },
   "outputs": [
    {
     "name": "stdout",
     "output_type": "stream",
     "text": [
      "63.6\n",
      "Good job\n"
     ]
    }
   ],
   "source": [
    "#import numpy as np\n",
    "\n",
    "np_height = [1.73, 1.68, 1.71, 1.89, 1.79]\n",
    "np_weight = [65.4, 59.2, 63.6, 88.4, 68.7]\n",
    "\n",
    "np_bigarray = np.array([np_height, np_weight])\n",
    "\n",
    "element = np_bigarray[1,2] #note that this will be element located in row 2 and col 3\n",
    "\n",
    "print(element)\n",
    "\n",
    "if element == 63.6:\n",
    "    print(\"Good job\")\n",
    "else:\n",
    "    print(\"F bro\")"
   ]
  },
  {
   "block_group": "0f79cbd4e0454749b54c0b88642a5ce7",
   "cell_type": "markdown",
   "metadata": {
    "cell_id": "0f79cbd4e0454749b54c0b88642a5ce7",
    "deepnote_app_coordinates": {
     "h": 5,
     "w": 12,
     "x": 0,
     "y": 331
    },
    "deepnote_cell_type": "text-cell-h3",
    "formattedRanges": [],
    "is_collapsed": false,
    "tags": []
   },
   "source": [
    "### full row subsetting"
   ]
  },
  {
   "block_group": "7b8ac9fe03d54e6b8f0d8e3c33bf2675",
   "cell_type": "markdown",
   "metadata": {
    "cell_id": "7b8ac9fe03d54e6b8f0d8e3c33bf2675",
    "deepnote_app_coordinates": {
     "h": 5,
     "w": 12,
     "x": 0,
     "y": 337
    },
    "deepnote_cell_type": "markdown",
    "tags": []
   },
   "source": [
    "Let´s subset a full row:\n",
    "\n",
    "*array:*\n",
    "[\n",
    "[1.73, 1.68, 1.71, 1.89, 1.79],\n",
    "[65.4, 59.2, 63.6, 88.4, 68.7]\n",
    "]"
   ]
  },
  {
   "block_group": "425336d5e70f499ebf57ca10ceb47251",
   "cell_type": "code",
   "execution_count": 19,
   "metadata": {
    "cell_id": "425336d5e70f499ebf57ca10ceb47251",
    "deepnote_app_coordinates": {
     "h": 5,
     "w": 12,
     "x": 0,
     "y": 343
    },
    "deepnote_cell_type": "code",
    "deepnote_to_be_reexecuted": false,
    "execution_millis": 3,
    "execution_start": 1668742368286,
    "source_hash": "c717f6b9",
    "tags": []
   },
   "outputs": [
    {
     "name": "stdout",
     "output_type": "stream",
     "text": [
      "[1.73 1.68 1.71 1.89 1.79]\n"
     ]
    }
   ],
   "source": [
    "#import numpy as np\n",
    "\n",
    "np_height = [1.73, 1.68, 1.71, 1.89, 1.79]\n",
    "np_weight = [65.4, 59.2, 63.6, 88.4, 68.7]\n",
    "\n",
    "np_bigarray = np.array([np_height, np_weight])\n",
    "\n",
    "#first row\n",
    "print(np_bigarray[0])"
   ]
  },
  {
   "block_group": "26d6e60bb13e482e80f9bc4183aa78b6",
   "cell_type": "markdown",
   "metadata": {
    "cell_id": "26d6e60bb13e482e80f9bc4183aa78b6",
    "deepnote_app_coordinates": {
     "h": 5,
     "w": 12,
     "x": 0,
     "y": 349
    },
    "deepnote_cell_type": "text-cell-h3",
    "formattedRanges": [],
    "is_collapsed": false,
    "tags": []
   },
   "source": [
    "### full column subsetting"
   ]
  },
  {
   "block_group": "d96471d4b6c848159fced36ac2f33486",
   "cell_type": "markdown",
   "metadata": {
    "cell_id": "d96471d4b6c848159fced36ac2f33486",
    "deepnote_app_coordinates": {
     "h": 5,
     "w": 12,
     "x": 0,
     "y": 355
    },
    "deepnote_cell_type": "markdown",
    "tags": []
   },
   "source": [
    "\n",
    "\n",
    "structure[ : , columnindex]\n",
    "\n",
    "*note that \":\" means **take all rows**, then columnindex is just the index of the column that you wish*"
   ]
  },
  {
   "block_group": "d0b6fedc9ba547e1b7163ffe84b75763",
   "cell_type": "code",
   "execution_count": 20,
   "metadata": {
    "cell_id": "d0b6fedc9ba547e1b7163ffe84b75763",
    "deepnote_app_coordinates": {
     "h": 5,
     "w": 12,
     "x": 0,
     "y": 361
    },
    "deepnote_cell_type": "code",
    "deepnote_to_be_reexecuted": false,
    "execution_millis": 55,
    "execution_start": 1668742368290,
    "source_hash": "ee1ce16a",
    "tags": []
   },
   "outputs": [
    {
     "name": "stdout",
     "output_type": "stream",
     "text": [
      "[ 1.73 65.4 ]\n",
      "[[ 1.71  1.89]\n",
      " [63.6  88.4 ]]\n"
     ]
    }
   ],
   "source": [
    "#import numpy as np\n",
    "\n",
    "np_height = [1.73, 1.68, 1.71, 1.89, 1.79]\n",
    "np_weight = [65.4, 59.2, 63.6, 88.4, 68.7]\n",
    "\n",
    "np_bigarray = np.array([np_height, np_weight])\n",
    "\n",
    "#first column\n",
    "print(np_bigarray[ : , 0])\n",
    "\n",
    "#third and fourth column\n",
    "print(np_bigarray[ : , 2:4])\n",
    "# 2:4 means:\n",
    "#\"take from column index 2 (which is actual column 3) to column index 3 (which is actual column 4)\" \n",
    "#btw the column index 4 is not included"
   ]
  },
  {
   "block_group": "ba8f77f69ec44ca19101dcf54459c6eb",
   "cell_type": "markdown",
   "metadata": {
    "cell_id": "ba8f77f69ec44ca19101dcf54459c6eb",
    "deepnote_app_coordinates": {
     "h": 5,
     "w": 12,
     "x": 0,
     "y": 367
    },
    "deepnote_cell_type": "text-cell-h2",
    "formattedRanges": [],
    "is_collapsed": false,
    "tags": []
   },
   "source": [
    "## Numpy statistical functions"
   ]
  },
  {
   "block_group": "69bd1f7d13584ae68991e3c13b918186",
   "cell_type": "markdown",
   "metadata": {
    "cell_id": "69bd1f7d13584ae68991e3c13b918186",
    "deepnote_app_coordinates": {
     "h": 5,
     "w": 12,
     "x": 0,
     "y": 373
    },
    "deepnote_cell_type": "markdown",
    "tags": []
   },
   "source": [
    "np.mean(array)                    #this can tell you the mean of your data\n",
    "np.median(array)                  #this can tell you the median of your data\n",
    "np.corrcoef(array[col1], [col2])  #this can tell you if col1 and col2 are correlated\n",
    "np.std(array)                     #standart deviation\n",
    "np.var(array)                     #variance"
   ]
  },
  {
   "block_group": "016be3c1845247b482129d87f4fcbcf0",
   "cell_type": "code",
   "execution_count": 21,
   "metadata": {
    "cell_id": "016be3c1845247b482129d87f4fcbcf0",
    "deepnote_app_coordinates": {
     "h": 5,
     "w": 12,
     "x": 0,
     "y": 379
    },
    "deepnote_cell_type": "code",
    "deepnote_to_be_reexecuted": false,
    "execution_millis": 10,
    "execution_start": 1668742368344,
    "source_hash": "adea6149",
    "tags": []
   },
   "outputs": [
    {
     "name": "stdout",
     "output_type": "stream",
     "text": [
      "mean:\n",
      "1.7833333333333332\n",
      "median:\n",
      "1.8249999999999997\n",
      "correlation:\n",
      "[[1.         0.64924262]\n",
      " [0.64924262 1.        ]]\n",
      "stdev:\n",
      "0.2608107018935807\n"
     ]
    }
   ],
   "source": [
    "array = np.array([\n",
    "    [1.64, 71.78],\n",
    "    [1.37, 63.35],       \n",
    "    [1.6 , 55.09],      \n",
    "    [2.04, 74.85],       \n",
    "    [2.04, 68.72],       \n",
    "    [2.01, 73.57]\n",
    "])\n",
    "\n",
    "#calculate mean from first column\n",
    "print(\"mean:\")\n",
    "print(np.mean(array[:, 0]))\n",
    "\n",
    "#calculate median from first column\n",
    "print(\"median:\")\n",
    "print(np.median(array[:, 0]))\n",
    "\n",
    "#calculate correlation between first and second col\n",
    "print(\"correlation:\")\n",
    "print(np.corrcoef(array[:, 0], array[:, 1] ))\n",
    "\n",
    "#calculate stdev from first column\n",
    "print(\"stdev:\")\n",
    "print(np.std(array[:, 0]))"
   ]
  },
  {
   "block_group": "7a2ca961369c4495924fb20078ad3215",
   "cell_type": "markdown",
   "metadata": {
    "cell_id": "7a2ca961369c4495924fb20078ad3215",
    "deepnote_app_coordinates": {
     "h": 5,
     "w": 12,
     "x": 0,
     "y": 385
    },
    "deepnote_cell_type": "text-cell-h1",
    "formattedRanges": [],
    "is_collapsed": false,
    "tags": []
   },
   "source": [
    "# Copy an array (BE CAREFUL)"
   ]
  },
  {
   "block_group": "092d37be3458476c90e44440797a4561",
   "cell_type": "markdown",
   "metadata": {
    "cell_id": "092d37be3458476c90e44440797a4561",
    "deepnote_app_coordinates": {
     "h": 5,
     "w": 12,
     "x": 0,
     "y": 391
    },
    "deepnote_cell_type": "markdown",
    "tags": []
   },
   "source": [
    "supose we have an array of the numbers from 1 to 10"
   ]
  },
  {
   "block_group": "5955f1c536de4cb99c57776d8edfa6bd",
   "cell_type": "code",
   "execution_count": 22,
   "metadata": {
    "cell_id": "5955f1c536de4cb99c57776d8edfa6bd",
    "deepnote_app_coordinates": {
     "h": 5,
     "w": 12,
     "x": 0,
     "y": 397
    },
    "deepnote_cell_type": "code",
    "deepnote_to_be_reexecuted": false,
    "execution_millis": 4,
    "execution_start": 1668742368353,
    "source_hash": "3c600db8",
    "tags": []
   },
   "outputs": [
    {
     "name": "stdout",
     "output_type": "stream",
     "text": [
      "[ 0  1  2  3  4  5  6  7  8  9 10]\n"
     ]
    }
   ],
   "source": [
    "my_array = np.arange(0, 11)\n",
    "\n",
    "print(my_array)"
   ]
  },
  {
   "block_group": "a6f4edfd7eac4b6e99b0d8b5fcaec6fa",
   "cell_type": "markdown",
   "metadata": {
    "cell_id": "a6f4edfd7eac4b6e99b0d8b5fcaec6fa",
    "deepnote_app_coordinates": {
     "h": 5,
     "w": 12,
     "x": 0,
     "y": 403
    },
    "deepnote_cell_type": "markdown",
    "tags": []
   },
   "source": [
    "and suddenly we just want to work with the first 5 elements"
   ]
  },
  {
   "block_group": "048998cb828548ce85673bc3adfd3efc",
   "cell_type": "code",
   "execution_count": 23,
   "metadata": {
    "cell_id": "048998cb828548ce85673bc3adfd3efc",
    "deepnote_app_coordinates": {
     "h": 5,
     "w": 12,
     "x": 0,
     "y": 409
    },
    "deepnote_cell_type": "code",
    "deepnote_to_be_reexecuted": false,
    "execution_millis": 3,
    "execution_start": 1668742368376,
    "source_hash": "d73c4166",
    "tags": []
   },
   "outputs": [
    {
     "name": "stdout",
     "output_type": "stream",
     "text": [
      "[0 1 2 3 4 5]\n"
     ]
    }
   ],
   "source": [
    "sub_array = my_array[0:6]\n",
    "\n",
    "print(sub_array)"
   ]
  },
  {
   "block_group": "40c9323771b14eb09b6e2ccc087c77f2",
   "cell_type": "markdown",
   "metadata": {
    "cell_id": "40c9323771b14eb09b6e2ccc087c77f2",
    "deepnote_app_coordinates": {
     "h": 5,
     "w": 12,
     "x": 0,
     "y": 415
    },
    "deepnote_cell_type": "markdown",
    "tags": []
   },
   "source": [
    "ok, now i would like to modify the elements of sub_array"
   ]
  },
  {
   "block_group": "1be8b090905a4fc2a8bebb6c089fd89f",
   "cell_type": "code",
   "execution_count": 24,
   "metadata": {
    "cell_id": "1be8b090905a4fc2a8bebb6c089fd89f",
    "deepnote_app_coordinates": {
     "h": 5,
     "w": 12,
     "x": 0,
     "y": 421
    },
    "deepnote_cell_type": "code",
    "deepnote_to_be_reexecuted": false,
    "execution_millis": 2,
    "execution_start": 1668742368377,
    "source_hash": "dcc0a77b",
    "tags": []
   },
   "outputs": [
    {
     "name": "stdout",
     "output_type": "stream",
     "text": [
      "[0 0 0 0 0 0]\n"
     ]
    }
   ],
   "source": [
    "sub_array[:] = 0\n",
    "\n",
    "print(sub_array)"
   ]
  },
  {
   "block_group": "b9a850526035418ea28f42ef68f11db2",
   "cell_type": "markdown",
   "metadata": {
    "cell_id": "b9a850526035418ea28f42ef68f11db2",
    "deepnote_app_coordinates": {
     "h": 5,
     "w": 12,
     "x": 0,
     "y": 427
    },
    "deepnote_cell_type": "markdown",
    "tags": []
   },
   "source": [
    "nice! now, i just made the changes in my sub array\n",
    "\n",
    "**was my original array modified as well?**\n",
    "\n",
    "let's see"
   ]
  },
  {
   "block_group": "2ac2ac9d4b474092925d5e035423c489",
   "cell_type": "code",
   "execution_count": 25,
   "metadata": {
    "cell_id": "2ac2ac9d4b474092925d5e035423c489",
    "deepnote_app_coordinates": {
     "h": 5,
     "w": 12,
     "x": 0,
     "y": 433
    },
    "deepnote_cell_type": "code",
    "deepnote_to_be_reexecuted": false,
    "execution_millis": 3,
    "execution_start": 1668742368377,
    "source_hash": "3e310e53",
    "tags": []
   },
   "outputs": [
    {
     "name": "stdout",
     "output_type": "stream",
     "text": [
      "[ 0  0  0  0  0  0  6  7  8  9 10]\n"
     ]
    }
   ],
   "source": [
    "print(my_array)"
   ]
  },
  {
   "block_group": "cb59ab98198845a6a2ca0e0afff864d2",
   "cell_type": "markdown",
   "metadata": {
    "cell_id": "cb59ab98198845a6a2ca0e0afff864d2",
    "deepnote_app_coordinates": {
     "h": 5,
     "w": 12,
     "x": 0,
     "y": 439
    },
    "deepnote_cell_type": "markdown",
    "tags": []
   },
   "source": [
    "This is not what we want!!!!! the original array was modified!!!!\n",
    "\n",
    "**This can seriously damage your dataset**\n",
    "\n",
    "the solution is\n",
    "\n",
    "**.copy()**"
   ]
  },
  {
   "block_group": "c613fe1b9513424b91d48bb9eb6f2a98",
   "cell_type": "code",
   "execution_count": 26,
   "metadata": {
    "cell_id": "c613fe1b9513424b91d48bb9eb6f2a98",
    "deepnote_app_coordinates": {
     "h": 5,
     "w": 12,
     "x": 0,
     "y": 445
    },
    "deepnote_cell_type": "code",
    "deepnote_to_be_reexecuted": false,
    "execution_millis": 3,
    "execution_start": 1668742368380,
    "source_hash": "e8238f82",
    "tags": []
   },
   "outputs": [
    {
     "name": "stdout",
     "output_type": "stream",
     "text": [
      "before transformation:\n",
      "my_array [ 0  0  0  0  0  0  6  7  8  9 10]\n",
      "my_array_copy [ 0  0  0  0  0  0  6  7  8  9 10]\n",
      "after transformation:\n",
      "my_array [0 0 0 0 0 0 0 0 0 0 0]\n",
      "my_array_copy [ 0  0  0  0  0  0  6  7  8  9 10]\n"
     ]
    }
   ],
   "source": [
    "my_array_copy = my_array.copy()\n",
    "\n",
    "print(\"before transformation:\")\n",
    "print(\"my_array\", my_array)\n",
    "print(\"my_array_copy\", my_array_copy)\n",
    "\n",
    "\n",
    "#let's transform my_array\n",
    "\n",
    "my_array[:] = 0\n",
    "\n",
    "\n",
    "print(\"after transformation:\")\n",
    "print(\"my_array\", my_array)\n",
    "print(\"my_array_copy\", my_array_copy)\n"
   ]
  },
  {
   "block_group": "b6be4b4ea28b47f59375962d9c4aa0f9",
   "cell_type": "markdown",
   "metadata": {
    "cell_id": "b6be4b4ea28b47f59375962d9c4aa0f9",
    "deepnote_app_coordinates": {
     "h": 5,
     "w": 12,
     "x": 0,
     "y": 451
    },
    "deepnote_cell_type": "text-cell-h1",
    "formattedRanges": [],
    "is_collapsed": false,
    "tags": []
   },
   "source": [
    "# Numpy Useful Methods"
   ]
  },
  {
   "block_group": "1b4b99ece9224f718eabd262fcaedc01",
   "cell_type": "markdown",
   "metadata": {
    "cell_id": "1b4b99ece9224f718eabd262fcaedc01",
    "deepnote_app_coordinates": {
     "h": 5,
     "w": 12,
     "x": 0,
     "y": 457
    },
    "deepnote_cell_type": "text-cell-h2",
    "formattedRanges": [],
    "is_collapsed": false,
    "tags": []
   },
   "source": [
    "## Generate data with a normal distribution"
   ]
  },
  {
   "block_group": "b48cac63116a4781b8aad7913e5cb951",
   "cell_type": "markdown",
   "metadata": {
    "cell_id": "b48cac63116a4781b8aad7913e5cb951",
    "deepnote_app_coordinates": {
     "h": 5,
     "w": 12,
     "x": 0,
     "y": 463
    },
    "deepnote_cell_type": "markdown",
    "tags": []
   },
   "source": [
    "you can generate data with a normal distribution with np.random.normal()\n",
    "\n",
    "**structure:**\n",
    "np.random.normal (mean, sd, sample_size)"
   ]
  },
  {
   "block_group": "6d1049db698d482c96770a7726972f9f",
   "cell_type": "code",
   "execution_count": 27,
   "metadata": {
    "cell_id": "6d1049db698d482c96770a7726972f9f",
    "deepnote_app_coordinates": {
     "h": 5,
     "w": 12,
     "x": 0,
     "y": 469
    },
    "deepnote_cell_type": "code",
    "deepnote_to_be_reexecuted": false,
    "execution_millis": 37,
    "execution_start": 1668742368426,
    "source_hash": "e5d9eb4b",
    "tags": []
   },
   "outputs": [
    {
     "name": "stdout",
     "output_type": "stream",
     "text": [
      "[1.83487471 1.59298401 1.97363294 ... 1.82536185 1.07024984 1.82003362]\n"
     ]
    }
   ],
   "source": [
    "import numpy as np\n",
    "\n",
    "#let´s create an array of height with mean 1.75 and sd = 0.20 for 5000 people\n",
    "height = np.random.normal(1.75, 0.20, 5000)\n",
    "\n",
    "print(height)"
   ]
  },
  {
   "block_group": "0535eeef5be847618ac137a43329252e",
   "cell_type": "markdown",
   "metadata": {
    "cell_id": "0535eeef5be847618ac137a43329252e",
    "deepnote_app_coordinates": {
     "h": 5,
     "w": 12,
     "x": 0,
     "y": 475
    },
    "deepnote_cell_type": "text-cell-h2",
    "formattedRanges": [],
    "is_collapsed": false,
    "tags": []
   },
   "source": [
    "## Generate a random number between 0 and 1"
   ]
  },
  {
   "block_group": "df292f6b1544462aa53dbfc4c78c1ece",
   "cell_type": "code",
   "execution_count": 28,
   "metadata": {
    "cell_id": "df292f6b1544462aa53dbfc4c78c1ece",
    "deepnote_app_coordinates": {
     "h": 5,
     "w": 12,
     "x": 0,
     "y": 481
    },
    "deepnote_cell_type": "code",
    "deepnote_to_be_reexecuted": false,
    "execution_millis": 2,
    "execution_start": 1668742368462,
    "source_hash": "4247940e",
    "tags": []
   },
   "outputs": [
    {
     "name": "stdout",
     "output_type": "stream",
     "text": [
      "0.7217664441405948\n",
      "[0.41969204 0.51746925 0.47584953 0.28610208 0.76432213]\n",
      "[[0.18397203 0.738653   0.83709204 0.49924172 0.34224397 0.42791657\n",
      "  0.92612386]\n",
      " [0.08081806 0.1280082  0.19119259 0.25129989 0.58912103 0.92936342\n",
      "  0.97576107]\n",
      " [0.91017151 0.35406689 0.7114037  0.84794622 0.9467253  0.00920893\n",
      "  0.72588155]\n",
      " [0.3991321  0.12905765 0.4995936  0.50861837 0.70815928 0.97624481\n",
      "  0.82421081]\n",
      " [0.33757498 0.33519419 0.05755154 0.72333293 0.53912569 0.55919818\n",
      "  0.54597557]]\n"
     ]
    }
   ],
   "source": [
    "#with np.random.rand() you generate a random number between 0 and 1\n",
    "import numpy as np\n",
    "\n",
    "print(np.random.rand())\n",
    "\n",
    "#if you add an argument n, it will generate an array containing n random numbers between 0 and 1\n",
    "print( np.random.rand(5) )\n",
    "\n",
    "#if you add two arguments m,n. It will generate an array of random numbers between 0 & 1 and\n",
    "#m columns x n rows\n",
    "print( np.random.rand(5,7) )"
   ]
  },
  {
   "block_group": "ff1115c72db647fd917b0a9949148de4",
   "cell_type": "markdown",
   "metadata": {
    "cell_id": "ff1115c72db647fd917b0a9949148de4",
    "deepnote_app_coordinates": {
     "h": 5,
     "w": 12,
     "x": 0,
     "y": 487
    },
    "deepnote_cell_type": "text-cell-h2",
    "formattedRanges": [],
    "is_collapsed": false,
    "tags": []
   },
   "source": [
    "## Generate a random number between a and b"
   ]
  },
  {
   "block_group": "85c01601fda2452b8bdaadc2c8c47bcd",
   "cell_type": "code",
   "execution_count": 29,
   "metadata": {
    "cell_id": "85c01601fda2452b8bdaadc2c8c47bcd",
    "deepnote_app_coordinates": {
     "h": 5,
     "w": 12,
     "x": 0,
     "y": 493
    },
    "deepnote_cell_type": "code",
    "deepnote_to_be_reexecuted": false,
    "execution_millis": 3,
    "execution_start": 1668742368462,
    "source_hash": "8a658e32",
    "tags": []
   },
   "outputs": [
    {
     "name": "stdout",
     "output_type": "stream",
     "text": [
      "6\n",
      "[[17  3 10  5 19]\n",
      " [14  5  4 16  1]\n",
      " [12 19  1  2 14]\n",
      " [ 1  7 11 17 10]\n",
      " [10  3 17  1 18]]\n"
     ]
    }
   ],
   "source": [
    "import numpy as np\n",
    "\n",
    "#random between a & b\n",
    "print( np.random.randint(1,20) )\n",
    "#1 = a & 20 = b\n",
    "\n",
    "\n",
    "\n",
    "#random ARRAY between a & b\n",
    "print( np.random.randint(1,20, (5,5)) ) \n",
    "#the last tuple (5,5) just indicates the dimensions of the array\n"
   ]
  },
  {
   "block_group": "ee634c19eb06489c8aa6de2110a24850",
   "cell_type": "markdown",
   "metadata": {
    "cell_id": "ee634c19eb06489c8aa6de2110a24850",
    "deepnote_app_coordinates": {
     "h": 5,
     "w": 12,
     "x": 0,
     "y": 499
    },
    "deepnote_cell_type": "text-cell-h2",
    "formattedRanges": [],
    "is_collapsed": false,
    "tags": []
   },
   "source": [
    "## Concatenate arrays"
   ]
  },
  {
   "block_group": "5efcd84ee3df4f0fb526c40e7c738fa0",
   "cell_type": "code",
   "execution_count": 30,
   "metadata": {
    "cell_id": "5efcd84ee3df4f0fb526c40e7c738fa0",
    "deepnote_app_coordinates": {
     "h": 5,
     "w": 12,
     "x": 0,
     "y": 505
    },
    "deepnote_cell_type": "code",
    "deepnote_to_be_reexecuted": false,
    "execution_millis": 28,
    "execution_start": 1668742368474,
    "source_hash": "9f6fa208",
    "tags": []
   },
   "outputs": [
    {
     "name": "stdout",
     "output_type": "stream",
     "text": [
      "[[1 2]\n",
      " [3 4]]\n",
      "[[5 6]]\n",
      "[[1 2]\n",
      " [3 4]\n",
      " [5 6]]\n"
     ]
    }
   ],
   "source": [
    "import numpy as np\n",
    "\n",
    "a = np.array([[1,2], [3,4]])\n",
    "\n",
    "b = np.array([5,6])\n",
    "b = np.expand_dims(b, axis=0)\n",
    "c = np.concatenate( (a, b), axis=0 )\n",
    "\n",
    "print(a)\n",
    "print(b)\n",
    "print(c)"
   ]
  },
  {
   "block_group": "ed3575c0d3914b1e9b47e2238c58c9d6",
   "cell_type": "markdown",
   "metadata": {
    "cell_id": "ed3575c0d3914b1e9b47e2238c58c9d6",
    "deepnote_app_coordinates": {
     "h": 5,
     "w": 12,
     "x": 0,
     "y": 511
    },
    "deepnote_cell_type": "text-cell-h2",
    "formattedRanges": [],
    "is_collapsed": false,
    "tags": []
   },
   "source": [
    "## merge two arrays into a 2D array"
   ]
  },
  {
   "block_group": "b62a269fdfd74d24902535afd00262f7",
   "cell_type": "code",
   "execution_count": 31,
   "metadata": {
    "cell_id": "b62a269fdfd74d24902535afd00262f7",
    "deepnote_app_coordinates": {
     "h": 5,
     "w": 12,
     "x": 0,
     "y": 517
    },
    "deepnote_cell_type": "code",
    "deepnote_to_be_reexecuted": false,
    "execution_millis": 20,
    "execution_start": 1668742368483,
    "source_hash": "a977737b",
    "tags": []
   },
   "outputs": [
    {
     "name": "stdout",
     "output_type": "stream",
     "text": [
      "[[ 1.64934121 55.92081081]\n",
      " [ 1.65947285 89.04802018]\n",
      " [ 1.82978068 74.56895188]\n",
      " ...\n",
      " [ 1.69891834 59.34915382]\n",
      " [ 1.64297808 46.20537603]\n",
      " [ 1.72259225 58.23620619]]\n"
     ]
    }
   ],
   "source": [
    "import numpy as np\n",
    "\n",
    "#let´s create an array of height with mean 1.75 and sd = 0.20 for 5000 people\n",
    "height = np.random.normal(1.75, 0.20, 5000)\n",
    "\n",
    "#let´s create an array of weight with mean 60.32 and sd = 15 for 5000 people\n",
    "weight = np.random.normal(60.32, 15, 5000)\n",
    "\n",
    "np_city = np.column_stack((height, weight))\n",
    "\n",
    "print(np_city)"
   ]
  },
  {
   "block_group": "e7a01ec109aa44d283faba35c7b996e8",
   "cell_type": "markdown",
   "metadata": {
    "cell_id": "e7a01ec109aa44d283faba35c7b996e8",
    "deepnote_app_coordinates": {
     "h": 5,
     "w": 12,
     "x": 0,
     "y": 523
    },
    "deepnote_cell_type": "text-cell-h2",
    "formattedRanges": [],
    "is_collapsed": false,
    "tags": []
   },
   "source": [
    "## Generate an array given an interval"
   ]
  },
  {
   "block_group": "b60521fe292648fe85b3a9951c518957",
   "cell_type": "markdown",
   "metadata": {
    "cell_id": "b60521fe292648fe85b3a9951c518957",
    "deepnote_app_coordinates": {
     "h": 5,
     "w": 12,
     "x": 0,
     "y": 529
    },
    "deepnote_cell_type": "markdown",
    "tags": []
   },
   "source": [
    "the method np.**arange** is used to create an array given a numeric interval.\n",
    "\n",
    "Structure:\n",
    "\n",
    "np.arange(*leftlimit*, *rightlimit*, *steps*)"
   ]
  },
  {
   "block_group": "c06f67c723a24fc59d011d04ddfd712e",
   "cell_type": "code",
   "execution_count": 32,
   "metadata": {
    "cell_id": "c06f67c723a24fc59d011d04ddfd712e",
    "deepnote_app_coordinates": {
     "h": 5,
     "w": 12,
     "x": 0,
     "y": 535
    },
    "deepnote_cell_type": "code",
    "deepnote_to_be_reexecuted": false,
    "execution_millis": 13,
    "execution_start": 1668742368491,
    "source_hash": "9140c15d",
    "tags": []
   },
   "outputs": [
    {
     "name": "stdout",
     "output_type": "stream",
     "text": [
      "[  0   1   2   3   4   5   6   7   8   9  10  11  12  13  14  15  16  17\n",
      "  18  19  20  21  22  23  24  25  26  27  28  29  30  31  32  33  34  35\n",
      "  36  37  38  39  40  41  42  43  44  45  46  47  48  49  50  51  52  53\n",
      "  54  55  56  57  58  59  60  61  62  63  64  65  66  67  68  69  70  71\n",
      "  72  73  74  75  76  77  78  79  80  81  82  83  84  85  86  87  88  89\n",
      "  90  91  92  93  94  95  96  97  98  99 100]\n",
      "[  0   2   4   6   8  10  12  14  16  18  20  22  24  26  28  30  32  34\n",
      "  36  38  40  42  44  46  48  50  52  54  56  58  60  62  64  66  68  70\n",
      "  72  74  76  78  80  82  84  86  88  90  92  94  96  98 100]\n"
     ]
    }
   ],
   "source": [
    "#Let´s create an array from 0 to 100\n",
    "import numpy as np\n",
    "\n",
    "a = np.arange(0, 101)\n",
    "print(a)\n",
    "\n",
    "\n",
    "#now let´s create an array from 0 to 100 every 2 steps\n",
    "b = np.arange(0, 101, 2)\n",
    "print(b)"
   ]
  },
  {
   "block_group": "1bbf5a25e2dd4b4db8eaf08d780bd68b",
   "cell_type": "markdown",
   "metadata": {
    "cell_id": "1bbf5a25e2dd4b4db8eaf08d780bd68b",
    "deepnote_app_coordinates": {
     "h": 5,
     "w": 12,
     "x": 0,
     "y": 541
    },
    "deepnote_cell_type": "text-cell-h2",
    "formattedRanges": [],
    "is_collapsed": false,
    "tags": []
   },
   "source": [
    "## Create useful arrays"
   ]
  },
  {
   "block_group": "beeaa2978b2444edb8c85e98a0af670b",
   "cell_type": "code",
   "execution_count": 33,
   "metadata": {
    "cell_id": "beeaa2978b2444edb8c85e98a0af670b",
    "deepnote_app_coordinates": {
     "h": 5,
     "w": 12,
     "x": 0,
     "y": 547
    },
    "deepnote_cell_type": "code",
    "deepnote_to_be_reexecuted": false,
    "execution_millis": 11,
    "execution_start": 1668742368536,
    "source_hash": "74eecdb7",
    "tags": []
   },
   "outputs": [
    {
     "name": "stdout",
     "output_type": "stream",
     "text": [
      "[[0. 0. 0. 0. 0. 0. 0. 0. 0. 0.]\n",
      " [0. 0. 0. 0. 0. 0. 0. 0. 0. 0.]\n",
      " [0. 0. 0. 0. 0. 0. 0. 0. 0. 0.]\n",
      " [0. 0. 0. 0. 0. 0. 0. 0. 0. 0.]\n",
      " [0. 0. 0. 0. 0. 0. 0. 0. 0. 0.]\n",
      " [0. 0. 0. 0. 0. 0. 0. 0. 0. 0.]\n",
      " [0. 0. 0. 0. 0. 0. 0. 0. 0. 0.]\n",
      " [0. 0. 0. 0. 0. 0. 0. 0. 0. 0.]\n",
      " [0. 0. 0. 0. 0. 0. 0. 0. 0. 0.]\n",
      " [0. 0. 0. 0. 0. 0. 0. 0. 0. 0.]]\n",
      "[[1. 1. 1. 1. 1. 1. 1. 1. 1. 1.]\n",
      " [1. 1. 1. 1. 1. 1. 1. 1. 1. 1.]\n",
      " [1. 1. 1. 1. 1. 1. 1. 1. 1. 1.]\n",
      " [1. 1. 1. 1. 1. 1. 1. 1. 1. 1.]\n",
      " [1. 1. 1. 1. 1. 1. 1. 1. 1. 1.]\n",
      " [1. 1. 1. 1. 1. 1. 1. 1. 1. 1.]\n",
      " [1. 1. 1. 1. 1. 1. 1. 1. 1. 1.]\n",
      " [1. 1. 1. 1. 1. 1. 1. 1. 1. 1.]\n",
      " [1. 1. 1. 1. 1. 1. 1. 1. 1. 1.]\n",
      " [1. 1. 1. 1. 1. 1. 1. 1. 1. 1.]]\n",
      "[ 0.   2.2  4.4  6.6  8.8 11. ]\n",
      "[[1. 0. 0.]\n",
      " [0. 1. 0.]\n",
      " [0. 0. 1.]]\n"
     ]
    }
   ],
   "source": [
    "import numpy as np\n",
    "\n",
    "#this is a zero matrix\n",
    "zerosmatrix = np.zeros((10, 10)) #the arguments are the dimensions, 10 rows & 10 cols\n",
    "\n",
    "print(zerosmatrix)\n",
    "\n",
    "\n",
    "\n",
    "#this is a ones matrix\n",
    "onesmatrix = np.ones((10, 10)) #the arguments are the dimensions, 10 rows & 10 cols\n",
    "\n",
    "print(onesmatrix)\n",
    "\n",
    "\n",
    "\n",
    "#and now let´s get an equally distributed matrix\n",
    "eqdistmat = np.linspace(0, 11, 6) #arguments mean (from cero, to 11, 6 numbers)\n",
    "\n",
    "print(eqdistmat)\n",
    "\n",
    "\n",
    "\n",
    "#you can also create the idenity matrix\n",
    "identitymatrix = np.eye(3) #the identity matrix will be 3x3 in this case\n",
    "\n",
    "print(identitymatrix)"
   ]
  },
  {
   "block_group": "6a628b3a05874be9b5bb8eed627cbe69",
   "cell_type": "markdown",
   "metadata": {
    "cell_id": "6a628b3a05874be9b5bb8eed627cbe69",
    "deepnote_app_coordinates": {
     "h": 5,
     "w": 12,
     "x": 0,
     "y": 553
    },
    "deepnote_cell_type": "text-cell-h2",
    "formattedRanges": [],
    "is_collapsed": false,
    "tags": []
   },
   "source": [
    "## Know the array dimensions"
   ]
  },
  {
   "block_group": "06a1b8b6e14d4c2daae9fcc2af5092dc",
   "cell_type": "code",
   "execution_count": 34,
   "metadata": {
    "cell_id": "06a1b8b6e14d4c2daae9fcc2af5092dc",
    "deepnote_app_coordinates": {
     "h": 5,
     "w": 12,
     "x": 0,
     "y": 559
    },
    "deepnote_cell_type": "code",
    "deepnote_to_be_reexecuted": false,
    "execution_millis": 3,
    "execution_start": 1668742368561,
    "source_hash": "a7a573cf",
    "tags": []
   },
   "outputs": [
    {
     "name": "stdout",
     "output_type": "stream",
     "text": [
      "(5,)\n",
      "(3, 4)\n"
     ]
    }
   ],
   "source": [
    "# you can use the np.shape() method to know the dimensions of the array.\n",
    "import numpy as np\n",
    "\n",
    "\n",
    "#let´s create a 1D array\n",
    "firstarray = np.array([1,2,3,4,5])\n",
    "print(firstarray.shape)\n",
    "# notice that this has 5 columns and 1 row\n",
    "\n",
    "\n",
    "#now let´s do a 2D array\n",
    "secondarray = np.array(\n",
    "    [\n",
    "        [1, 2, 3, 4],\n",
    "        [5, 6, 7, 8],\n",
    "        [9, 10, 11, 12]\n",
    "    ]\n",
    ")\n",
    "\n",
    "print(secondarray.shape)\n",
    "#note that this array is 3 rows & 4 cols"
   ]
  },
  {
   "block_group": "1f13e92cab1e4effaf93a311d598e448",
   "cell_type": "markdown",
   "metadata": {
    "cell_id": "1f13e92cab1e4effaf93a311d598e448",
    "deepnote_app_coordinates": {
     "h": 5,
     "w": 12,
     "x": 0,
     "y": 565
    },
    "deepnote_cell_type": "text-cell-h2",
    "formattedRanges": [],
    "is_collapsed": false,
    "tags": []
   },
   "source": [
    "## Reshape an array"
   ]
  },
  {
   "block_group": "780ead8cf41144dd9797a9a8f2f2cde7",
   "cell_type": "code",
   "execution_count": 35,
   "metadata": {
    "cell_id": "780ead8cf41144dd9797a9a8f2f2cde7",
    "deepnote_app_coordinates": {
     "h": 5,
     "w": 12,
     "x": 0,
     "y": 571
    },
    "deepnote_cell_type": "code",
    "deepnote_to_be_reexecuted": false,
    "execution_millis": 2,
    "execution_start": 1668742368562,
    "source_hash": "fe56dff4",
    "tags": []
   },
   "outputs": [
    {
     "name": "stdout",
     "output_type": "stream",
     "text": [
      "[[1 2]\n",
      " [3 4]\n",
      " [5 6]]\n",
      "[[1 2 3 4 5 6]]\n",
      "[[1 2 3]\n",
      " [4 5 6]]\n",
      "[[1 5 4]\n",
      " [3 2 6]]\n",
      "[[1 2 3]\n",
      " [4 5 6]]\n"
     ]
    }
   ],
   "source": [
    "import numpy as np\n",
    "\n",
    "\n",
    "\n",
    "# let´s modify the dimensions of an array\n",
    "originalarray = np.array(\n",
    "    [\n",
    "        [1,2],\n",
    "        [3,4],\n",
    "        [5,6]\n",
    "    ]\n",
    ")\n",
    "\n",
    "print(originalarray)\n",
    "\n",
    "\n",
    "\n",
    "#let´s reshape to 1 row and 6 col\n",
    "firstmodarray = originalarray.reshape(1,6)\n",
    "\n",
    "print(firstmodarray)\n",
    "\n",
    "\n",
    "\n",
    "#let´s reshape to 2 rows and 3 cols\n",
    "secmodarray = np.reshape(originalarray,(2,3), \"C\")\n",
    "#IMPORTANT: third argument indicates \"organize as the C language does\"\n",
    "#C is the base of python\n",
    "print(secmodarray)\n",
    "\n",
    "\n",
    "#let´s reshape to 2 rows and 3 cols\n",
    "thirdmodarray = np.reshape(originalarray,(2,3), \"F\")\n",
    "#IMPORTANT: third argument indicates \"organize as the Fortran language does\"\n",
    "print(thirdmodarray)\n",
    "\n",
    "\n",
    "#let´s reshape to 2 rows and 3 cols\n",
    "thirdmodarray = np.reshape(originalarray,(2,3), \"A\")\n",
    "#IMPORTANT: third argument indicates \"organize as the language with the most optimum storage\"\n",
    "#in my device\n",
    "print(thirdmodarray)\n",
    "\n",
    "\n"
   ]
  },
  {
   "block_group": "ed2f31dc053849689cbe561074aaff9d",
   "cell_type": "markdown",
   "metadata": {
    "cell_id": "ed2f31dc053849689cbe561074aaff9d",
    "deepnote_app_coordinates": {
     "h": 5,
     "w": 12,
     "x": 0,
     "y": 577
    },
    "deepnote_cell_type": "text-cell-h1",
    "formattedRanges": [],
    "is_collapsed": false,
    "tags": []
   },
   "source": [
    "# Numpy main functions"
   ]
  },
  {
   "block_group": "6e14a57cd09f4de483acfac294ade784",
   "cell_type": "markdown",
   "metadata": {
    "cell_id": "6e14a57cd09f4de483acfac294ade784",
    "deepnote_app_coordinates": {
     "h": 5,
     "w": 12,
     "x": 0,
     "y": 583
    },
    "deepnote_cell_type": "text-cell-h2",
    "formattedRanges": [],
    "is_collapsed": false,
    "tags": []
   },
   "source": [
    "## .max() .min() .argmax() & .argmin()"
   ]
  },
  {
   "block_group": "5a8bd98f04fe4d4c83d91ddd134fc839",
   "cell_type": "code",
   "execution_count": 36,
   "metadata": {
    "cell_id": "5a8bd98f04fe4d4c83d91ddd134fc839",
    "deepnote_app_coordinates": {
     "h": 5,
     "w": 12,
     "x": 0,
     "y": 589
    },
    "deepnote_cell_type": "code",
    "deepnote_to_be_reexecuted": false,
    "execution_millis": 3,
    "execution_start": 1668742368563,
    "source_hash": "ae1506cf",
    "tags": []
   },
   "outputs": [
    {
     "name": "stdout",
     "output_type": "stream",
     "text": [
      "array:\n",
      "[19  8 17  8 16  9  4 18 12 13]\n",
      "matrix:\n",
      "[[19  8 17  8 16]\n",
      " [ 9  4 18 12 13]]\n",
      "array maximum element:\n",
      "19\n",
      ".max() column level:\n",
      "[19  8 18 12 16]\n",
      ".max() row level:\n",
      "[19 18]\n",
      ".argmax() column level:\n",
      "[0 0 1 1 0]\n",
      ".argmax() row level:\n",
      "[0 2]\n"
     ]
    }
   ],
   "source": [
    "import numpy as np\n",
    "\n",
    "#let's create an array\n",
    "arr = np.random.randint(1, 20, 10)\n",
    "print(\"array:\")\n",
    "print(arr)\n",
    "\n",
    "\n",
    "#let's create a matrix\n",
    "matrixx = arr.reshape(2, 5)\n",
    "print(\"matrix:\")\n",
    "print(matrixx)\n",
    "\n",
    "\n",
    "#.max(): in an array, returns the largest number in our array\n",
    "print(\"array maximum element:\")\n",
    "print(arr.max())\n",
    "\n",
    "#.max(): in a matrix, returns the largest number in the given the dimension\n",
    "print(\".max() column level:\")\n",
    "print(matrixx.max(0))\n",
    "print(\".max() row level:\")\n",
    "print(matrixx.max(1))\n",
    "\n",
    "#.argmax(): returns the index that contains the largest number given the dimension\n",
    "print(\".argmax() column level:\")\n",
    "print(matrixx.argmax(0))\n",
    "print(\".argmax() row level:\")\n",
    "print(matrixx.argmax(1))"
   ]
  },
  {
   "block_group": "86d5468077ad46e6a4087f584652f8ab",
   "cell_type": "markdown",
   "metadata": {
    "cell_id": "86d5468077ad46e6a4087f584652f8ab",
    "deepnote_app_coordinates": {
     "h": 5,
     "w": 12,
     "x": 0,
     "y": 595
    },
    "deepnote_cell_type": "text-cell-h2",
    "formattedRanges": [],
    "is_collapsed": false,
    "tags": []
   },
   "source": [
    "## .ptp()"
   ]
  },
  {
   "block_group": "33d20e72057d4c2e9439cc7bac27dbc2",
   "cell_type": "code",
   "execution_count": 37,
   "metadata": {
    "cell_id": "33d20e72057d4c2e9439cc7bac27dbc2",
    "deepnote_app_coordinates": {
     "h": 5,
     "w": 12,
     "x": 0,
     "y": 601
    },
    "deepnote_cell_type": "code",
    "deepnote_to_be_reexecuted": false,
    "execution_millis": 2,
    "execution_start": 1668742368611,
    "source_hash": "52ec0384",
    "tags": []
   },
   "outputs": [
    {
     "name": "stdout",
     "output_type": "stream",
     "text": [
      "array:\n",
      "[15 13  1  7  3 10 13 15  2  9]\n",
      "matrix:\n",
      "[[15 13  1  7  3]\n",
      " [10 13 15  2  9]]\n",
      "given the array [15 13  1  7  3 10 13 15  2  9] , the .ptp() method returns:\n",
      "14\n",
      "which equals 15 - 1\n",
      ".ptp() in column level:\n",
      "[ 5  0 14  5  6]\n",
      ".ptp() in row level:\n",
      "[14 13]\n"
     ]
    }
   ],
   "source": [
    "import numpy as np\n",
    "\n",
    "#let's create an array\n",
    "arr = np.random.randint(1, 20, 10)\n",
    "print(\"array:\")\n",
    "print(arr)\n",
    "\n",
    "\n",
    "#let's create a matrix\n",
    "matrixx = arr.reshape(2, 5)\n",
    "print(\"matrix:\")\n",
    "print(matrixx)\n",
    "\n",
    "\n",
    "#ptp():tells you what is the peak to peak distance (meaning maxvalue - minvalue)\n",
    "print(\"given the array\", arr, \", the .ptp() method returns:\" )\n",
    "print(arr.ptp())\n",
    "print(\"which equals\", arr.max(), \"-\", arr.min())\n",
    "\n",
    "#in a matrix\n",
    "\n",
    "#column level\n",
    "print(\".ptp() in column level:\")\n",
    "print(matrixx.ptp(0))\n",
    "\n",
    "#row level\n",
    "print(\".ptp() in row level:\")\n",
    "print(matrixx.ptp(1))"
   ]
  },
  {
   "block_group": "e6bb2d9472ea4a6791c94edd45473e9a",
   "cell_type": "markdown",
   "metadata": {
    "cell_id": "e6bb2d9472ea4a6791c94edd45473e9a",
    "deepnote_app_coordinates": {
     "h": 5,
     "w": 12,
     "x": 0,
     "y": 607
    },
    "deepnote_cell_type": "text-cell-h2",
    "formattedRanges": [],
    "is_collapsed": false,
    "tags": []
   },
   "source": [
    "## .percentile()"
   ]
  },
  {
   "block_group": "bc634d5ffb564075947e8b3aac59b2a0",
   "cell_type": "code",
   "execution_count": 38,
   "metadata": {
    "cell_id": "bc634d5ffb564075947e8b3aac59b2a0",
    "deepnote_app_coordinates": {
     "h": 5,
     "w": 12,
     "x": 0,
     "y": 613
    },
    "deepnote_cell_type": "code",
    "deepnote_to_be_reexecuted": false,
    "execution_millis": 2,
    "execution_start": 1668742368611,
    "source_hash": "65ad8642",
    "tags": []
   },
   "outputs": [
    {
     "name": "stdout",
     "output_type": "stream",
     "text": [
      "array:\n",
      "[14  9  1  7  5  8  6  9  9  7]\n",
      "matrix:\n",
      "[[14  9  1  7  5]\n",
      " [ 8  6  9  9  7]]\n",
      "1.0\n",
      "7.5\n",
      "14.0\n"
     ]
    }
   ],
   "source": [
    "import numpy as np\n",
    "\n",
    "#let's create an array\n",
    "arr = np.random.randint(1, 20, 10)\n",
    "print(\"array:\")\n",
    "print(arr)\n",
    "\n",
    "\n",
    "#let's create a matrix\n",
    "matrixx = arr.reshape(2, 5)\n",
    "print(\"matrix:\")\n",
    "print(matrixx)\n",
    "\n",
    "#percentile zero\n",
    "print(np.percentile(arr, 0))\n",
    "#percentile fifty\n",
    "print(np.percentile(arr, 50))\n",
    "#percentile 100\n",
    "print(np.percentile(arr, 100))"
   ]
  },
  {
   "cell_type": "markdown",
   "metadata": {
    "created_in_deepnote_cell": true,
    "deepnote_cell_type": "markdown"
   },
   "source": [
    "<a style='text-decoration:none;line-height:16px;display:flex;color:#5B5B62;padding:10px;justify-content:end;' href='https://deepnote.com?utm_source=created-in-deepnote-cell&projectId=98b813ef-d285-452d-a842-d1a8143250d4' target=\"_blank\">\n",
    "<img alt='Created in deepnote.com' style='display:inline;max-height:16px;margin:0px;margin-right:7.5px;' src='data:image/svg+xml;base64,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' > </img>\n",
    "Created in <span style='font-weight:600;margin-left:4px;'>Deepnote</span></a>"
   ]
  }
 ],
 "metadata": {
  "deepnote": {},
  "deepnote_app_layout": "article",
  "deepnote_execution_queue": [],
  "deepnote_notebook_id": "e71bbdbbebdc4893b77fbced75500b4b",
  "deepnote_persisted_session": {
   "createdAt": "2022-11-23T06:02:24.652Z"
  },
  "language_info": {
   "codemirror_mode": {
    "name": "ipython",
    "version": 3
   },
   "file_extension": ".py",
   "mimetype": "text/x-python",
   "name": "python",
   "nbconvert_exporter": "python",
   "pygments_lexer": "ipython3",
   "version": "3.11.4"
  }
 },
 "nbformat": 4,
 "nbformat_minor": 0
}