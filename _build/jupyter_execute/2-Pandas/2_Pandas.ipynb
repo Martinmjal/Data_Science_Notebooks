{
 "cells": [
  {
   "block_group": "aede9fd949774a24a69a02f2591e22f5",
   "cell_type": "markdown",
   "metadata": {
    "cell_id": "aede9fd949774a24a69a02f2591e22f5",
    "deepnote_app_coordinates": {
     "h": 5,
     "w": 12,
     "x": 0,
     "y": 1
    },
    "deepnote_cell_type": "text-cell-h1",
    "formattedRanges": [],
    "is_collapsed": false,
    "tags": []
   },
   "source": [
    "# Pandas"
   ]
  },
  {
   "block_group": "369ef681d71d49e18d1c897307b097c5",
   "cell_type": "markdown",
   "metadata": {
    "cell_id": "369ef681d71d49e18d1c897307b097c5",
    "deepnote_app_coordinates": {
     "h": 5,
     "w": 12,
     "x": 0,
     "y": 7
    },
    "deepnote_cell_type": "markdown",
    "tags": []
   },
   "source": [
    "*Pandas was built from numpy*\n",
    "\n",
    "Pandas Advantages:\n",
    "\n",
    "- fast\n",
    "- short code lines\n",
    "- multiple file types\n",
    "- smart alingnment\n",
    "\n",
    "\n",
    "**how to import?**\n",
    "import pandas as pd"
   ]
  },
  {
   "block_group": "4044809a23384732a519b4ddf820df7d",
   "cell_type": "markdown",
   "metadata": {
    "cell_id": "4044809a23384732a519b4ddf820df7d",
    "deepnote_app_coordinates": {
     "h": 5,
     "w": 12,
     "x": 0,
     "y": 13
    },
    "deepnote_cell_type": "text-cell-h2",
    "formattedRanges": [],
    "is_collapsed": false,
    "tags": []
   },
   "source": [
    "## Pandas data types"
   ]
  },
  {
   "block_group": "8401fdfe2a6449bc8af19f8c09cd53b3",
   "cell_type": "markdown",
   "metadata": {
    "cell_id": "8401fdfe2a6449bc8af19f8c09cd53b3",
    "deepnote_app_coordinates": {
     "h": 5,
     "w": 12,
     "x": 0,
     "y": 19
    },
    "deepnote_cell_type": "markdown",
    "tags": []
   },
   "source": [
    "Pandas has two data types:\n",
    "\n",
    "*Pandas series*\n",
    "*Pandas DataFrame*"
   ]
  },
  {
   "block_group": "983d5462951b425a9a49f8377c9c7bb9",
   "cell_type": "markdown",
   "metadata": {
    "cell_id": "983d5462951b425a9a49f8377c9c7bb9",
    "deepnote_app_coordinates": {
     "h": 5,
     "w": 12,
     "x": 0,
     "y": 25
    },
    "deepnote_cell_type": "text-cell-h3",
    "formattedRanges": [],
    "is_collapsed": false,
    "tags": []
   },
   "source": [
    "### Pandas series:"
   ]
  },
  {
   "block_group": "a73076b4e6bc4efca779bf3c4f52d724",
   "cell_type": "markdown",
   "metadata": {
    "cell_id": "a73076b4e6bc4efca779bf3c4f52d724",
    "deepnote_app_coordinates": {
     "h": 5,
     "w": 12,
     "x": 0,
     "y": 31
    },
    "deepnote_cell_type": "markdown",
    "tags": []
   },
   "source": [
    "![Picture title](image-20221120-170812.png)"
   ]
  },
  {
   "block_group": "3f52720faabb4ae2a18e20bc019ec7a4",
   "cell_type": "markdown",
   "metadata": {
    "cell_id": "3f52720faabb4ae2a18e20bc019ec7a4",
    "deepnote_app_coordinates": {
     "h": 5,
     "w": 12,
     "x": 0,
     "y": 37
    },
    "deepnote_cell_type": "text-cell-h3",
    "formattedRanges": [],
    "is_collapsed": false,
    "tags": []
   },
   "source": [
    "### Pandas dataframe"
   ]
  },
  {
   "block_group": "1869b50070d844f29f09e7e0d60a86b5",
   "cell_type": "markdown",
   "metadata": {
    "cell_id": "1869b50070d844f29f09e7e0d60a86b5",
    "deepnote_app_coordinates": {
     "h": 5,
     "w": 12,
     "x": 0,
     "y": 43
    },
    "deepnote_cell_type": "markdown",
    "tags": []
   },
   "source": [
    "![Picture title](image-20221120-170857.png)"
   ]
  },
  {
   "block_group": "db5acb4d8e8f43b5b7f067d26630bcc5",
   "cell_type": "markdown",
   "metadata": {
    "cell_id": "db5acb4d8e8f43b5b7f067d26630bcc5",
    "deepnote_app_coordinates": {
     "h": 5,
     "w": 12,
     "x": 0,
     "y": 49
    },
    "deepnote_cell_type": "text-cell-h1",
    "formattedRanges": [],
    "is_collapsed": false,
    "tags": []
   },
   "source": [
    "# Create a pandas DataFrame"
   ]
  },
  {
   "block_group": "1c6c5bf735a0487db6cf1ebe16dd8e5f",
   "cell_type": "markdown",
   "metadata": {
    "cell_id": "1c6c5bf735a0487db6cf1ebe16dd8e5f",
    "deepnote_app_coordinates": {
     "h": 5,
     "w": 12,
     "x": 0,
     "y": 55
    },
    "deepnote_cell_type": "markdown",
    "tags": []
   },
   "source": [
    "To create a pandas DataFrame, you can use many methods:\n",
    "\n",
    "*DataFrame from a dictionary:*\n",
    "**pd.DataFrame(*dictionary_name*)**\n",
    "\n"
   ]
  },
  {
   "block_group": "fea2fbb944fd45ca81b82ca2d9eaebf0",
   "cell_type": "markdown",
   "metadata": {
    "cell_id": "fea2fbb944fd45ca81b82ca2d9eaebf0",
    "deepnote_app_coordinates": {
     "h": 5,
     "w": 12,
     "x": 0,
     "y": 61
    },
    "deepnote_cell_type": "text-cell-h2",
    "formattedRanges": [],
    "is_collapsed": false,
    "tags": []
   },
   "source": [
    "## Create a Dataframe from a Dictionary"
   ]
  },
  {
   "block_group": "90af033502b14390a316ddb2f6f342d1",
   "cell_type": "markdown",
   "metadata": {
    "cell_id": "90af033502b14390a316ddb2f6f342d1",
    "deepnote_app_coordinates": {
     "h": 5,
     "w": 12,
     "x": 0,
     "y": 67
    },
    "deepnote_cell_type": "markdown",
    "tags": []
   },
   "source": [
    "![Picture title](image-20221118-203351.png)"
   ]
  },
  {
   "block_group": "07ee1b1acec94a5e94f0b24ee31c1c84",
   "cell_type": "markdown",
   "metadata": {
    "cell_id": "07ee1b1acec94a5e94f0b24ee31c1c84",
    "deepnote_app_coordinates": {
     "h": 5,
     "w": 12,
     "x": 0,
     "y": 73
    },
    "deepnote_cell_type": "markdown",
    "tags": []
   },
   "source": [
    "- Use the pre-defined lists to create a dictionary called my_dict. There should be three key value pairs:\n",
    "\n",
    "- - key 'country' and value names.\n",
    "- - key 'drives_right' and value dr.\n",
    "- - key 'cars_per_cap' and value cpc.\n",
    "\n",
    "- Use pd.DataFrame() to turn your dict into a DataFrame called cars.\n"
   ]
  },
  {
   "block_group": "b5d10ad0374545099d8ad564d04518e4",
   "cell_type": "code",
   "execution_count": 1,
   "metadata": {
    "cell_id": "b5d10ad0374545099d8ad564d04518e4",
    "deepnote_app_coordinates": {
     "h": 5,
     "w": 12,
     "x": 0,
     "y": 79
    },
    "deepnote_cell_type": "code",
    "deepnote_to_be_reexecuted": false,
    "execution_millis": 70592,
    "execution_start": 1669182429525,
    "source_hash": "346cfa85",
    "tags": []
   },
   "outputs": [
    {
     "name": "stdout",
     "output_type": "stream",
     "text": [
      "         country  drives_right  cars_per_cap\n",
      "0  United States          True           809\n",
      "1      Australia         False           731\n",
      "2          Japan         False           588\n",
      "3          India         False            18\n",
      "4         Russia          True           200\n",
      "5        Morocco          True            70\n",
      "6          Egypt          True            45\n"
     ]
    }
   ],
   "source": [
    "# Pre-defined lists\n",
    "names = ['United States', 'Australia', 'Japan', 'India', 'Russia', 'Morocco', 'Egypt']\n",
    "dr =  [True, False, False, False, True, True, True]\n",
    "cpc = [809, 731, 588, 18, 200, 70, 45]\n",
    "\n",
    "# Import pandas as pd\n",
    "import pandas as pd\n",
    "\n",
    "# Create dictionary my_dict with three key:value pairs: my_dict\n",
    "my_dict = {\"country\":names, \"drives_right\":dr, \"cars_per_cap\":cpc}\n",
    "\n",
    "# Build a DataFrame cars from my_dict: cars\n",
    "cars = pd.DataFrame(my_dict)\n",
    "\n",
    "# Print cars\n",
    "print(cars)"
   ]
  },
  {
   "block_group": "0759df5739e049a589aaf2137e5105f1",
   "cell_type": "markdown",
   "metadata": {
    "cell_id": "0759df5739e049a589aaf2137e5105f1",
    "deepnote_app_coordinates": {
     "h": 5,
     "w": 12,
     "x": 0,
     "y": 85
    },
    "deepnote_cell_type": "markdown",
    "tags": []
   },
   "source": [
    "Now, if you want to assign a row label you use the .index() method"
   ]
  },
  {
   "block_group": "e97249ff110545f181fc76349ec69a8d",
   "cell_type": "code",
   "execution_count": 2,
   "metadata": {
    "cell_id": "e97249ff110545f181fc76349ec69a8d",
    "deepnote_app_coordinates": {
     "h": 5,
     "w": 12,
     "x": 0,
     "y": 91
    },
    "deepnote_cell_type": "code",
    "deepnote_to_be_reexecuted": false,
    "execution_millis": 70584,
    "execution_start": 1669182429540,
    "source_hash": "8bd350a",
    "tags": []
   },
   "outputs": [
    {
     "name": "stdout",
     "output_type": "stream",
     "text": [
      "           country  drives_right  cars_per_cap\n",
      "US   United States          True           809\n",
      "AUS      Australia         False           731\n",
      "JPN          Japan         False           588\n",
      "IN           India         False            18\n",
      "RU          Russia          True           200\n",
      "MOR        Morocco          True            70\n",
      "EG           Egypt          True            45\n"
     ]
    }
   ],
   "source": [
    "# Definition of row_labels\n",
    "row_labels = ['US', 'AUS', 'JPN', 'IN', 'RU', 'MOR', 'EG']\n",
    "\n",
    "# Specify row labels of cars\n",
    "cars.index = row_labels\n",
    "\n",
    "# Print cars again\n",
    "print(cars)"
   ]
  },
  {
   "block_group": "d3c68006137e4e849677589f13e3a39b",
   "cell_type": "markdown",
   "metadata": {
    "cell_id": "d3c68006137e4e849677589f13e3a39b",
    "deepnote_app_coordinates": {
     "h": 5,
     "w": 12,
     "x": 0,
     "y": 97
    },
    "deepnote_cell_type": "text-cell-h2",
    "formattedRanges": [],
    "is_collapsed": false,
    "tags": []
   },
   "source": [
    "## Create a DataFrame from CSV."
   ]
  },
  {
   "block_group": "a8d99aba93e44d988565830b55421e64",
   "cell_type": "markdown",
   "metadata": {
    "cell_id": "a8d99aba93e44d988565830b55421e64",
    "deepnote_app_coordinates": {
     "h": 5,
     "w": 12,
     "x": 0,
     "y": 103
    },
    "deepnote_cell_type": "markdown",
    "tags": []
   },
   "source": [
    "To create a DataFrame from a CSV file, use pd.read_csv(\"route\")\n",
    "\n",
    "*example:*\n",
    "cars = pd.read_csv(\"cars.csv\")"
   ]
  },
  {
   "block_group": "fee18e841d924e2dbf69053d2dc7a4d1",
   "cell_type": "code",
   "execution_count": 3,
   "metadata": {
    "cell_id": "fee18e841d924e2dbf69053d2dc7a4d1",
    "deepnote_app_coordinates": {
     "h": 5,
     "w": 12,
     "x": 0,
     "y": 109
    },
    "deepnote_cell_type": "code",
    "deepnote_to_be_reexecuted": false,
    "execution_millis": 342,
    "execution_start": 1669182429540,
    "source_hash": "c385fd11",
    "tags": []
   },
   "outputs": [
    {
     "name": "stdout",
     "output_type": "stream",
     "text": [
      "                                                  Name  \\\n",
      "0                        10-Day Green Smoothie Cleanse   \n",
      "1                                    11/22/63: A Novel   \n",
      "2              12 Rules for Life: An Antidote to Chaos   \n",
      "3                               1984 (Signet Classics)   \n",
      "4    5,000 Awesome Facts (About Everything!) (Natio...   \n",
      "..                                                 ...   \n",
      "545       Wrecking Ball (Diary of a Wimpy Kid Book 14)   \n",
      "546  You Are a Badass: How to Stop Doubting Your Gr...   \n",
      "547  You Are a Badass: How to Stop Doubting Your Gr...   \n",
      "548  You Are a Badass: How to Stop Doubting Your Gr...   \n",
      "549  You Are a Badass: How to Stop Doubting Your Gr...   \n",
      "\n",
      "                       Author  User Rating  Reviews  Price  Year        Genre  \n",
      "0                    JJ Smith          4.7    17350      8  2016  Non Fiction  \n",
      "1                Stephen King          4.6     2052     22  2011      Fiction  \n",
      "2          Jordan B. Peterson          4.7    18979     15  2018  Non Fiction  \n",
      "3               George Orwell          4.7    21424      6  2017      Fiction  \n",
      "4    National Geographic Kids          4.8     7665     12  2019  Non Fiction  \n",
      "..                        ...          ...      ...    ...   ...          ...  \n",
      "545               Jeff Kinney          4.9     9413      8  2019      Fiction  \n",
      "546               Jen Sincero          4.7    14331      8  2016  Non Fiction  \n",
      "547               Jen Sincero          4.7    14331      8  2017  Non Fiction  \n",
      "548               Jen Sincero          4.7    14331      8  2018  Non Fiction  \n",
      "549               Jen Sincero          4.7    14331      8  2019  Non Fiction  \n",
      "\n",
      "[550 rows x 7 columns]\n"
     ]
    }
   ],
   "source": [
    "import pandas as pd\n",
    "\n",
    "#import the bestsellers-with-categories.csv\n",
    "mydata = pd.read_csv(\"bestsellers-with-categories.csv\")\n",
    "\n",
    "#pd.read_csv() receives an argument sep=\"\", which is the separator\n",
    "#pd.read_csv\n",
    "print(mydata)"
   ]
  },
  {
   "block_group": "ceaef396c40a44b1b53852401b5d2c2a",
   "cell_type": "markdown",
   "metadata": {
    "cell_id": "ceaef396c40a44b1b53852401b5d2c2a",
    "deepnote_app_coordinates": {
     "h": 5,
     "w": 12,
     "x": 0,
     "y": 115
    },
    "deepnote_cell_type": "text-cell-h2",
    "formattedRanges": [],
    "is_collapsed": false,
    "tags": []
   },
   "source": [
    "## Create a DataFrame from JSON."
   ]
  },
  {
   "block_group": "8bd132d9d53149e6abc0d730fc4bd498",
   "cell_type": "code",
   "execution_count": 4,
   "metadata": {
    "cell_id": "8bd132d9d53149e6abc0d730fc4bd498",
    "deepnote_app_coordinates": {
     "h": 5,
     "w": 12,
     "x": 0,
     "y": 121
    },
    "deepnote_cell_type": "code",
    "deepnote_to_be_reexecuted": false,
    "execution_millis": 341,
    "execution_start": 1669182429541,
    "source_hash": "3ee6a01f",
    "tags": []
   },
   "outputs": [
    {
     "name": "stdout",
     "output_type": "stream",
     "text": [
      "                      Name                                               Link  \\\n",
      "0              Mrs. Abbott  https://www.hp-lexicon.org/character/abbott-fa...   \n",
      "1            Hannah Abbott  https://www.hp-lexicon.org/character/abbott-fa...   \n",
      "2            Abel Treetops  https://www.hp-lexicon.org/character/abel-tree...   \n",
      "3         Euan Abercrombie  https://www.hp-lexicon.org/character/abercromb...   \n",
      "4     Aberforth Dumbledore  https://www.hp-lexicon.org/character/dumbledor...   \n",
      "...                    ...                                                ...   \n",
      "1935        Georgi Zdravko  https://www.hp-lexicon.org/character/georgi-zd...   \n",
      "1936                Zograf       https://www.hp-lexicon.org/character/zograf/   \n",
      "1937                 Zonko        https://www.hp-lexicon.org/character/zonko/   \n",
      "1938     Valentina Vázquez  https://www.hp-lexicon.org/character/valentina...   \n",
      "1939         Zygmunt Budge  https://www.hp-lexicon.org/character/zygmunt-b...   \n",
      "\n",
      "                                                  Descr  Gender Species/Race  \\\n",
      "0     Mrs. Abbott was the mother of Hannah Abbott, a...  Female        Witch   \n",
      "1     Hannah Abbott is a Hufflepuff student in Harry...  Female        Witch   \n",
      "2     Abel Treetops was a wizard from Cincinnati who...    Male       Wizard   \n",
      "3     Euan Abercrombie was a small boy with prominen...    Male       Wizard   \n",
      "4     Aberforth Dumbledore was a tall, thin, grumpy-...    Male       Wizard   \n",
      "...                                                 ...     ...          ...   \n",
      "1935  Georgi Zdravko played Keeper for the Bulgarian...    Male       Wizard   \n",
      "1936  Zograf played Keeper for the Bulgarian Nationa...     NaN       Wizard   \n",
      "1937  Founder(?) of Zonko’s Joke Shop. Possibly a re...     NaN      Unknown   \n",
      "1938  Valentina Vázquez was President of the Argenti...  Female        Witch   \n",
      "1939  Zygmunt Budge is considered to be one of the m...    Male       Wizard   \n",
      "\n",
      "            Blood                 School  \\\n",
      "0     Muggle-born                Unknown   \n",
      "1      Half-blood  Hogwarts - Hufflepuff   \n",
      "2         Unknown                Unknown   \n",
      "3         Unknown  Hogwarts - Gryffindor   \n",
      "4      Half-blood     Hogwarts - Student   \n",
      "...           ...                    ...   \n",
      "1935      Unknown                Unknown   \n",
      "1936      Unknown                Unknown   \n",
      "1937      Unknown                Unknown   \n",
      "1938      Unknown                Unknown   \n",
      "1939      Unknown     Hogwarts - Student   \n",
      "\n",
      "                                         Profession  \n",
      "0                                           Unknown  \n",
      "1                    Landlady of the Leaky Cauldron  \n",
      "2                                           Unknown  \n",
      "3                                           Unknown  \n",
      "4                                            Barman  \n",
      "...                                             ...  \n",
      "1935                      Quidditch player (Seeker)  \n",
      "1936                      Quidditch player (Keeper)  \n",
      "1937                                        Unknown  \n",
      "1938  President of the Argentinian Council of Magic  \n",
      "1939    Potions Master, Potioneer, Inventor, Author  \n",
      "\n",
      "[1940 rows x 8 columns]\n"
     ]
    }
   ],
   "source": [
    "myjson_data = pd.read_json(\"hpcharactersdataraw.json\")\n",
    "\n",
    "print(myjson_data)"
   ]
  },
  {
   "block_group": "59e9163d4e4d421a87d630b16f7b01b8",
   "cell_type": "markdown",
   "metadata": {
    "cell_id": "59e9163d4e4d421a87d630b16f7b01b8",
    "deepnote_app_coordinates": {
     "h": 5,
     "w": 12,
     "x": 0,
     "y": 127
    },
    "deepnote_cell_type": "text-cell-h1",
    "formattedRanges": [],
    "is_collapsed": false,
    "tags": []
   },
   "source": [
    "# Data accessing in Pandas"
   ]
  },
  {
   "block_group": "6146f457199244bda4bddb11d52d553f",
   "cell_type": "markdown",
   "metadata": {
    "cell_id": "6146f457199244bda4bddb11d52d553f",
    "deepnote_app_coordinates": {
     "h": 5,
     "w": 12,
     "x": 0,
     "y": 133
    },
    "deepnote_cell_type": "text-cell-h2",
    "formattedRanges": [],
    "is_collapsed": false,
    "tags": []
   },
   "source": [
    "## Column accessing"
   ]
  },
  {
   "block_group": "870f24742ad14a52acd14a2a8b85f859",
   "cell_type": "markdown",
   "metadata": {
    "cell_id": "870f24742ad14a52acd14a2a8b85f859",
    "deepnote_app_coordinates": {
     "h": 5,
     "w": 12,
     "x": 0,
     "y": 139
    },
    "deepnote_cell_type": "markdown",
    "tags": []
   },
   "source": [
    "use **DataFrame_Name[[\"Column_name1\", \"Column_name2\", ..., \"Column_name_n\"]]** to print the columns that you wish from the dataframe\n",
    "\n",
    "*example:*"
   ]
  },
  {
   "block_group": "c15296153ee34c16a5140340301812fc",
   "cell_type": "markdown",
   "metadata": {
    "cell_id": "c15296153ee34c16a5140340301812fc",
    "deepnote_app_coordinates": {
     "h": 5,
     "w": 12,
     "x": 0,
     "y": 145
    },
    "deepnote_cell_type": "markdown",
    "tags": []
   },
   "source": [
    "given the dataframe \"cars\""
   ]
  },
  {
   "block_group": "a32c1e851d42410499818729e3720168",
   "cell_type": "code",
   "execution_count": 5,
   "metadata": {
    "cell_id": "a32c1e851d42410499818729e3720168",
    "deepnote_app_coordinates": {
     "h": 5,
     "w": 12,
     "x": 0,
     "y": 151
    },
    "deepnote_cell_type": "code",
    "deepnote_to_be_reexecuted": false,
    "execution_millis": 272,
    "execution_start": 1669182429611,
    "source_hash": "5c3a7a3b",
    "tags": []
   },
   "outputs": [
    {
     "name": "stdout",
     "output_type": "stream",
     "text": [
      "           country  drives_right  cars_per_cap\n",
      "US   United States          True           809\n",
      "AUS      Australia         False           731\n",
      "JPN          Japan         False           588\n",
      "IN           India         False            18\n",
      "RU          Russia          True           200\n",
      "MOR        Morocco          True            70\n",
      "EG           Egypt          True            45\n"
     ]
    }
   ],
   "source": [
    "print(cars)"
   ]
  },
  {
   "block_group": "4f00425ea38f4b0881aec1d15903a7b4",
   "cell_type": "markdown",
   "metadata": {
    "cell_id": "4f00425ea38f4b0881aec1d15903a7b4",
    "deepnote_app_coordinates": {
     "h": 5,
     "w": 12,
     "x": 0,
     "y": 157
    },
    "deepnote_cell_type": "markdown",
    "tags": []
   },
   "source": [
    "i would like to select the column **country**"
   ]
  },
  {
   "block_group": "07da0b03ce64402cb5b2ee0a54ea0efb",
   "cell_type": "code",
   "execution_count": 6,
   "metadata": {
    "cell_id": "07da0b03ce64402cb5b2ee0a54ea0efb",
    "deepnote_app_coordinates": {
     "h": 5,
     "w": 12,
     "x": 0,
     "y": 163
    },
    "deepnote_cell_type": "code",
    "deepnote_to_be_reexecuted": false,
    "execution_millis": 240,
    "execution_start": 1669182429643,
    "source_hash": "d6e03b98",
    "tags": []
   },
   "outputs": [
    {
     "name": "stdout",
     "output_type": "stream",
     "text": [
      "           country\n",
      "US   United States\n",
      "AUS      Australia\n",
      "JPN          Japan\n",
      "IN           India\n",
      "RU          Russia\n",
      "MOR        Morocco\n",
      "EG           Egypt\n",
      "<class 'pandas.core.frame.DataFrame'>\n"
     ]
    }
   ],
   "source": [
    "print(  cars[[\"country\"]]  )\n",
    "\n",
    "#what would be this data type?\n",
    "print(  type(cars[[\"country\"]])  )"
   ]
  },
  {
   "block_group": "9fcd65488d604f10b89421b9dfa15ac6",
   "cell_type": "markdown",
   "metadata": {
    "cell_id": "9fcd65488d604f10b89421b9dfa15ac6",
    "deepnote_app_coordinates": {
     "h": 5,
     "w": 12,
     "x": 0,
     "y": 169
    },
    "deepnote_cell_type": "markdown",
    "tags": []
   },
   "source": [
    "Now let´s access the column **country** and the column **cars_per_cap**"
   ]
  },
  {
   "block_group": "2f0b8345d1254ba1b89c49b6902fd20e",
   "cell_type": "code",
   "execution_count": 7,
   "metadata": {
    "cell_id": "2f0b8345d1254ba1b89c49b6902fd20e",
    "deepnote_app_coordinates": {
     "h": 5,
     "w": 12,
     "x": 0,
     "y": 175
    },
    "deepnote_cell_type": "code",
    "deepnote_to_be_reexecuted": false,
    "execution_millis": 239,
    "execution_start": 1669182429644,
    "source_hash": "af5e0d59",
    "tags": []
   },
   "outputs": [
    {
     "name": "stdout",
     "output_type": "stream",
     "text": [
      "           country  cars_per_cap\n",
      "US   United States           809\n",
      "AUS      Australia           731\n",
      "JPN          Japan           588\n",
      "IN           India            18\n",
      "RU          Russia           200\n",
      "MOR        Morocco            70\n",
      "EG           Egypt            45\n"
     ]
    }
   ],
   "source": [
    "print(  cars[[\"country\", \"cars_per_cap\"]]  )"
   ]
  },
  {
   "block_group": "673fd32f4898459181469aa6db27a95b",
   "cell_type": "markdown",
   "metadata": {
    "cell_id": "673fd32f4898459181469aa6db27a95b",
    "deepnote_app_coordinates": {
     "h": 5,
     "w": 12,
     "x": 0,
     "y": 181
    },
    "deepnote_cell_type": "text-cell-h2",
    "formattedRanges": [],
    "is_collapsed": false,
    "tags": []
   },
   "source": [
    "## Row accessing"
   ]
  },
  {
   "block_group": "708d194cec66421886a544fb95030323",
   "cell_type": "code",
   "execution_count": 8,
   "metadata": {
    "cell_id": "708d194cec66421886a544fb95030323",
    "deepnote_app_coordinates": {
     "h": 5,
     "w": 12,
     "x": 0,
     "y": 187
    },
    "deepnote_cell_type": "code",
    "deepnote_to_be_reexecuted": false,
    "execution_millis": 240,
    "execution_start": 1669182429644,
    "source_hash": "d5267f35",
    "tags": []
   },
   "outputs": [
    {
     "name": "stdout",
     "output_type": "stream",
     "text": [
      "       country  drives_right  cars_per_cap\n",
      "AUS  Australia         False           731\n",
      "JPN      Japan         False           588\n",
      "IN       India         False            18\n"
     ]
    }
   ],
   "source": [
    "#say i want to access rows from 2nd to 4th\n",
    "print(  cars[1:4]  )"
   ]
  },
  {
   "block_group": "c3587700681a4d59a58bd57a29ecd4fe",
   "cell_type": "markdown",
   "metadata": {
    "cell_id": "c3587700681a4d59a58bd57a29ecd4fe",
    "deepnote_app_coordinates": {
     "h": 5,
     "w": 12,
     "x": 0,
     "y": 193
    },
    "deepnote_cell_type": "text-cell-h2",
    "formattedRanges": [],
    "is_collapsed": false,
    "tags": []
   },
   "source": [
    "## Row accessing by Row Label -> loc[]"
   ]
  },
  {
   "block_group": "55d394dbd204489f9f053af998fcbf37",
   "cell_type": "markdown",
   "metadata": {
    "cell_id": "55d394dbd204489f9f053af998fcbf37",
    "deepnote_app_coordinates": {
     "h": 5,
     "w": 12,
     "x": 0,
     "y": 199
    },
    "deepnote_cell_type": "markdown",
    "tags": []
   },
   "source": [
    "loc[] is used to show data based on the **row label** & the **column label**"
   ]
  },
  {
   "block_group": "d91308ce753d4ad8802b92452063afa1",
   "cell_type": "code",
   "execution_count": 9,
   "metadata": {
    "cell_id": "d91308ce753d4ad8802b92452063afa1",
    "deepnote_app_coordinates": {
     "h": 5,
     "w": 12,
     "x": 0,
     "y": 205
    },
    "deepnote_cell_type": "code",
    "deepnote_to_be_reexecuted": false,
    "execution_millis": 238,
    "execution_start": 1669182429646,
    "source_hash": "5c3a7a3b",
    "tags": []
   },
   "outputs": [
    {
     "name": "stdout",
     "output_type": "stream",
     "text": [
      "           country  drives_right  cars_per_cap\n",
      "US   United States          True           809\n",
      "AUS      Australia         False           731\n",
      "JPN          Japan         False           588\n",
      "IN           India         False            18\n",
      "RU          Russia          True           200\n",
      "MOR        Morocco          True            70\n",
      "EG           Egypt          True            45\n"
     ]
    }
   ],
   "source": [
    "print(cars)"
   ]
  },
  {
   "block_group": "189baca8175e417d929d3dc221c673d5",
   "cell_type": "markdown",
   "metadata": {
    "cell_id": "189baca8175e417d929d3dc221c673d5",
    "deepnote_app_coordinates": {
     "h": 5,
     "w": 12,
     "x": 0,
     "y": 211
    },
    "deepnote_cell_type": "markdown",
    "tags": []
   },
   "source": [
    "given the previous database, print the row for **Australia**"
   ]
  },
  {
   "block_group": "19d446e53533404da2644e4aa42cd8a0",
   "cell_type": "code",
   "execution_count": 10,
   "metadata": {
    "cell_id": "19d446e53533404da2644e4aa42cd8a0",
    "deepnote_app_coordinates": {
     "h": 5,
     "w": 12,
     "x": 0,
     "y": 217
    },
    "deepnote_cell_type": "code",
    "deepnote_to_be_reexecuted": false,
    "execution_millis": 192,
    "execution_start": 1669182429695,
    "source_hash": "12d0adde",
    "tags": []
   },
   "outputs": [
    {
     "name": "stdout",
     "output_type": "stream",
     "text": [
      "       country  drives_right  cars_per_cap\n",
      "AUS  Australia         False           731\n"
     ]
    }
   ],
   "source": [
    "print(  cars.loc[[\"AUS\"]]  )"
   ]
  },
  {
   "block_group": "dc5f70045edf48c1a3f373c4c4a9f2eb",
   "cell_type": "markdown",
   "metadata": {
    "cell_id": "dc5f70045edf48c1a3f373c4c4a9f2eb",
    "deepnote_app_coordinates": {
     "h": 5,
     "w": 12,
     "x": 0,
     "y": 223
    },
    "deepnote_cell_type": "markdown",
    "tags": []
   },
   "source": [
    "You can access multiple rows at the same time"
   ]
  },
  {
   "block_group": "db154ff847124fa1ad5f8e6daf9277b7",
   "cell_type": "code",
   "execution_count": 11,
   "metadata": {
    "cell_id": "db154ff847124fa1ad5f8e6daf9277b7",
    "deepnote_app_coordinates": {
     "h": 5,
     "w": 12,
     "x": 0,
     "y": 229
    },
    "deepnote_cell_type": "code",
    "deepnote_to_be_reexecuted": false,
    "execution_millis": 191,
    "execution_start": 1669182429696,
    "source_hash": "2f904eea",
    "tags": []
   },
   "outputs": [
    {
     "name": "stdout",
     "output_type": "stream",
     "text": [
      "       country  drives_right  cars_per_cap\n",
      "AUS  Australia         False           731\n",
      "JPN      Japan         False           588\n"
     ]
    }
   ],
   "source": [
    "print(  cars.loc[[\"AUS\", \"JPN\"]]  )"
   ]
  },
  {
   "block_group": "8b9d6c4de87a4d2a8effed9699d90fae",
   "cell_type": "markdown",
   "metadata": {
    "cell_id": "8b9d6c4de87a4d2a8effed9699d90fae",
    "deepnote_app_coordinates": {
     "h": 5,
     "w": 12,
     "x": 0,
     "y": 235
    },
    "deepnote_cell_type": "markdown",
    "tags": []
   },
   "source": [
    "Finally, you can access rows & columns at the same time\n",
    "\n",
    "*example:*\n",
    "\n",
    "*from the database **cars**, select the rows **country** and **cars_per_cap***"
   ]
  },
  {
   "block_group": "a40fe3ba4e044400aa25397f1bcd89af",
   "cell_type": "code",
   "execution_count": 12,
   "metadata": {
    "cell_id": "a40fe3ba4e044400aa25397f1bcd89af",
    "deepnote_app_coordinates": {
     "h": 5,
     "w": 12,
     "x": 0,
     "y": 241
    },
    "deepnote_cell_type": "code",
    "deepnote_to_be_reexecuted": false,
    "execution_millis": 166,
    "execution_start": 1669182429724,
    "source_hash": "c31b2c8c",
    "tags": []
   },
   "outputs": [
    {
     "name": "stdout",
     "output_type": "stream",
     "text": [
      "       country  cars_per_cap\n",
      "AUS  Australia           731\n",
      "JPN      Japan           588"
     ]
    },
    {
     "name": "stdout",
     "output_type": "stream",
     "text": [
      "\n"
     ]
    }
   ],
   "source": [
    "print(  cars.loc[ [\"AUS\", \"JPN\"] , [\"country\", \"cars_per_cap\"] ]  )"
   ]
  },
  {
   "block_group": "17169d991d494ab6b32de0df07a1ad6a",
   "cell_type": "markdown",
   "metadata": {
    "cell_id": "17169d991d494ab6b32de0df07a1ad6a",
    "deepnote_app_coordinates": {
     "h": 5,
     "w": 12,
     "x": 0,
     "y": 247
    },
    "deepnote_cell_type": "text-cell-h3",
    "formattedRanges": [],
    "is_collapsed": false,
    "tags": []
   },
   "source": [
    "### filtering with loc"
   ]
  },
  {
   "block_group": "240ea1d88ace41a3bf4d8e31a7be614f",
   "cell_type": "markdown",
   "metadata": {
    "cell_id": "240ea1d88ace41a3bf4d8e31a7be614f",
    "deepnote_app_coordinates": {
     "h": 5,
     "w": 12,
     "x": 0,
     "y": 253
    },
    "deepnote_cell_type": "markdown",
    "tags": []
   },
   "source": [
    "searching with loc given a condition, will give you a list of conditions."
   ]
  },
  {
   "block_group": "2e2dde2ff6514cd3a9f2b5f6d0504f00",
   "cell_type": "code",
   "execution_count": 13,
   "metadata": {
    "cell_id": "2e2dde2ff6514cd3a9f2b5f6d0504f00",
    "deepnote_app_coordinates": {
     "h": 5,
     "w": 12,
     "x": 0,
     "y": 259
    },
    "deepnote_cell_type": "code",
    "deepnote_to_be_reexecuted": false,
    "execution_millis": 0,
    "execution_start": 1669182429725,
    "source_hash": "ecf752cc",
    "tags": []
   },
   "outputs": [],
   "source": [
    "condition = cars.loc[:, [\"country\"]] == \"Japan\""
   ]
  },
  {
   "block_group": "559a5148b9474993b8ac1d3ce17790ed",
   "cell_type": "markdown",
   "metadata": {
    "cell_id": "559a5148b9474993b8ac1d3ce17790ed",
    "deepnote_app_coordinates": {
     "h": 5,
     "w": 12,
     "x": 0,
     "y": 265
    },
    "deepnote_cell_type": "text-cell-h2",
    "formattedRanges": [],
    "is_collapsed": false,
    "tags": []
   },
   "source": [
    "## Row accessing by Row index -> iloc[]"
   ]
  },
  {
   "block_group": "6cdd2db2d2bd4251beaf52818d271f7b",
   "cell_type": "markdown",
   "metadata": {
    "cell_id": "6cdd2db2d2bd4251beaf52818d271f7b",
    "deepnote_app_coordinates": {
     "h": 5,
     "w": 12,
     "x": 0,
     "y": 271
    },
    "deepnote_cell_type": "markdown",
    "tags": []
   },
   "source": [
    "iloc[] is used to show data based on the **row index** & the **columns index**"
   ]
  },
  {
   "block_group": "4d6210a4a80a448daecf23ad5796b4d8",
   "cell_type": "code",
   "execution_count": 14,
   "metadata": {
    "cell_id": "4d6210a4a80a448daecf23ad5796b4d8",
    "deepnote_app_coordinates": {
     "h": 5,
     "w": 12,
     "x": 0,
     "y": 277
    },
    "deepnote_cell_type": "code",
    "deepnote_to_be_reexecuted": false,
    "execution_millis": 163,
    "execution_start": 1669182429727,
    "source_hash": "5c3a7a3b",
    "tags": []
   },
   "outputs": [
    {
     "name": "stdout",
     "output_type": "stream",
     "text": [
      "           country  drives_right  cars_per_cap\n",
      "US   United States          True           809\n",
      "AUS      Australia         False           731\n",
      "JPN          Japan         False           588\n",
      "IN           India         False            18\n",
      "RU          Russia          True           200\n",
      "MOR        Morocco          True            70\n",
      "EG           Egypt          True            45\n"
     ]
    }
   ],
   "source": [
    "print(cars)"
   ]
  },
  {
   "block_group": "a20b98f26ded449fa69ce6770db81f25",
   "cell_type": "markdown",
   "metadata": {
    "cell_id": "a20b98f26ded449fa69ce6770db81f25",
    "deepnote_app_coordinates": {
     "h": 5,
     "w": 12,
     "x": 0,
     "y": 283
    },
    "deepnote_cell_type": "markdown",
    "tags": []
   },
   "source": [
    "given the previous database, print the row for **Australia**"
   ]
  },
  {
   "block_group": "a2ba1ba01fd347039b1ee2e22eb78f02",
   "cell_type": "code",
   "execution_count": 15,
   "metadata": {
    "cell_id": "a2ba1ba01fd347039b1ee2e22eb78f02",
    "deepnote_app_coordinates": {
     "h": 5,
     "w": 12,
     "x": 0,
     "y": 289
    },
    "deepnote_cell_type": "code",
    "deepnote_to_be_reexecuted": false,
    "execution_millis": 161,
    "execution_start": 1669182429729,
    "source_hash": "edbefb7",
    "tags": []
   },
   "outputs": [
    {
     "name": "stdout",
     "output_type": "stream",
     "text": [
      "       country  drives_right  cars_per_cap\n",
      "AUS  Australia         False           731\n"
     ]
    }
   ],
   "source": [
    "print(  cars.iloc[[1]]  )"
   ]
  },
  {
   "block_group": "8c30b72eac4b452da26791debaebb0d5",
   "cell_type": "markdown",
   "metadata": {
    "cell_id": "8c30b72eac4b452da26791debaebb0d5",
    "deepnote_app_coordinates": {
     "h": 5,
     "w": 12,
     "x": 0,
     "y": 295
    },
    "deepnote_cell_type": "markdown",
    "tags": []
   },
   "source": [
    "You can access multiple rows at the same time"
   ]
  },
  {
   "block_group": "e4497770431648068d19f999c3e972b3",
   "cell_type": "code",
   "execution_count": 16,
   "metadata": {
    "cell_id": "e4497770431648068d19f999c3e972b3",
    "deepnote_app_coordinates": {
     "h": 5,
     "w": 12,
     "x": 0,
     "y": 301
    },
    "deepnote_cell_type": "code",
    "deepnote_to_be_reexecuted": false,
    "execution_millis": 132,
    "execution_start": 1669182429759,
    "source_hash": "b8cb07a8",
    "tags": []
   },
   "outputs": [
    {
     "name": "stdout",
     "output_type": "stream",
     "text": [
      "       country  drives_right  cars_per_cap\n",
      "AUS  Australia         False           731\n",
      "JPN      Japan         False           588\n"
     ]
    }
   ],
   "source": [
    "print(  cars.iloc[[1,2]]  )"
   ]
  },
  {
   "block_group": "9f85d6d8745e4a209d6797fd84ee2689",
   "cell_type": "markdown",
   "metadata": {
    "cell_id": "9f85d6d8745e4a209d6797fd84ee2689",
    "deepnote_app_coordinates": {
     "h": 5,
     "w": 12,
     "x": 0,
     "y": 307
    },
    "deepnote_cell_type": "markdown",
    "tags": []
   },
   "source": [
    "Finally, you can access rows & columns at the same time\n",
    "\n",
    "*example:*\n",
    "\n",
    "*from the database **cars**, select the rows **country** and **cars_per_cap***"
   ]
  },
  {
   "block_group": "31fc8474ef91445d92a5a178250c0d4d",
   "cell_type": "code",
   "execution_count": 17,
   "metadata": {
    "cell_id": "31fc8474ef91445d92a5a178250c0d4d",
    "deepnote_app_coordinates": {
     "h": 5,
     "w": 12,
     "x": 0,
     "y": 313
    },
    "deepnote_cell_type": "code",
    "deepnote_to_be_reexecuted": false,
    "execution_millis": 131,
    "execution_start": 1669182429760,
    "source_hash": "73abcfcf",
    "tags": []
   },
   "outputs": [
    {
     "name": "stdout",
     "output_type": "stream",
     "text": [
      "       country  cars_per_cap\n",
      "AUS  Australia           731\n",
      "JPN      Japan           588\n"
     ]
    }
   ],
   "source": [
    "print(  cars.iloc[ [1,2] , [0, 2] ]  )"
   ]
  },
  {
   "block_group": "972ab6dde09744af8de1af1ce74acb3b",
   "cell_type": "markdown",
   "metadata": {
    "cell_id": "972ab6dde09744af8de1af1ce74acb3b",
    "deepnote_app_coordinates": {
     "h": 5,
     "w": 12,
     "x": 0,
     "y": 319
    },
    "deepnote_cell_type": "text-cell-h1",
    "formattedRanges": [],
    "is_collapsed": false,
    "tags": []
   },
   "source": [
    "# Add or delete data with pandas"
   ]
  },
  {
   "block_group": "b0b9bdd2827e42b58fabeedd2687b992",
   "cell_type": "code",
   "execution_count": 18,
   "metadata": {
    "cell_id": "b0b9bdd2827e42b58fabeedd2687b992",
    "deepnote_app_coordinates": {
     "h": 5,
     "w": 12,
     "x": 0,
     "y": 325
    },
    "deepnote_cell_type": "code",
    "deepnote_to_be_reexecuted": false,
    "execution_millis": 44,
    "execution_start": 1669182429761,
    "source_hash": "f9294098",
    "tags": []
   },
   "outputs": [
    {
     "name": "stdout",
     "output_type": "stream",
     "text": [
      "                            Name        Author  User Rating  Reviews  Price  \\\n",
      "0  10-Day Green Smoothie Cleanse      JJ Smith          4.7    17350      8   \n",
      "1              11/22/63: A Novel  Stephen King          4.6     2052     22   \n",
      "\n",
      "   Year        Genre  \n",
      "0  2016  Non Fiction  \n",
      "1  2011      Fiction  \n"
     ]
    }
   ],
   "source": [
    "import pandas as pd\n",
    "\n",
    "#let's import the data\n",
    "my_data = pd.read_csv(\"bestsellers-with-categories.csv\")\n",
    "\n",
    "print((my_data.head(2)))"
   ]
  },
  {
   "block_group": "a61f5809f54b452590e7f709aff716aa",
   "cell_type": "markdown",
   "metadata": {
    "cell_id": "a61f5809f54b452590e7f709aff716aa",
    "deepnote_app_coordinates": {
     "h": 5,
     "w": 12,
     "x": 0,
     "y": 331
    },
    "deepnote_cell_type": "text-cell-h2",
    "formattedRanges": [],
    "is_collapsed": false,
    "tags": []
   },
   "source": [
    "## Delete columns - df.drop()"
   ]
  },
  {
   "block_group": "eea7eb8d10e246968b1a8af28b0bb623",
   "cell_type": "code",
   "execution_count": 19,
   "metadata": {
    "cell_id": "eea7eb8d10e246968b1a8af28b0bb623",
    "deepnote_app_coordinates": {
     "h": 5,
     "w": 12,
     "x": 0,
     "y": 337
    },
    "deepnote_cell_type": "code",
    "deepnote_to_be_reexecuted": false,
    "execution_millis": 81,
    "execution_start": 1669182429813,
    "source_hash": "5fceccfb",
    "tags": []
   },
   "outputs": [
    {
     "name": "stdout",
     "output_type": "stream",
     "text": [
      "-----modified output:-----\n",
      "         Author  User Rating  Reviews  Price  Year        Genre\n",
      "0      JJ Smith          4.7    17350      8  2016  Non Fiction\n",
      "1  Stephen King          4.6     2052     22  2011      Fiction\n",
      "-----original data:-----\n",
      "                            Name        Author  User Rating  Reviews  Price  \\\n",
      "0  10-Day Green Smoothie Cleanse      JJ Smith          4.7    17350      8   \n",
      "1              11/22/63: A Novel  Stephen King          4.6     2052     22   \n",
      "\n",
      "   Year        Genre  \n",
      "0  2016  Non Fiction  \n",
      "1  2011      Fiction  \n"
     ]
    }
   ],
   "source": [
    "#axis = 0 for rows & axis = 1 for columns. Since i want to delete columns, i put axis = 1\n",
    "print(\"-----modified output:-----\")\n",
    "print ( my_data.drop([\"Name\"], axis=1).head(2) )\n",
    "\n",
    "#notice that the original dataset still contains the column\n",
    "print(\"-----original data:-----\")\n",
    "print(my_data.head(2))"
   ]
  },
  {
   "block_group": "041305887c6b42e386564cb0a4154b12",
   "cell_type": "markdown",
   "metadata": {
    "cell_id": "041305887c6b42e386564cb0a4154b12",
    "deepnote_app_coordinates": {
     "h": 5,
     "w": 12,
     "x": 0,
     "y": 343
    },
    "deepnote_cell_type": "markdown",
    "tags": []
   },
   "source": [
    "at this point, the column was deleted from the output but not from the **original dataframe**. in order for you to delete from the original dataset, use the ** inplace = TRUE ** argument"
   ]
  },
  {
   "block_group": "8348b2264ac44db69e9cd4c73d308be9",
   "cell_type": "code",
   "execution_count": 20,
   "metadata": {
    "cell_id": "8348b2264ac44db69e9cd4c73d308be9",
    "deepnote_app_coordinates": {
     "h": 5,
     "w": 12,
     "x": 0,
     "y": 349
    },
    "deepnote_cell_type": "code",
    "deepnote_to_be_reexecuted": false,
    "execution_millis": 75,
    "execution_start": 1669182429819,
    "source_hash": "7887f1c",
    "tags": []
   },
   "outputs": [
    {
     "name": "stdout",
     "output_type": "stream",
     "text": [
      "         Author  User Rating  Reviews  Price  Year        Genre\n",
      "0      JJ Smith          4.7    17350      8  2016  Non Fiction\n",
      "1  Stephen King          4.6     2052     22  2011      Fiction\n"
     ]
    }
   ],
   "source": [
    "my_data.drop(\"Name\", axis = 1, inplace=True)\n",
    "\n",
    "#notice that the column has been removed now from the dataset\n",
    "print(my_data.head(2))"
   ]
  },
  {
   "block_group": "7972f6318c8f423ab2bb9f6f7b9598fd",
   "cell_type": "markdown",
   "metadata": {
    "cell_id": "7972f6318c8f423ab2bb9f6f7b9598fd",
    "deepnote_app_coordinates": {
     "h": 5,
     "w": 12,
     "x": 0,
     "y": 355
    },
    "deepnote_cell_type": "text-cell-h2",
    "formattedRanges": [],
    "is_collapsed": false,
    "tags": []
   },
   "source": [
    "## Delete rows - df.drop()"
   ]
  },
  {
   "block_group": "289e3897b45b4c6cbb77da6d9beefbce",
   "cell_type": "markdown",
   "metadata": {
    "cell_id": "289e3897b45b4c6cbb77da6d9beefbce",
    "deepnote_app_coordinates": {
     "h": 5,
     "w": 12,
     "x": 0,
     "y": 361
    },
    "deepnote_cell_type": "markdown",
    "tags": []
   },
   "source": [
    "The process is the same than for deleting columns, the only difference is the argument **axis = 0** in this case"
   ]
  },
  {
   "block_group": "46668e6a1c3a4ac98b2651a41d9461a9",
   "cell_type": "code",
   "execution_count": 21,
   "metadata": {
    "cell_id": "46668e6a1c3a4ac98b2651a41d9461a9",
    "deepnote_app_coordinates": {
     "h": 5,
     "w": 12,
     "x": 0,
     "y": 367
    },
    "deepnote_cell_type": "code",
    "deepnote_to_be_reexecuted": false,
    "execution_millis": 39,
    "execution_start": 1669182429856,
    "source_hash": "64554d57",
    "tags": []
   },
   "outputs": [
    {
     "name": "stdout",
     "output_type": "stream",
     "text": [
      "-----original dataframe:-----\n",
      "                     Author  User Rating  Reviews  Price  Year        Genre\n",
      "0                  JJ Smith          4.7    17350      8  2016  Non Fiction\n",
      "1              Stephen King          4.6     2052     22  2011      Fiction\n",
      "2        Jordan B. Peterson          4.7    18979     15  2018  Non Fiction\n",
      "3             George Orwell          4.7    21424      6  2017      Fiction\n",
      "4  National Geographic Kids          4.8     7665     12  2019  Non Fiction\n",
      "-----without first row:-----\n",
      "                     Author  User Rating  Reviews  Price  Year        Genre\n",
      "1              Stephen King          4.6     2052     22  2011      Fiction\n",
      "2        Jordan B. Peterson          4.7    18979     15  2018  Non Fiction\n",
      "3             George Orwell          4.7    21424      6  2017      Fiction\n",
      "4  National Geographic Kids          4.8     7665     12  2019  Non Fiction\n",
      "5       George R. R. Martin          4.4    12643     11  2011      Fiction\n"
     ]
    }
   ],
   "source": [
    "print(\"-----original dataframe:-----\")\n",
    "print(my_data.head(5))\n",
    "\n",
    "#delete the first row\n",
    "print(\"-----without first row:-----\")\n",
    "print (my_data.drop(0, axis = 0).head(5))"
   ]
  },
  {
   "block_group": "6d53b1b012884b8c849e51b50bd47320",
   "cell_type": "markdown",
   "metadata": {
    "cell_id": "6d53b1b012884b8c849e51b50bd47320",
    "deepnote_app_coordinates": {
     "h": 5,
     "w": 12,
     "x": 0,
     "y": 373
    },
    "deepnote_cell_type": "text-cell-h2",
    "formattedRanges": [],
    "is_collapsed": false,
    "tags": []
   },
   "source": [
    "## Add columns"
   ]
  },
  {
   "block_group": "482a032ee115484bb46deae1730eb6f7",
   "cell_type": "code",
   "execution_count": 22,
   "metadata": {
    "cell_id": "482a032ee115484bb46deae1730eb6f7",
    "deepnote_app_coordinates": {
     "h": 5,
     "w": 12,
     "x": 0,
     "y": 379
    },
    "deepnote_cell_type": "code",
    "deepnote_to_be_reexecuted": false,
    "execution_millis": 38,
    "execution_start": 1669182429857,
    "source_hash": "42b2adfd",
    "tags": []
   },
   "outputs": [
    {
     "name": "stdout",
     "output_type": "stream",
     "text": [
      "                     Author  User Rating  Reviews  Price  Year        Genre\n",
      "0                  JJ Smith          4.7    17350      8  2016  Non Fiction\n",
      "1              Stephen King          4.6     2052     22  2011      Fiction\n",
      "2        Jordan B. Peterson          4.7    18979     15  2018  Non Fiction\n",
      "3             George Orwell          4.7    21424      6  2017      Fiction\n",
      "4  National Geographic Kids          4.8     7665     12  2019  Non Fiction\n",
      "                     Author  User Rating  Reviews  Price  Year        Genre  \\\n",
      "0                  JJ Smith          4.7    17350      8  2016  Non Fiction   \n",
      "1              Stephen King          4.6     2052     22  2011      Fiction   \n",
      "2        Jordan B. Peterson          4.7    18979     15  2018  Non Fiction   \n",
      "3             George Orwell          4.7    21424      6  2017      Fiction   \n",
      "4  National Geographic Kids          4.8     7665     12  2019  Non Fiction   \n",
      "\n",
      "   Country  \n",
      "0      NaN  \n",
      "1      NaN  \n",
      "2      NaN  \n",
      "3      NaN  \n",
      "4      NaN  \n"
     ]
    }
   ],
   "source": [
    "import pandas as pd\n",
    "import numpy as np\n",
    "\n",
    "#to add a column to our dataframe, we must use np.nan\n",
    "\n",
    "#original dataset\n",
    "print(my_data.head(5))\n",
    "\n",
    "#let's add a column called \"Country\"\n",
    "#nan is a no numeric value\n",
    "my_data[\"Country\"] = np.nan\n",
    "\n",
    "#print the modified dataframe\n",
    "print(my_data.head(5))"
   ]
  },
  {
   "block_group": "f9060f4a68b74b388c68d4bca2cab0a8",
   "cell_type": "markdown",
   "metadata": {
    "cell_id": "f9060f4a68b74b388c68d4bca2cab0a8",
    "deepnote_app_coordinates": {
     "h": 5,
     "w": 12,
     "x": 0,
     "y": 385
    },
    "deepnote_cell_type": "text-cell-h2",
    "formattedRanges": [],
    "is_collapsed": false,
    "tags": []
   },
   "source": [
    "## adding an index to the data"
   ]
  },
  {
   "block_group": "96fe12119b6c4bdf9835bb4c95d4858f",
   "cell_type": "code",
   "execution_count": 23,
   "metadata": {
    "cell_id": "96fe12119b6c4bdf9835bb4c95d4858f",
    "deepnote_app_coordinates": {
     "h": 5,
     "w": 12,
     "x": 0,
     "y": 391
    },
    "deepnote_cell_type": "code",
    "deepnote_to_be_reexecuted": false,
    "execution_millis": 52,
    "execution_start": 1669182429861,
    "source_hash": "480f8454",
    "tags": []
   },
   "outputs": [
    {
     "name": "stdout",
     "output_type": "stream",
     "text": [
      "550\n",
      "                       Author  User Rating  Reviews  Price  Year        Genre  \\\n",
      "0                    JJ Smith          4.7    17350      8  2016  Non Fiction   \n",
      "1                Stephen King          4.6     2052     22  2011      Fiction   \n",
      "2          Jordan B. Peterson          4.7    18979     15  2018  Non Fiction   \n",
      "3               George Orwell          4.7    21424      6  2017      Fiction   \n",
      "4    National Geographic Kids          4.8     7665     12  2019  Non Fiction   \n",
      "..                        ...          ...      ...    ...   ...          ...   \n",
      "545               Jeff Kinney          4.9     9413      8  2019      Fiction   \n",
      "546               Jen Sincero          4.7    14331      8  2016  Non Fiction   \n",
      "547               Jen Sincero          4.7    14331      8  2017  Non Fiction   \n",
      "548               Jen Sincero          4.7    14331      8  2018  Non Fiction   \n",
      "549               Jen Sincero          4.7    14331      8  2019  Non Fiction   \n",
      "\n",
      "     Country  indexx  \n",
      "0        NaN       0  \n",
      "1        NaN       1  \n",
      "2        NaN       2  \n",
      "3        NaN       3  \n",
      "4        NaN       4  \n",
      "..       ...     ...  \n",
      "545      NaN     545  \n",
      "546      NaN     546  \n",
      "547      NaN     547  \n",
      "548      NaN     548  \n",
      "549      NaN     549  \n",
      "\n",
      "[550 rows x 8 columns]\n"
     ]
    }
   ],
   "source": [
    "#first count the rows in your DataFrame\n",
    "\n",
    "print( my_data.shape[0] )\n",
    "\n",
    "#now create a numpy array with that length\n",
    "\n",
    "arrayayay = np.arange(0, my_data.shape[0])\n",
    "\n",
    "#now create the column that will assign the item to the data and assign that array to it\n",
    "#(yes, you can assign numpy arrays as column values)\n",
    "\n",
    "my_data[\"indexx\"] = arrayayay\n",
    "\n",
    "print(my_data)"
   ]
  },
  {
   "block_group": "c8ca096afb22495f912d16faa244a78c",
   "cell_type": "markdown",
   "metadata": {
    "cell_id": "c8ca096afb22495f912d16faa244a78c",
    "deepnote_app_coordinates": {
     "h": 5,
     "w": 12,
     "x": 0,
     "y": 397
    },
    "deepnote_cell_type": "text-cell-h2",
    "formattedRanges": [],
    "is_collapsed": false,
    "tags": []
   },
   "source": [
    "## Add rows"
   ]
  },
  {
   "block_group": "2e864968c90543838ecd17e271f5afea",
   "cell_type": "markdown",
   "metadata": {
    "cell_id": "2e864968c90543838ecd17e271f5afea",
    "deepnote_app_coordinates": {
     "h": 5,
     "w": 12,
     "x": 0,
     "y": 403
    },
    "deepnote_cell_type": "markdown",
    "tags": []
   },
   "source": [
    "To add rows in your dataframe, use *array*.append(row)"
   ]
  },
  {
   "block_group": "eeba49a541554c35a36a53c3bb205618",
   "cell_type": "code",
   "execution_count": 24,
   "metadata": {
    "cell_id": "eeba49a541554c35a36a53c3bb205618",
    "deepnote_app_coordinates": {
     "h": 5,
     "w": 12,
     "x": 0,
     "y": 409
    },
    "deepnote_cell_type": "code",
    "deepnote_to_be_reexecuted": false,
    "execution_millis": 21,
    "execution_start": 1669182429942,
    "source_hash": "78a9a6c1",
    "tags": []
   },
   "outputs": [
    {
     "ename": "AttributeError",
     "evalue": "'DataFrame' object has no attribute 'append'",
     "output_type": "error",
     "traceback": [
      "\u001b[1;31m---------------------------------------------------------------------------\u001b[0m",
      "\u001b[1;31mAttributeError\u001b[0m                            Traceback (most recent call last)",
      "\u001b[1;32m~\\AppData\\Local\\Temp\\ipykernel_6992\\2681446758.py\u001b[0m in \u001b[0;36m?\u001b[1;34m()\u001b[0m\n\u001b[0;32m      1\u001b[0m \u001b[1;31m#let's append the data to the list\u001b[0m\u001b[1;33m\u001b[0m\u001b[1;33m\u001b[0m\u001b[0m\n\u001b[0;32m      2\u001b[0m \u001b[1;33m\u001b[0m\u001b[0m\n\u001b[1;32m----> 3\u001b[1;33m \u001b[0mprint\u001b[0m\u001b[1;33m(\u001b[0m\u001b[0mmy_data\u001b[0m\u001b[1;33m.\u001b[0m\u001b[0mappend\u001b[0m\u001b[1;33m(\u001b[0m\u001b[0mmy_data\u001b[0m\u001b[1;33m)\u001b[0m\u001b[1;33m)\u001b[0m\u001b[1;33m\u001b[0m\u001b[1;33m\u001b[0m\u001b[0m\n\u001b[0m",
      "\u001b[1;32m~\\miniconda3\\Lib\\site-packages\\pandas\\core\\generic.py\u001b[0m in \u001b[0;36m?\u001b[1;34m(self, name)\u001b[0m\n\u001b[0;32m   6198\u001b[0m             \u001b[1;32mand\u001b[0m \u001b[0mname\u001b[0m \u001b[1;32mnot\u001b[0m \u001b[1;32min\u001b[0m \u001b[0mself\u001b[0m\u001b[1;33m.\u001b[0m\u001b[0m_accessors\u001b[0m\u001b[1;33m\u001b[0m\u001b[1;33m\u001b[0m\u001b[0m\n\u001b[0;32m   6199\u001b[0m             \u001b[1;32mand\u001b[0m \u001b[0mself\u001b[0m\u001b[1;33m.\u001b[0m\u001b[0m_info_axis\u001b[0m\u001b[1;33m.\u001b[0m\u001b[0m_can_hold_identifiers_and_holds_name\u001b[0m\u001b[1;33m(\u001b[0m\u001b[0mname\u001b[0m\u001b[1;33m)\u001b[0m\u001b[1;33m\u001b[0m\u001b[1;33m\u001b[0m\u001b[0m\n\u001b[0;32m   6200\u001b[0m         ):\n\u001b[0;32m   6201\u001b[0m             \u001b[1;32mreturn\u001b[0m \u001b[0mself\u001b[0m\u001b[1;33m[\u001b[0m\u001b[0mname\u001b[0m\u001b[1;33m]\u001b[0m\u001b[1;33m\u001b[0m\u001b[1;33m\u001b[0m\u001b[0m\n\u001b[1;32m-> 6202\u001b[1;33m         \u001b[1;32mreturn\u001b[0m \u001b[0mobject\u001b[0m\u001b[1;33m.\u001b[0m\u001b[0m__getattribute__\u001b[0m\u001b[1;33m(\u001b[0m\u001b[0mself\u001b[0m\u001b[1;33m,\u001b[0m \u001b[0mname\u001b[0m\u001b[1;33m)\u001b[0m\u001b[1;33m\u001b[0m\u001b[1;33m\u001b[0m\u001b[0m\n\u001b[0m",
      "\u001b[1;31mAttributeError\u001b[0m: 'DataFrame' object has no attribute 'append'"
     ]
    }
   ],
   "source": [
    "#let's append the data to the list\n",
    "\n",
    "print(my_data.append(my_data))"
   ]
  },
  {
   "block_group": "d56d305919334b8c9e06625f4eadcbf4",
   "cell_type": "markdown",
   "metadata": {
    "cell_id": "d56d305919334b8c9e06625f4eadcbf4",
    "deepnote_app_coordinates": {
     "h": 5,
     "w": 12,
     "x": 0,
     "y": 415
    },
    "deepnote_cell_type": "text-cell-h1",
    "formattedRanges": [],
    "is_collapsed": false,
    "tags": []
   },
   "source": [
    "# Deal with Null Data"
   ]
  },
  {
   "block_group": "9c18c0d3a2804dff9ff8bb43709e8f87",
   "cell_type": "markdown",
   "metadata": {
    "cell_id": "9c18c0d3a2804dff9ff8bb43709e8f87",
    "deepnote_app_coordinates": {
     "h": 5,
     "w": 12,
     "x": 0,
     "y": 421
    },
    "deepnote_cell_type": "markdown",
    "tags": []
   },
   "source": [
    "Let's create a dataframe with null values"
   ]
  },
  {
   "block_group": "b058b096a9884345a6a3d9cbbf7745f1",
   "cell_type": "code",
   "execution_count": 25,
   "metadata": {
    "cell_id": "b058b096a9884345a6a3d9cbbf7745f1",
    "deepnote_app_coordinates": {
     "h": 5,
     "w": 12,
     "x": 0,
     "y": 427
    },
    "deepnote_cell_type": "code",
    "deepnote_to_be_reexecuted": false,
    "execution_millis": 20,
    "execution_start": 1669182429943,
    "source_hash": "a96d06f0",
    "tags": []
   },
   "outputs": [
    {
     "name": "stdout",
     "output_type": "stream",
     "text": [
      "   Col1  Col2  col3\n",
      "0   1.0   4.0     a\n",
      "1   2.0   NaN     b\n",
      "2   3.0   6.0     c\n",
      "3   NaN   7.0  None\n"
     ]
    }
   ],
   "source": [
    "import numpy as np\n",
    "import pandas as pd\n",
    "\n",
    "dicttt = {\n",
    "    \"Col1\":[1, 2, 3, np.nan],\n",
    "    \"Col2\":[4, np.nan, 6, 7], \n",
    "    \"col3\":[\"a\", \"b\", \"c\", None]\n",
    "}\n",
    "\n",
    "df = pd.DataFrame(dicttt)\n",
    "\n",
    "print(df)"
   ]
  },
  {
   "block_group": "ad45d80611024be689a14f255191b240",
   "cell_type": "markdown",
   "metadata": {
    "cell_id": "ad45d80611024be689a14f255191b240",
    "deepnote_app_coordinates": {
     "h": 5,
     "w": 12,
     "x": 0,
     "y": 433
    },
    "deepnote_cell_type": "text-cell-h2",
    "formattedRanges": [],
    "is_collapsed": false,
    "tags": []
   },
   "source": [
    "## identify null data in a DF"
   ]
  },
  {
   "block_group": "e676233485c64fd29d877c23a54bd0fd",
   "cell_type": "code",
   "execution_count": 26,
   "metadata": {
    "cell_id": "e676233485c64fd29d877c23a54bd0fd",
    "deepnote_app_coordinates": {
     "h": 5,
     "w": 12,
     "x": 0,
     "y": 439
    },
    "deepnote_cell_type": "code",
    "deepnote_to_be_reexecuted": false,
    "execution_millis": 19,
    "execution_start": 1669182429944,
    "source_hash": "87c28c51",
    "tags": []
   },
   "outputs": [
    {
     "name": "stdout",
     "output_type": "stream",
     "text": [
      "-----Boolean dataframe: ------\n",
      "    Col1   Col2   col3\n",
      "0  False  False  False\n",
      "1  False   True  False\n",
      "2  False  False  False\n",
      "3   True  False   True\n",
      "-----Numeric dataframe: ------\n",
      "   Col1  Col2  col3\n",
      "0     0     0     0\n",
      "1     0     1     0\n",
      "2     0     0     0\n",
      "3     1     0     1\n"
     ]
    }
   ],
   "source": [
    "#isnull() will help you to identify null values\n",
    "print(\"-----Boolean dataframe: ------\") \n",
    "print( df.isnull() )\n",
    "\n",
    "#if you want to turn those values into numeric:\n",
    "print(\"-----Numeric dataframe: ------\") \n",
    "print( df.isnull()*1 )"
   ]
  },
  {
   "block_group": "975b2108d2394d08a364bc5aaf097d78",
   "cell_type": "markdown",
   "metadata": {
    "cell_id": "975b2108d2394d08a364bc5aaf097d78",
    "deepnote_app_coordinates": {
     "h": 5,
     "w": 12,
     "x": 0,
     "y": 445
    },
    "deepnote_cell_type": "text-cell-h2",
    "formattedRanges": [],
    "is_collapsed": false,
    "tags": []
   },
   "source": [
    "## replace null values"
   ]
  },
  {
   "block_group": "d1d13b5a10d7422c8a969200b03681e3",
   "cell_type": "markdown",
   "metadata": {
    "cell_id": "d1d13b5a10d7422c8a969200b03681e3",
    "deepnote_app_coordinates": {
     "h": 5,
     "w": 12,
     "x": 0,
     "y": 451
    },
    "deepnote_cell_type": "text-cell-h3",
    "formattedRanges": [],
    "is_collapsed": false,
    "tags": []
   },
   "source": [
    "### replace for a string"
   ]
  },
  {
   "block_group": "34e4c9ead28e4766b848fe0506c0d1bf",
   "cell_type": "markdown",
   "metadata": {
    "cell_id": "34e4c9ead28e4766b848fe0506c0d1bf",
    "deepnote_app_coordinates": {
     "h": 5,
     "w": 12,
     "x": 0,
     "y": 457
    },
    "deepnote_cell_type": "markdown",
    "tags": []
   },
   "source": [
    "with **.fillna()** you can replace null values for whatever"
   ]
  },
  {
   "block_group": "e5968d06077b4eaf84eec5a40836d456",
   "cell_type": "code",
   "execution_count": 27,
   "metadata": {
    "cell_id": "e5968d06077b4eaf84eec5a40836d456",
    "deepnote_app_coordinates": {
     "h": 5,
     "w": 12,
     "x": 0,
     "y": 463
    },
    "deepnote_cell_type": "code",
    "deepnote_to_be_reexecuted": false,
    "execution_millis": 2,
    "execution_start": 1669182429992,
    "source_hash": "4e77f47f",
    "tags": []
   },
   "outputs": [
    {
     "name": "stdout",
     "output_type": "stream",
     "text": [
      "      Col1     Col2     col3\n",
      "0      1.0      4.0        a\n",
      "1      2.0  missing        b\n",
      "2      3.0      6.0        c\n",
      "3  missing      7.0  missing\n"
     ]
    }
   ],
   "source": [
    "#i will replace null values for the word \"missing\"\n",
    "\n",
    "print( df.fillna(\"missing\") )"
   ]
  },
  {
   "block_group": "18b145a0f37041eebeef861692efae0a",
   "cell_type": "markdown",
   "metadata": {
    "cell_id": "18b145a0f37041eebeef861692efae0a",
    "deepnote_app_coordinates": {
     "h": 5,
     "w": 12,
     "x": 0,
     "y": 469
    },
    "deepnote_cell_type": "text-cell-h3",
    "formattedRanges": [],
    "is_collapsed": false,
    "tags": []
   },
   "source": [
    "### replace for column mean"
   ]
  },
  {
   "block_group": "61a7f71d48bf41a2af9379d446516917",
   "cell_type": "code",
   "execution_count": 28,
   "metadata": {
    "cell_id": "61a7f71d48bf41a2af9379d446516917",
    "deepnote_app_coordinates": {
     "h": 5,
     "w": 12,
     "x": 0,
     "y": 475
    },
    "deepnote_cell_type": "code",
    "deepnote_to_be_reexecuted": false,
    "execution_millis": 2,
    "execution_start": 1669182429992,
    "source_hash": "7e0ae340",
    "tags": []
   },
   "outputs": [
    {
     "name": "stdout",
     "output_type": "stream",
     "text": [
      "   Col1      Col2  col3\n",
      "0   1.0  4.000000     a\n",
      "1   2.0  5.666667     b\n",
      "2   3.0  6.000000     c\n",
      "3   2.0  7.000000  None\n"
     ]
    }
   ],
   "source": [
    "print( df.fillna(df.mean()) )"
   ]
  },
  {
   "block_group": "44bad6bfe9f04a6baad984f58059a8e3",
   "cell_type": "markdown",
   "metadata": {
    "cell_id": "44bad6bfe9f04a6baad984f58059a8e3",
    "deepnote_app_coordinates": {
     "h": 5,
     "w": 12,
     "x": 0,
     "y": 481
    },
    "deepnote_cell_type": "text-cell-h2",
    "formattedRanges": [],
    "is_collapsed": false,
    "tags": []
   },
   "source": [
    "## replace null values for an interpolation"
   ]
  },
  {
   "block_group": "4fc1a8175d5649bdabf1fc20c1b96b49",
   "cell_type": "code",
   "execution_count": 29,
   "metadata": {
    "cell_id": "4fc1a8175d5649bdabf1fc20c1b96b49",
    "deepnote_app_coordinates": {
     "h": 5,
     "w": 12,
     "x": 0,
     "y": 487
    },
    "deepnote_cell_type": "code",
    "deepnote_to_be_reexecuted": false,
    "execution_millis": 2,
    "execution_start": 1669182430033,
    "source_hash": "3ec65124",
    "tags": []
   },
   "outputs": [
    {
     "name": "stdout",
     "output_type": "stream",
     "text": [
      "   Col1  Col2  col3\n",
      "0   1.0   4.0     a\n",
      "1   2.0   5.0     b\n",
      "2   3.0   6.0     c\n",
      "3   3.0   7.0  None\n"
     ]
    }
   ],
   "source": [
    "print( df.interpolate() )"
   ]
  },
  {
   "block_group": "2c8e643cf5fc4dbd819b0ff4f6958273",
   "cell_type": "markdown",
   "metadata": {
    "cell_id": "2c8e643cf5fc4dbd819b0ff4f6958273",
    "deepnote_app_coordinates": {
     "h": 5,
     "w": 12,
     "x": 0,
     "y": 493
    },
    "deepnote_cell_type": "text-cell-h2",
    "formattedRanges": [],
    "is_collapsed": false,
    "tags": []
   },
   "source": [
    "## delete null values"
   ]
  },
  {
   "block_group": "b4d71266c8534b2386748e28ed4d3c43",
   "cell_type": "markdown",
   "metadata": {
    "cell_id": "b4d71266c8534b2386748e28ed4d3c43",
    "deepnote_app_coordinates": {
     "h": 5,
     "w": 12,
     "x": 0,
     "y": 499
    },
    "deepnote_cell_type": "markdown",
    "tags": []
   },
   "source": [
    "this will **delete the entire row**"
   ]
  },
  {
   "block_group": "a87a733aa021483384e8c254d8c75d56",
   "cell_type": "code",
   "execution_count": 30,
   "metadata": {
    "cell_id": "a87a733aa021483384e8c254d8c75d56",
    "deepnote_app_coordinates": {
     "h": 5,
     "w": 12,
     "x": 0,
     "y": 505
    },
    "deepnote_cell_type": "code",
    "deepnote_to_be_reexecuted": false,
    "execution_millis": 2,
    "execution_start": 1669182430034,
    "source_hash": "1358b4a4",
    "tags": []
   },
   "outputs": [
    {
     "name": "stdout",
     "output_type": "stream",
     "text": [
      "   Col1  Col2 col3\n",
      "0   1.0   4.0    a\n",
      "2   3.0   6.0    c\n"
     ]
    }
   ],
   "source": [
    "print( df.dropna() )"
   ]
  },
  {
   "block_group": "8287a0a306e44ffab4da8a672f796d25",
   "cell_type": "markdown",
   "metadata": {
    "cell_id": "8287a0a306e44ffab4da8a672f796d25",
    "deepnote_app_coordinates": {
     "h": 5,
     "w": 12,
     "x": 0,
     "y": 511
    },
    "deepnote_cell_type": "text-cell-h1",
    "formattedRanges": [],
    "is_collapsed": false,
    "tags": []
   },
   "source": [
    "# Filtering with conditions"
   ]
  },
  {
   "block_group": "6f47fff6abec471bb6d8de7c379f9d74",
   "cell_type": "code",
   "execution_count": 31,
   "metadata": {
    "cell_id": "6f47fff6abec471bb6d8de7c379f9d74",
    "deepnote_app_coordinates": {
     "h": 5,
     "w": 12,
     "x": 0,
     "y": 517
    },
    "deepnote_cell_type": "code",
    "deepnote_to_be_reexecuted": false,
    "execution_millis": 3,
    "execution_start": 1669182430034,
    "source_hash": "e9ef461e",
    "tags": []
   },
   "outputs": [
    {
     "name": "stdout",
     "output_type": "stream",
     "text": [
      "                                                Name  \\\n",
      "0                      10-Day Green Smoothie Cleanse   \n",
      "1                                  11/22/63: A Novel   \n",
      "2            12 Rules for Life: An Antidote to Chaos   \n",
      "3                             1984 (Signet Classics)   \n",
      "4  5,000 Awesome Facts (About Everything!) (Natio...   \n",
      "\n",
      "                     Author  User Rating  Reviews  Price  Year        Genre  \n",
      "0                  JJ Smith          4.7    17350      8  2016  Non Fiction  \n",
      "1              Stephen King          4.6     2052     22  2011      Fiction  \n",
      "2        Jordan B. Peterson          4.7    18979     15  2018  Non Fiction  \n",
      "3             George Orwell          4.7    21424      6  2017      Fiction  \n",
      "4  National Geographic Kids          4.8     7665     12  2019  Non Fiction  \n"
     ]
    }
   ],
   "source": [
    "#let's import the dataset\n",
    "\n",
    "import pandas as pd\n",
    "\n",
    "data = pd.read_csv(\"bestsellers-with-categories.csv\")\n",
    "\n",
    "#first 5 rows\n",
    "print(data.head(5))"
   ]
  },
  {
   "block_group": "627f98a5d84645c8bb1080ecc2c4c473",
   "cell_type": "markdown",
   "metadata": {
    "cell_id": "627f98a5d84645c8bb1080ecc2c4c473",
    "deepnote_app_coordinates": {
     "h": 5,
     "w": 12,
     "x": 0,
     "y": 523
    },
    "deepnote_cell_type": "markdown",
    "tags": []
   },
   "source": [
    "**Filtering structure is:**\n",
    "\n",
    "**ColumnName > 3**\n",
    "DataFrame[ DataFrame[\"ColumnName\"] > 3 ]\n",
    "\n",
    "**ColumnName = 5**\n",
    "DataFrame[ DataFrame[\"ColumnName\"] == 5 ]\n",
    "\n",
    "*example:*\n",
    "\n",
    "filter those with rating greater than or equal to 4.8"
   ]
  },
  {
   "block_group": "d1a6961851f140ca909e58d520096128",
   "cell_type": "code",
   "execution_count": 32,
   "metadata": {
    "cell_id": "d1a6961851f140ca909e58d520096128",
    "deepnote_app_coordinates": {
     "h": 5,
     "w": 12,
     "x": 0,
     "y": 529
    },
    "deepnote_cell_type": "code",
    "deepnote_to_be_reexecuted": false,
    "execution_millis": 2,
    "execution_start": 1669182430067,
    "source_hash": "f021508c",
    "tags": []
   },
   "outputs": [
    {
     "name": "stdout",
     "output_type": "stream",
     "text": [
      "                                                  Name  \\\n",
      "4    5,000 Awesome Facts (About Everything!) (Natio...   \n",
      "19                                  Alexander Hamilton   \n",
      "30   Barefoot Contessa Foolproof: Recipes You Can T...   \n",
      "32                                            Becoming   \n",
      "33                                            Becoming   \n",
      "..                                                 ...   \n",
      "541                                             Wonder   \n",
      "542                                             Wonder   \n",
      "543                                             Wonder   \n",
      "544                                             Wonder   \n",
      "545       Wrecking Ball (Diary of a Wimpy Kid Book 14)   \n",
      "\n",
      "                       Author  User Rating  Reviews  Price  Year        Genre  \n",
      "4    National Geographic Kids          4.8     7665     12  2019  Non Fiction  \n",
      "19                Ron Chernow          4.8     9198     13  2016  Non Fiction  \n",
      "30                 Ina Garten          4.8     1296     24  2012  Non Fiction  \n",
      "32             Michelle Obama          4.8    61133     11  2018  Non Fiction  \n",
      "33             Michelle Obama          4.8    61133     11  2019  Non Fiction  \n",
      "..                        ...          ...      ...    ...   ...          ...  \n",
      "541             R. J. Palacio          4.8    21625      9  2014      Fiction  \n",
      "542             R. J. Palacio          4.8    21625      9  2015      Fiction  \n",
      "543             R. J. Palacio          4.8    21625      9  2016      Fiction  \n",
      "544             R. J. Palacio          4.8    21625      9  2017      Fiction  \n",
      "545               Jeff Kinney          4.9     9413      8  2019      Fiction  \n",
      "\n",
      "[179 rows x 7 columns]\n"
     ]
    }
   ],
   "source": [
    "print( data[  data[\"User Rating\"] >= 4.8  ] )"
   ]
  },
  {
   "block_group": "48994dbbbd1544f48c252edeaeaa3b7b",
   "cell_type": "markdown",
   "metadata": {
    "cell_id": "48994dbbbd1544f48c252edeaeaa3b7b",
    "deepnote_app_coordinates": {
     "h": 5,
     "w": 12,
     "x": 0,
     "y": 535
    },
    "deepnote_cell_type": "markdown",
    "tags": []
   },
   "source": [
    "*example*\n",
    "\n",
    "filter those which Genre is Fiction"
   ]
  },
  {
   "block_group": "e9f4e44f05804955a1917a2aeb7cc47d",
   "cell_type": "code",
   "execution_count": 33,
   "metadata": {
    "cell_id": "e9f4e44f05804955a1917a2aeb7cc47d",
    "deepnote_app_coordinates": {
     "h": 5,
     "w": 12,
     "x": 0,
     "y": 541
    },
    "deepnote_cell_type": "code",
    "deepnote_to_be_reexecuted": false,
    "execution_millis": 3,
    "execution_start": 1669182430068,
    "source_hash": "5e1ab0c0",
    "tags": []
   },
   "outputs": [
    {
     "name": "stdout",
     "output_type": "stream",
     "text": [
      "                                                  Name               Author  \\\n",
      "1                                    11/22/63: A Novel         Stephen King   \n",
      "3                               1984 (Signet Classics)        George Orwell   \n",
      "5        A Dance with Dragons (A Song of Ice and Fire)  George R. R. Martin   \n",
      "6    A Game of Thrones / A Clash of Kings / A Storm...  George R. R. Martin   \n",
      "7                       A Gentleman in Moscow: A Novel          Amor Towles   \n",
      "..                                                 ...                  ...   \n",
      "541                                             Wonder        R. J. Palacio   \n",
      "542                                             Wonder        R. J. Palacio   \n",
      "543                                             Wonder        R. J. Palacio   \n",
      "544                                             Wonder        R. J. Palacio   \n",
      "545       Wrecking Ball (Diary of a Wimpy Kid Book 14)          Jeff Kinney   \n",
      "\n",
      "     User Rating  Reviews  Price  Year    Genre  \n",
      "1            4.6     2052     22  2011  Fiction  \n",
      "3            4.7    21424      6  2017  Fiction  \n",
      "5            4.4    12643     11  2011  Fiction  \n",
      "6            4.7    19735     30  2014  Fiction  \n",
      "7            4.7    19699     15  2017  Fiction  \n",
      "..           ...      ...    ...   ...      ...  \n",
      "541          4.8    21625      9  2014  Fiction  \n",
      "542          4.8    21625      9  2015  Fiction  \n",
      "543          4.8    21625      9  2016  Fiction  \n",
      "544          4.8    21625      9  2017  Fiction  \n",
      "545          4.9     9413      8  2019  Fiction  \n",
      "\n",
      "[240 rows x 7 columns]\n"
     ]
    }
   ],
   "source": [
    "print( data[ data[\"Genre\"] == \"Fiction\" ] )"
   ]
  },
  {
   "block_group": "3605c3483d974caa951f665e30d39551",
   "cell_type": "markdown",
   "metadata": {
    "cell_id": "3605c3483d974caa951f665e30d39551",
    "deepnote_app_coordinates": {
     "h": 5,
     "w": 12,
     "x": 0,
     "y": 547
    },
    "deepnote_cell_type": "text-cell-h2",
    "formattedRanges": [],
    "is_collapsed": false,
    "tags": []
   },
   "source": [
    "## Filtering with multiple conditions"
   ]
  },
  {
   "block_group": "2aa50f6d81dc48bb8f7b7a066f73792d",
   "cell_type": "markdown",
   "metadata": {
    "cell_id": "2aa50f6d81dc48bb8f7b7a066f73792d",
    "deepnote_app_coordinates": {
     "h": 5,
     "w": 12,
     "x": 0,
     "y": 553
    },
    "deepnote_cell_type": "markdown",
    "tags": []
   },
   "source": [
    "For multiple conditions, it is recommended to **assign the conditions to an object**\n",
    "\n",
    "*example:*\n",
    "print those which **genre is fiction** and were **published after 2018**"
   ]
  },
  {
   "block_group": "a72a44f81c9c43cba44aabf3366d19c4",
   "cell_type": "code",
   "execution_count": 34,
   "metadata": {
    "cell_id": "a72a44f81c9c43cba44aabf3366d19c4",
    "deepnote_app_coordinates": {
     "h": 5,
     "w": 12,
     "x": 0,
     "y": 559
    },
    "deepnote_cell_type": "code",
    "deepnote_to_be_reexecuted": false,
    "execution_millis": 6,
    "execution_start": 1669182430117,
    "source_hash": "9299f529",
    "tags": []
   },
   "outputs": [
    {
     "name": "stdout",
     "output_type": "stream",
     "text": [
      "                                                  Name                 Author  \\\n",
      "13                    A Wrinkle in Time (Time Quintet)      Madeleine L'Engle   \n",
      "41            Brown Bear, Brown Bear, What Do You See?        Bill Martin Jr.   \n",
      "53       Crazy Rich Asians (Crazy Rich Asians Trilogy)             Kevin Kwan   \n",
      "66                      Dear Zoo: A Lift-the-Flap Book           Rod Campbell   \n",
      "81   Dog Man and Cat Kid: From the Creator of Capta...             Dav Pilkey   \n",
      "83   Dog Man: Brawl of the Wild: From the Creator o...             Dav Pilkey   \n",
      "84   Dog Man: Brawl of the Wild: From the Creator o...             Dav Pilkey   \n",
      "85   Dog Man: Fetch-22: From the Creator of Captain...             Dav Pilkey   \n",
      "86   Dog Man: For Whom the Ball Rolls: From the Cre...             Dav Pilkey   \n",
      "87   Dog Man: Lord of the Fleas: From the Creator o...             Dav Pilkey   \n",
      "101                                     Fahrenheit 451           Ray Bradbury   \n",
      "126                               Giraffes Can't Dance          Giles Andreae   \n",
      "127                               Giraffes Can't Dance          Giles Andreae   \n",
      "144                                     Goodnight Moon    Margaret Wise Brown   \n",
      "145                                     Goodnight Moon    Margaret Wise Brown   \n",
      "155  Harry Potter and the Goblet of Fire: The Illus...          J. K. Rowling   \n",
      "179                       If Animals Kissed Good Night      Ann Whitford Paul   \n",
      "207  Last Week Tonight with John Oliver Presents A ...             Jill Twiss   \n",
      "220                            Little Fires Everywhere             Celeste Ng   \n",
      "251                          Oh, the Places You'll Go!              Dr. Seuss   \n",
      "252                          Oh, the Places You'll Go!              Dr. Seuss   \n",
      "266             Player's Handbook (Dungeons & Dragons)       Wizards RPG Team   \n",
      "267             Player's Handbook (Dungeons & Dragons)       Wizards RPG Team   \n",
      "287                          Ready Player One: A Novel           Ernest Cline   \n",
      "303             Strange Planet (Strange Planet Series)         Nathan W. Pyle   \n",
      "397                             The Guardians: A Novel           John Grisham   \n",
      "401                                    The Hate U Give           Angie Thomas   \n",
      "435        The Meltdown (Diary of a Wimpy Kid Book 13)            Jeff Kinney   \n",
      "452                                 The Pout-Pout Fish         Deborah Diesen   \n",
      "454                  The President Is Missing: A Novel        James Patterson   \n",
      "462                                 The Silent Patient       Alex Michaelides   \n",
      "481                        The Very Hungry Caterpillar             Eric Carle   \n",
      "482                        The Very Hungry Caterpillar             Eric Carle   \n",
      "488                   The Wonderful Things You Will Be  Emily Winfield Martin   \n",
      "489                   The Wonderful Things You Will Be  Emily Winfield Martin   \n",
      "490                                   The Wonky Donkey            Craig Smith   \n",
      "491                                   The Wonky Donkey            Craig Smith   \n",
      "509                              To Kill a Mockingbird             Harper Lee   \n",
      "529  What Should Danny Do? (The Power to Choose Ser...              Adir Levy   \n",
      "534                            Where the Crawdads Sing            Delia Owens   \n",
      "545       Wrecking Ball (Diary of a Wimpy Kid Book 14)            Jeff Kinney   \n",
      "\n",
      "     User Rating  Reviews  Price  Year    Genre  \n",
      "13           4.5     5153      5  2018  Fiction  \n",
      "41           4.9    14344      5  2019  Fiction  \n",
      "53           4.3     6143      8  2018  Fiction  \n",
      "66           4.8    10922      5  2018  Fiction  \n",
      "81           4.9     5062      6  2018  Fiction  \n",
      "83           4.9     7235      4  2018  Fiction  \n",
      "84           4.9     7235      4  2019  Fiction  \n",
      "85           4.9    12619      8  2019  Fiction  \n",
      "86           4.9     9089      8  2019  Fiction  \n",
      "87           4.9     5470      6  2018  Fiction  \n",
      "101          4.6    10721      8  2018  Fiction  \n",
      "126          4.8    14038      4  2018  Fiction  \n",
      "127          4.8    14038      4  2019  Fiction  \n",
      "144          4.8     8837      5  2018  Fiction  \n",
      "145          4.8     8837      5  2019  Fiction  \n",
      "155          4.9     7758     18  2019  Fiction  \n",
      "179          4.8    16643      4  2019  Fiction  \n",
      "207          4.9    11881     13  2018  Fiction  \n",
      "220          4.5    25706     12  2018  Fiction  \n",
      "251          4.9    21834      8  2018  Fiction  \n",
      "252          4.9    21834      8  2019  Fiction  \n",
      "266          4.8    16990     27  2018  Fiction  \n",
      "267          4.8    16990     27  2019  Fiction  \n",
      "287          4.6    22536     12  2018  Fiction  \n",
      "303          4.9     9382      6  2019  Fiction  \n",
      "397          4.5    13609     14  2019  Fiction  \n",
      "401          4.8     9947     11  2018  Fiction  \n",
      "435          4.8     5898      8  2018  Fiction  \n",
      "452          4.8     9784      5  2018  Fiction  \n",
      "454          4.3    10191     18  2018  Fiction  \n",
      "462          4.5    27536     14  2019  Fiction  \n",
      "481          4.9    19546      5  2018  Fiction  \n",
      "482          4.9    19546      5  2019  Fiction  \n",
      "488          4.9     8842     10  2018  Fiction  \n",
      "489          4.9     8842     10  2019  Fiction  \n",
      "490          4.8    30183      4  2018  Fiction  \n",
      "491          4.8    30183      4  2019  Fiction  \n",
      "509          4.8    26234      7  2019  Fiction  \n",
      "529          4.8     8170     13  2019  Fiction  \n",
      "534          4.8    87841     15  2019  Fiction  \n",
      "545          4.9     9413      8  2019  Fiction  \n"
     ]
    }
   ],
   "source": [
    "Fiction = data[\"Genre\"] == \"Fiction\"\n",
    "Publishedafter2018 = data[\"Year\"] >= 2018\n",
    "\n",
    "print(data[ Fiction & Publishedafter2018])"
   ]
  },
  {
   "block_group": "361e65b2b79846cda31a1d244c152c9d",
   "cell_type": "markdown",
   "metadata": {
    "cell_id": "361e65b2b79846cda31a1d244c152c9d",
    "deepnote_app_coordinates": {
     "h": 5,
     "w": 12,
     "x": 0,
     "y": 565
    },
    "deepnote_cell_type": "text-cell-h1",
    "formattedRanges": [],
    "is_collapsed": false,
    "tags": []
   },
   "source": [
    "# Column Information"
   ]
  },
  {
   "block_group": "77ab2b13b13f410694f618fa6f16176c",
   "cell_type": "markdown",
   "metadata": {
    "cell_id": "77ab2b13b13f410694f618fa6f16176c",
    "deepnote_app_coordinates": {
     "h": 5,
     "w": 12,
     "x": 0,
     "y": 571
    },
    "deepnote_cell_type": "text-cell-h2",
    "formattedRanges": [],
    "is_collapsed": false,
    "tags": []
   },
   "source": [
    "## know columns data type"
   ]
  },
  {
   "block_group": "b37166a5a44e4fc39a045913c9b14192",
   "cell_type": "code",
   "execution_count": 35,
   "metadata": {
    "cell_id": "b37166a5a44e4fc39a045913c9b14192",
    "deepnote_app_coordinates": {
     "h": 5,
     "w": 12,
     "x": 0,
     "y": 577
    },
    "deepnote_cell_type": "code",
    "deepnote_to_be_reexecuted": false,
    "execution_millis": 9,
    "execution_start": 1669182430172,
    "source_hash": "8fb6b6ee",
    "tags": []
   },
   "outputs": [
    {
     "name": "stdout",
     "output_type": "stream",
     "text": [
      "<class 'pandas.core.frame.DataFrame'>\n",
      "RangeIndex: 550 entries, 0 to 549\n",
      "Data columns (total 7 columns):\n",
      " #   Column       Non-Null Count  Dtype  \n",
      "---  ------       --------------  -----  \n",
      " 0   Name         550 non-null    object \n",
      " 1   Author       550 non-null    object \n",
      " 2   User Rating  550 non-null    float64\n",
      " 3   Reviews      550 non-null    int64  \n",
      " 4   Price        550 non-null    int64  \n",
      " 5   Year         550 non-null    int64  \n",
      " 6   Genre        550 non-null    object \n",
      "dtypes: float64(1), int64(3), object(3)\n",
      "memory usage: 30.2+ KB\n",
      "None\n"
     ]
    }
   ],
   "source": [
    "# .info() will tell you the data type of each column\n",
    "print( data.info() )"
   ]
  },
  {
   "block_group": "bc4effe841c04221b0fea82e3f08117d",
   "cell_type": "markdown",
   "metadata": {
    "cell_id": "bc4effe841c04221b0fea82e3f08117d",
    "deepnote_app_coordinates": {
     "h": 5,
     "w": 12,
     "x": 0,
     "y": 583
    },
    "deepnote_cell_type": "text-cell-h2",
    "formattedRanges": [],
    "is_collapsed": false,
    "tags": []
   },
   "source": [
    "## change the column data type"
   ]
  },
  {
   "block_group": "e1ab915d6e85497199f6c86b7e08d535",
   "cell_type": "code",
   "execution_count": 36,
   "metadata": {
    "cell_id": "e1ab915d6e85497199f6c86b7e08d535",
    "deepnote_app_coordinates": {
     "h": 5,
     "w": 12,
     "x": 0,
     "y": 589
    },
    "deepnote_cell_type": "code",
    "deepnote_to_be_reexecuted": false,
    "execution_millis": 8,
    "execution_start": 1669182430173,
    "source_hash": "6fcbff54",
    "tags": []
   },
   "outputs": [
    {
     "name": "stdout",
     "output_type": "stream",
     "text": [
      "<class 'pandas.core.frame.DataFrame'>\n",
      "RangeIndex: 550 entries, 0 to 549\n",
      "Data columns (total 7 columns):\n",
      " #   Column       Non-Null Count  Dtype  \n",
      "---  ------       --------------  -----  \n",
      " 0   Name         550 non-null    string \n",
      " 1   Author       550 non-null    string \n",
      " 2   User Rating  550 non-null    float64\n",
      " 3   Reviews      550 non-null    int64  \n",
      " 4   Price        550 non-null    int64  \n",
      " 5   Year         550 non-null    int64  \n",
      " 6   Genre        550 non-null    string \n",
      "dtypes: float64(1), int64(3), string(3)\n",
      "memory usage: 30.2 KB\n"
     ]
    }
   ],
   "source": [
    "#choose the column and use .astype() to select your desired data type\n",
    "\n",
    "data[\"Name\"] = data[\"Name\"].astype(\"string\")\n",
    "data[\"Author\"] = data[\"Author\"].astype(\"string\")\n",
    "data[\"Genre\"] = data[\"Genre\"].astype(\"string\")\n",
    "\n",
    "#and i will check the data type again\n",
    "data.info()"
   ]
  },
  {
   "block_group": "acacc4ab38e7417cae71f0037d3a443e",
   "cell_type": "markdown",
   "metadata": {
    "cell_id": "acacc4ab38e7417cae71f0037d3a443e",
    "deepnote_app_coordinates": {
     "h": 5,
     "w": 12,
     "x": 0,
     "y": 595
    },
    "deepnote_cell_type": "text-cell-h2",
    "formattedRanges": [],
    "is_collapsed": false,
    "tags": []
   },
   "source": [
    "## know column main statistics"
   ]
  },
  {
   "block_group": "6a4e911f6acf4116ad45dd7ab270a6b2",
   "cell_type": "code",
   "execution_count": 37,
   "metadata": {
    "cell_id": "6a4e911f6acf4116ad45dd7ab270a6b2",
    "deepnote_app_coordinates": {
     "h": 5,
     "w": 12,
     "x": 0,
     "y": 601
    },
    "deepnote_cell_type": "code",
    "deepnote_to_be_reexecuted": false,
    "execution_millis": 9,
    "execution_start": 1669182430175,
    "source_hash": "69eb169c",
    "tags": []
   },
   "outputs": [
    {
     "name": "stdout",
     "output_type": "stream",
     "text": [
      "       User Rating       Reviews       Price         Year\n",
      "count   550.000000    550.000000  550.000000   550.000000\n",
      "mean      4.618364  11953.281818   13.100000  2014.000000\n",
      "std       0.226980  11731.132017   10.842262     3.165156\n",
      "min       3.300000     37.000000    0.000000  2009.000000\n",
      "25%       4.500000   4058.000000    7.000000  2011.000000\n",
      "50%       4.700000   8580.000000   11.000000  2014.000000\n",
      "75%       4.800000  17253.250000   16.000000  2017.000000\n",
      "max       4.900000  87841.000000  105.000000  2019.000000\n"
     ]
    }
   ],
   "source": [
    "# .describe() will tell you main descriptive variables\n",
    "print( data.describe() )"
   ]
  },
  {
   "block_group": "89b6babe512b4d1b90458414ea4d1448",
   "cell_type": "markdown",
   "metadata": {
    "cell_id": "89b6babe512b4d1b90458414ea4d1448",
    "deepnote_app_coordinates": {
     "h": 5,
     "w": 12,
     "x": 0,
     "y": 607
    },
    "deepnote_cell_type": "text-cell-h2",
    "formattedRanges": [],
    "is_collapsed": false,
    "tags": []
   },
   "source": [
    "## see last registers from columns"
   ]
  },
  {
   "block_group": "43061d487a954d0796cfc780b9b71659",
   "cell_type": "code",
   "execution_count": 38,
   "metadata": {
    "cell_id": "43061d487a954d0796cfc780b9b71659",
    "deepnote_app_coordinates": {
     "h": 5,
     "w": 12,
     "x": 0,
     "y": 613
    },
    "deepnote_cell_type": "code",
    "deepnote_to_be_reexecuted": false,
    "execution_millis": 10,
    "execution_start": 1669182430179,
    "source_hash": "2dc7275e",
    "tags": []
   },
   "outputs": [
    {
     "name": "stdout",
     "output_type": "stream",
     "text": [
      "                                                  Name       Author  \\\n",
      "548  You Are a Badass: How to Stop Doubting Your Gr...  Jen Sincero   \n",
      "549  You Are a Badass: How to Stop Doubting Your Gr...  Jen Sincero   \n",
      "\n",
      "     User Rating  Reviews  Price  Year        Genre  \n",
      "548          4.7    14331      8  2018  Non Fiction  \n",
      "549          4.7    14331      8  2019  Non Fiction  \n"
     ]
    }
   ],
   "source": [
    "# .tail() will show you the last n registers. n is the argument\n",
    "print( data.tail(2) )"
   ]
  },
  {
   "block_group": "c39af4ef65d64afa9469f1377a893971",
   "cell_type": "markdown",
   "metadata": {
    "cell_id": "c39af4ef65d64afa9469f1377a893971",
    "deepnote_app_coordinates": {
     "h": 5,
     "w": 12,
     "x": 0,
     "y": 619
    },
    "deepnote_cell_type": "text-cell-h2",
    "formattedRanges": [],
    "is_collapsed": false,
    "tags": []
   },
   "source": [
    "## see memory usage of each column"
   ]
  },
  {
   "block_group": "5252c19e7b8c4bf6a2c297a1939320d1",
   "cell_type": "code",
   "execution_count": 39,
   "metadata": {
    "cell_id": "5252c19e7b8c4bf6a2c297a1939320d1",
    "deepnote_app_coordinates": {
     "h": 5,
     "w": 12,
     "x": 0,
     "y": 625
    },
    "deepnote_cell_type": "code",
    "deepnote_to_be_reexecuted": false,
    "execution_millis": 60,
    "execution_start": 1669182430209,
    "source_hash": "8c6e02d3",
    "tags": []
   },
   "outputs": [
    {
     "name": "stdout",
     "output_type": "stream",
     "text": [
      "Index            128\n",
      "Name           59737\n",
      "Author         39078\n",
      "User Rating     4400\n",
      "Reviews         4400\n",
      "Price           4400\n",
      "Year            4400\n",
      "Genre          36440\n",
      "dtype: int64\n"
     ]
    }
   ],
   "source": [
    "# .memory_usage(deep = True)  #the deep argument is importnt to do it column based\n",
    "print( data.memory_usage(deep=True) )\n"
   ]
  },
  {
   "block_group": "3716c4c8cd1549b2822af3e7a7733b84",
   "cell_type": "markdown",
   "metadata": {
    "cell_id": "3716c4c8cd1549b2822af3e7a7733b84",
    "deepnote_app_coordinates": {
     "h": 5,
     "w": 12,
     "x": 0,
     "y": 631
    },
    "deepnote_cell_type": "text-cell-h2",
    "formattedRanges": [],
    "is_collapsed": false,
    "tags": []
   },
   "source": [
    "## count records in a column"
   ]
  },
  {
   "block_group": "7c94bbe297ea4e9590d2386bfe09749a",
   "cell_type": "code",
   "execution_count": 40,
   "metadata": {
    "cell_id": "7c94bbe297ea4e9590d2386bfe09749a",
    "deepnote_app_coordinates": {
     "h": 5,
     "w": 12,
     "x": 0,
     "y": 637
    },
    "deepnote_cell_type": "code",
    "deepnote_to_be_reexecuted": false,
    "execution_millis": 40,
    "execution_start": 1669182430285,
    "source_hash": "cede1ad9",
    "tags": []
   },
   "outputs": [
    {
     "data": {
      "text/plain": [
       "Jeff Kinney                           12\n",
       "Suzanne Collins                       11\n",
       "Rick Riordan                          11\n",
       "Gary Chapman                          11\n",
       "American Psychological Association    10\n",
       "                                      ..\n",
       "The Washington Post                    1\n",
       "Raina Telgemeier                       1\n",
       "Ken Follett                            1\n",
       "Charles Duhigg                         1\n",
       "David Grann                            1\n",
       "Name: Author, Length: 248, dtype: Int64"
      ]
     },
     "execution_count": 40,
     "metadata": {},
     "output_type": "execute_result"
    }
   ],
   "source": [
    "#count records from each author in a column\n",
    "data[\"Author\"].value_counts()"
   ]
  },
  {
   "block_group": "4d30fa1b851647b9bcdc340d6d9539db",
   "cell_type": "markdown",
   "metadata": {
    "cell_id": "4d30fa1b851647b9bcdc340d6d9539db",
    "deepnote_app_coordinates": {
     "h": 5,
     "w": 12,
     "x": 0,
     "y": 643
    },
    "deepnote_cell_type": "text-cell-h2",
    "formattedRanges": [],
    "is_collapsed": false,
    "tags": []
   },
   "source": [
    "## delete duplicates"
   ]
  },
  {
   "block_group": "5010a2b85dce4c83ba14e873804a38ad",
   "cell_type": "code",
   "execution_count": 41,
   "metadata": {
    "cell_id": "5010a2b85dce4c83ba14e873804a38ad",
    "deepnote_app_coordinates": {
     "h": 5,
     "w": 12,
     "x": 0,
     "y": 649
    },
    "deepnote_cell_type": "code",
    "deepnote_to_be_reexecuted": false,
    "execution_millis": 39,
    "execution_start": 1669182430286,
    "source_hash": "b386e12b",
    "tags": []
   },
   "outputs": [
    {
     "name": "stdout",
     "output_type": "stream",
     "text": [
      "0      4.7\n",
      "1      4.6\n",
      "4      4.8\n",
      "5      4.4\n",
      "13     4.5\n",
      "22     3.9\n",
      "24     4.3\n",
      "27     4.2\n",
      "40     4.9\n",
      "106    3.8\n",
      "132    3.6\n",
      "135    4.0\n",
      "182    4.1\n",
      "353    3.3\n",
      "Name: User Rating, dtype: float64\n"
     ]
    }
   ],
   "source": [
    "#let's get all the unique values for the user ratings\n",
    "print( data[\"User Rating\"].drop_duplicates() )"
   ]
  },
  {
   "block_group": "15de6ab29fcb49db835ea85efb66aa1c",
   "cell_type": "markdown",
   "metadata": {
    "cell_id": "15de6ab29fcb49db835ea85efb66aa1c",
    "deepnote_app_coordinates": {
     "h": 5,
     "w": 12,
     "x": 0,
     "y": 655
    },
    "deepnote_cell_type": "text-cell-h2",
    "formattedRanges": [],
    "is_collapsed": false,
    "tags": []
   },
   "source": [
    "## DELETE DUPLICATES AND KEEP LAST!!!!!"
   ]
  },
  {
   "block_group": "41ba991dab6e4453a4b21c8005d3f87d",
   "cell_type": "markdown",
   "metadata": {
    "cell_id": "41ba991dab6e4453a4b21c8005d3f87d",
    "deepnote_app_coordinates": {
     "h": 5,
     "w": 12,
     "x": 0,
     "y": 661
    },
    "deepnote_cell_type": "markdown",
    "tags": []
   },
   "source": [
    "this one will delete the column duplicates but will keep the last."
   ]
  },
  {
   "block_group": "e901872a8b414f95969183b4bd49b81e",
   "cell_type": "code",
   "execution_count": 42,
   "metadata": {
    "cell_id": "e901872a8b414f95969183b4bd49b81e",
    "deepnote_app_coordinates": {
     "h": 5,
     "w": 12,
     "x": 0,
     "y": 667
    },
    "deepnote_cell_type": "code",
    "deepnote_to_be_reexecuted": false,
    "execution_millis": 38,
    "execution_start": 1669182430287,
    "source_hash": "ad9fe7a8",
    "tags": []
   },
   "outputs": [
    {
     "name": "stdout",
     "output_type": "stream",
     "text": [
      "107    3.8\n",
      "132    3.6\n",
      "353    3.3\n",
      "364    4.0\n",
      "383    4.1\n",
      "393    3.9\n",
      "520    4.3\n",
      "536    4.6\n",
      "537    4.4\n",
      "538    4.5\n",
      "539    4.2\n",
      "544    4.8\n",
      "545    4.9\n",
      "549    4.7\n",
      "Name: User Rating, dtype: float64\n"
     ]
    }
   ],
   "source": [
    "#show the last book that got a unique rating\n",
    "#THE ARGUMENT keep=\"last\" will make you to keep the last record on this one.\n",
    "\n",
    "print( data[\"User Rating\"].drop_duplicates(keep=\"last\") )"
   ]
  },
  {
   "block_group": "fab6a88c38c94719a2c88a9c29809d8e",
   "cell_type": "markdown",
   "metadata": {
    "cell_id": "fab6a88c38c94719a2c88a9c29809d8e",
    "deepnote_app_coordinates": {
     "h": 5,
     "w": 12,
     "x": 0,
     "y": 673
    },
    "deepnote_cell_type": "text-cell-h2",
    "formattedRanges": [],
    "is_collapsed": false,
    "tags": []
   },
   "source": [
    "## Column sorting (ascending)"
   ]
  },
  {
   "block_group": "62a949ec4ba24c83b8bc0069381b190b",
   "cell_type": "code",
   "execution_count": 43,
   "metadata": {
    "cell_id": "62a949ec4ba24c83b8bc0069381b190b",
    "deepnote_app_coordinates": {
     "h": 5,
     "w": 12,
     "x": 0,
     "y": 679
    },
    "deepnote_cell_type": "code",
    "deepnote_to_be_reexecuted": false,
    "execution_millis": 11,
    "execution_start": 1669182430315,
    "source_hash": "2b8ea776",
    "tags": []
   },
   "outputs": [
    {
     "name": "stdout",
     "output_type": "stream",
     "text": [
      "                                                  Name                Author  \\\n",
      "353                                 The Casual Vacancy          J.K. Rowling   \n",
      "132                         Go Set a Watchman: A Novel            Harper Lee   \n",
      "106  Fifty Shades of Grey: Book One of the Fifty Sh...             E L James   \n",
      "107  Fifty Shades of Grey: Book One of the Fifty Sh...             E L James   \n",
      "393  The Goldfinch: A Novel (Pulitzer Prize for Fic...           Donna Tartt   \n",
      "..                                                 ...                   ...   \n",
      "41            Brown Bear, Brown Bear, What Do You See?       Bill Martin Jr.   \n",
      "40            Brown Bear, Brown Bear, What Do You See?       Bill Martin Jr.   \n",
      "247                          Oh, the Places You'll Go!             Dr. Seuss   \n",
      "146  Goodnight, Goodnight Construction Site (Hardco...  Sherri Duskey Rinker   \n",
      "249                          Oh, the Places You'll Go!             Dr. Seuss   \n",
      "\n",
      "     User Rating  Reviews  Price  Year    Genre  \n",
      "353          3.3     9372     12  2012  Fiction  \n",
      "132          3.6    14982     19  2015  Fiction  \n",
      "106          3.8    47265     14  2012  Fiction  \n",
      "107          3.8    47265     14  2013  Fiction  \n",
      "393          3.9    33844     20  2014  Fiction  \n",
      "..           ...      ...    ...   ...      ...  \n",
      "41           4.9    14344      5  2019  Fiction  \n",
      "40           4.9    14344      5  2017  Fiction  \n",
      "247          4.9    21834      8  2014  Fiction  \n",
      "146          4.9     7038      7  2012  Fiction  \n",
      "249          4.9    21834      8  2016  Fiction  \n",
      "\n",
      "[550 rows x 7 columns]\n"
     ]
    }
   ],
   "source": [
    "#let's sort ascendingly by user rating\n",
    "print( data.sort_values(\"User Rating\", ascending=True) )"
   ]
  },
  {
   "block_group": "3a76b537a2cc4e2ba3b188f856da07b3",
   "cell_type": "markdown",
   "metadata": {
    "cell_id": "3a76b537a2cc4e2ba3b188f856da07b3",
    "deepnote_app_coordinates": {
     "h": 5,
     "w": 12,
     "x": 0,
     "y": 685
    },
    "deepnote_cell_type": "text-cell-h2",
    "formattedRanges": [],
    "is_collapsed": false,
    "tags": []
   },
   "source": [
    "## Column sorting (descending)"
   ]
  },
  {
   "block_group": "c4dda93203e2402c8d3201cca6405c92",
   "cell_type": "code",
   "execution_count": 44,
   "metadata": {
    "cell_id": "c4dda93203e2402c8d3201cca6405c92",
    "deepnote_app_coordinates": {
     "h": 5,
     "w": 12,
     "x": 0,
     "y": 691
    },
    "deepnote_cell_type": "code",
    "deepnote_to_be_reexecuted": false,
    "execution_millis": 10,
    "execution_start": 1669182430316,
    "source_hash": "2b977c31",
    "tags": []
   },
   "outputs": [
    {
     "name": "stdout",
     "output_type": "stream",
     "text": [
      "                                                  Name         Author  \\\n",
      "431                                 The Magnolia Story    Chip Gaines   \n",
      "87   Dog Man: Lord of the Fleas: From the Creator o...     Dav Pilkey   \n",
      "85   Dog Man: Fetch-22: From the Creator of Captain...     Dav Pilkey   \n",
      "84   Dog Man: Brawl of the Wild: From the Creator o...     Dav Pilkey   \n",
      "83   Dog Man: Brawl of the Wild: From the Creator o...     Dav Pilkey   \n",
      "..                                                 ...            ...   \n",
      "22                                           Allegiant  Veronica Roth   \n",
      "107  Fifty Shades of Grey: Book One of the Fifty Sh...      E L James   \n",
      "106  Fifty Shades of Grey: Book One of the Fifty Sh...      E L James   \n",
      "132                         Go Set a Watchman: A Novel     Harper Lee   \n",
      "353                                 The Casual Vacancy   J.K. Rowling   \n",
      "\n",
      "     User Rating  Reviews  Price  Year        Genre  \n",
      "431          4.9     7861      5  2016  Non Fiction  \n",
      "87           4.9     5470      6  2018      Fiction  \n",
      "85           4.9    12619      8  2019      Fiction  \n",
      "84           4.9     7235      4  2019      Fiction  \n",
      "83           4.9     7235      4  2018      Fiction  \n",
      "..           ...      ...    ...   ...          ...  \n",
      "22           3.9     6310     13  2013      Fiction  \n",
      "107          3.8    47265     14  2013      Fiction  \n",
      "106          3.8    47265     14  2012      Fiction  \n",
      "132          3.6    14982     19  2015      Fiction  \n",
      "353          3.3     9372     12  2012      Fiction  \n",
      "\n",
      "[550 rows x 7 columns]\n"
     ]
    }
   ],
   "source": [
    "#let's sort descendingly by user rating\n",
    "print( data.sort_values(\"User Rating\", ascending=False) )"
   ]
  },
  {
   "block_group": "f1d5bca2dbc4472498ee6fde67614402",
   "cell_type": "markdown",
   "metadata": {
    "cell_id": "f1d5bca2dbc4472498ee6fde67614402",
    "deepnote_app_coordinates": {
     "h": 5,
     "w": 12,
     "x": 0,
     "y": 697
    },
    "deepnote_cell_type": "text-cell-h1",
    "formattedRanges": [],
    "is_collapsed": false,
    "tags": []
   },
   "source": [
    "# Group by"
   ]
  },
  {
   "block_group": "d50cf8f91914433888553e1bf869693f",
   "cell_type": "markdown",
   "metadata": {
    "cell_id": "d50cf8f91914433888553e1bf869693f",
    "deepnote_app_coordinates": {
     "h": 5,
     "w": 12,
     "x": 0,
     "y": 703
    },
    "deepnote_cell_type": "markdown",
    "tags": []
   },
   "source": [
    "Given a dataset"
   ]
  },
  {
   "block_group": "304ccef0d2824e60bd04a33bd437636f",
   "cell_type": "code",
   "execution_count": 45,
   "metadata": {
    "cell_id": "304ccef0d2824e60bd04a33bd437636f",
    "deepnote_app_coordinates": {
     "h": 5,
     "w": 12,
     "x": 0,
     "y": 709
    },
    "deepnote_cell_type": "code",
    "deepnote_to_be_reexecuted": false,
    "execution_millis": 7,
    "execution_start": 1669182430376,
    "source_hash": "bb45835",
    "tags": []
   },
   "outputs": [
    {
     "name": "stdout",
     "output_type": "stream",
     "text": [
      "                                                Name  \\\n",
      "0                      10-Day Green Smoothie Cleanse   \n",
      "1                                  11/22/63: A Novel   \n",
      "2            12 Rules for Life: An Antidote to Chaos   \n",
      "3                             1984 (Signet Classics)   \n",
      "4  5,000 Awesome Facts (About Everything!) (Natio...   \n",
      "\n",
      "                     Author  User Rating  Reviews  Price  Year        Genre  \n",
      "0                  JJ Smith          4.7    17350      8  2016  Non Fiction  \n",
      "1              Stephen King          4.6     2052     22  2011      Fiction  \n",
      "2        Jordan B. Peterson          4.7    18979     15  2018  Non Fiction  \n",
      "3             George Orwell          4.7    21424      6  2017      Fiction  \n",
      "4  National Geographic Kids          4.8     7665     12  2019  Non Fiction  \n"
     ]
    }
   ],
   "source": [
    "#this is my dataset\n",
    "print ( data.head(5) )"
   ]
  },
  {
   "block_group": "8a31be6eec6e436ab5e950cf2912aaee",
   "cell_type": "markdown",
   "metadata": {
    "cell_id": "8a31be6eec6e436ab5e950cf2912aaee",
    "deepnote_app_coordinates": {
     "h": 5,
     "w": 12,
     "x": 0,
     "y": 715
    },
    "deepnote_cell_type": "markdown",
    "tags": []
   },
   "source": [
    "let's group by the author and count the records in the columns"
   ]
  },
  {
   "block_group": "4760fefe6ec54c3198f8a623ef1e3497",
   "cell_type": "code",
   "execution_count": 46,
   "metadata": {
    "cell_id": "4760fefe6ec54c3198f8a623ef1e3497",
    "deepnote_app_coordinates": {
     "h": 5,
     "w": 12,
     "x": 0,
     "y": 721
    },
    "deepnote_cell_type": "code",
    "deepnote_to_be_reexecuted": false,
    "execution_millis": 6,
    "execution_start": 1669182430377,
    "source_hash": "3d11045",
    "tags": []
   },
   "outputs": [
    {
     "name": "stdout",
     "output_type": "stream",
     "text": [
      "                            Name  User Rating  Reviews  Price  Year  Genre\n",
      "Author                                                                    \n",
      "Abraham Verghese               2            2        2      2     2      2\n",
      "Adam Gasiewski                 1            1        1      1     1      1\n",
      "Adam Mansbach                  1            1        1      1     1      1\n",
      "Adir Levy                      1            1        1      1     1      1\n",
      "Admiral William H. McRaven     1            1        1      1     1      1\n",
      "...                          ...          ...      ...    ...   ...    ...\n",
      "Walter Isaacson                3            3        3      3     3      3\n",
      "William Davis                  2            2        2      2     2      2\n",
      "William P. Young               2            2        2      2     2      2\n",
      "Wizards RPG Team               3            3        3      3     3      3\n",
      "Zhi Gang Sha                   2            2        2      2     2      2\n",
      "\n",
      "[248 rows x 6 columns]\n"
     ]
    }
   ],
   "source": [
    "print ( data.groupby(\"Author\").count() )"
   ]
  },
  {
   "block_group": "f27460078b9e44ba9ea90a9d49eac39f",
   "cell_type": "markdown",
   "metadata": {
    "cell_id": "f27460078b9e44ba9ea90a9d49eac39f",
    "deepnote_app_coordinates": {
     "h": 5,
     "w": 12,
     "x": 0,
     "y": 727
    },
    "deepnote_cell_type": "markdown",
    "tags": []
   },
   "source": [
    "Group by author and show the median of the data in the rest of the columns"
   ]
  },
  {
   "block_group": "1ce44841e79648f8a00d44a1a452dd52",
   "cell_type": "code",
   "execution_count": 47,
   "metadata": {
    "cell_id": "1ce44841e79648f8a00d44a1a452dd52",
    "deepnote_app_coordinates": {
     "h": 5,
     "w": 12,
     "x": 0,
     "y": 733
    },
    "deepnote_cell_type": "code",
    "deepnote_to_be_reexecuted": false,
    "execution_millis": 5,
    "execution_start": 1669182430378,
    "source_hash": "3f0e478",
    "tags": []
   },
   "outputs": [
    {
     "name": "stdout",
     "output_type": "stream",
     "text": [
      "                            User Rating  Reviews  Price    Year\n",
      "Author                                                         \n",
      "Abraham Verghese                    4.6   4866.0   11.0  2010.5\n",
      "Adam Gasiewski                      4.4   3113.0    6.0  2017.0\n",
      "Adam Mansbach                       4.8   9568.0    9.0  2011.0\n",
      "Adir Levy                           4.8   8170.0   13.0  2019.0\n",
      "Admiral William H. McRaven          4.7  10199.0   11.0  2017.0\n",
      "...                                 ...      ...    ...     ...\n",
      "Walter Isaacson                     4.6   7827.0   20.0  2012.0\n",
      "William Davis                       4.4   7497.0    6.0  2012.5\n",
      "William P. Young                    4.6  19720.0    8.0  2013.0\n",
      "Wizards RPG Team                    4.8  16990.0   27.0  2018.0\n",
      "Zhi Gang Sha                        4.6    128.5   11.5  2011.0\n",
      "\n",
      "[248 rows x 4 columns]\n"
     ]
    }
   ],
   "source": [
    "print(data.groupby(\"Author\").median())"
   ]
  },
  {
   "block_group": "1fb0e0fc4cb44336a334d2e9deadc3fa",
   "cell_type": "markdown",
   "metadata": {
    "cell_id": "1fb0e0fc4cb44336a334d2e9deadc3fa",
    "deepnote_app_coordinates": {
     "h": 5,
     "w": 12,
     "x": 0,
     "y": 739
    },
    "deepnote_cell_type": "markdown",
    "tags": []
   },
   "source": [
    "**La columna Author, en los casos anteriores, pasa a ser el índice.**\n",
    "\n",
    "Podemos usar loc y acceder a un dato específico del DataFrame. Agrupar por autor y mostrar la suma de los valores de las demás columnas para William Davis"
   ]
  },
  {
   "block_group": "fbd35440e7844ddf855dc72d01df6643",
   "cell_type": "code",
   "execution_count": 48,
   "metadata": {
    "cell_id": "fbd35440e7844ddf855dc72d01df6643",
    "deepnote_app_coordinates": {
     "h": 5,
     "w": 12,
     "x": 0,
     "y": 745
    },
    "deepnote_cell_type": "code",
    "deepnote_to_be_reexecuted": false,
    "execution_millis": 6,
    "execution_start": 1669182430379,
    "source_hash": "8523c413",
    "tags": []
   },
   "outputs": [
    {
     "name": "stdout",
     "output_type": "stream",
     "text": [
      "User Rating        8.8\n",
      "Reviews        14994.0\n",
      "Price             12.0\n",
      "Year            4025.0\n",
      "Name: William Davis, dtype: float64\n"
     ]
    }
   ],
   "source": [
    "print(data.groupby(\"Author\").sum().loc[\"William Davis\"])"
   ]
  },
  {
   "block_group": "203a0228b03049738323634c0611b702",
   "cell_type": "markdown",
   "metadata": {
    "cell_id": "203a0228b03049738323634c0611b702",
    "deepnote_app_coordinates": {
     "h": 5,
     "w": 12,
     "x": 0,
     "y": 751
    },
    "deepnote_cell_type": "markdown",
    "tags": []
   },
   "source": [
    "Agrupar por author y mostrar la suma de los valores de las demás columnas. Colocar los índices que el DataFrame trae por defecto"
   ]
  },
  {
   "block_group": "c60f466cf2744383814b2aae2e16b52a",
   "cell_type": "code",
   "execution_count": 49,
   "metadata": {
    "cell_id": "c60f466cf2744383814b2aae2e16b52a",
    "deepnote_app_coordinates": {
     "h": 5,
     "w": 12,
     "x": 0,
     "y": 757
    },
    "deepnote_cell_type": "code",
    "deepnote_table_loading": false,
    "deepnote_table_state": {
     "filters": [],
     "pageIndex": 2,
     "pageSize": 10,
     "sortBy": []
    },
    "deepnote_to_be_reexecuted": false,
    "execution_millis": 32,
    "execution_start": 1669182430382,
    "source_hash": "b7b16ca1",
    "tags": []
   },
   "outputs": [
    {
     "name": "stdout",
     "output_type": "stream",
     "text": [
      "                         Author  User Rating  Reviews  Price  Year\n",
      "0              Abraham Verghese          9.2     9732     22  4021\n",
      "1                Adam Gasiewski          4.4     3113      6  2017\n",
      "2                 Adam Mansbach          4.8     9568      9  2011\n",
      "3                     Adir Levy          4.8     8170     13  2019\n",
      "4    Admiral William H. McRaven          4.7    10199     11  2017\n",
      "..                          ...          ...      ...    ...   ...\n",
      "243             Walter Isaacson         13.7    18668     61  6040\n",
      "244               William Davis          8.8    14994     12  4025\n",
      "245            William P. Young          9.2    39440     16  4026\n",
      "246            Wizards RPG Team         14.4    50970     81  6054\n",
      "247                Zhi Gang Sha          9.2      257     23  4022\n",
      "\n",
      "[248 rows x 5 columns]\n"
     ]
    }
   ],
   "source": [
    "print(data.groupby(\"Author\").sum().reset_index())"
   ]
  },
  {
   "block_group": "5298a2ae0f604a8c9e4e87cf85b511f7",
   "cell_type": "markdown",
   "metadata": {
    "cell_id": "5298a2ae0f604a8c9e4e87cf85b511f7",
    "deepnote_app_coordinates": {
     "h": 5,
     "w": 12,
     "x": 0,
     "y": 763
    },
    "deepnote_cell_type": "markdown",
    "tags": []
   },
   "source": [
    "The function agg() allows to apply multiple functions to the dataframe once it is grouped by a specific column.\n",
    "\n",
    "Group by Author y show the minimum & maximum of the other colums"
   ]
  },
  {
   "block_group": "5cbd5417d00a4bb1baa40d7292997ce4",
   "cell_type": "markdown",
   "metadata": {
    "cell_id": "5cbd5417d00a4bb1baa40d7292997ce4",
    "deepnote_app_coordinates": {
     "h": 5,
     "w": 12,
     "x": 0,
     "y": 769
    },
    "deepnote_cell_type": "text-cell-h2",
    "formattedRanges": [],
    "is_collapsed": false,
    "tags": []
   },
   "source": [
    "## .agg()"
   ]
  },
  {
   "block_group": "82576dca7d164eadbeaddb8ec74e2e9b",
   "cell_type": "code",
   "execution_count": 50,
   "metadata": {
    "cell_id": "82576dca7d164eadbeaddb8ec74e2e9b",
    "deepnote_app_coordinates": {
     "h": 5,
     "w": 12,
     "x": 0,
     "y": 775
    },
    "deepnote_cell_type": "code",
    "deepnote_to_be_reexecuted": false,
    "execution_millis": 189,
    "execution_start": 1669182430412,
    "source_hash": "c43d281e",
    "tags": []
   },
   "outputs": [
    {
     "name": "stdout",
     "output_type": "stream",
     "text": [
      "                                                                         Name  \\\n",
      "                                                                          min   \n",
      "Author                                                                          \n",
      "Abraham Verghese                                            Cutting for Stone   \n",
      "Adam Gasiewski              Milk and Vine: Inspirational Quotes From Class...   \n",
      "Adam Mansbach                                            Go the F**k to Sleep   \n",
      "Adir Levy                   What Should Danny Do? (The Power to Choose Ser...   \n",
      "Admiral William H. McRaven  Make Your Bed: Little Things That Can Change Y...   \n",
      "...                                                                       ...   \n",
      "Walter Isaacson                                             Leonardo da Vinci   \n",
      "William Davis               Wheat Belly: Lose the Wheat, Lose the Weight, ...   \n",
      "William P. Young                  The Shack: Where Tragedy Confronts Eternity   \n",
      "Wizards RPG Team                       Player's Handbook (Dungeons & Dragons)   \n",
      "Zhi Gang Sha                Divine Soul Mind Body Healing and Transmission...   \n",
      "\n",
      "                                                                               \\\n",
      "                                                                          max   \n",
      "Author                                                                          \n",
      "Abraham Verghese                                            Cutting for Stone   \n",
      "Adam Gasiewski              Milk and Vine: Inspirational Quotes From Class...   \n",
      "Adam Mansbach                                            Go the F**k to Sleep   \n",
      "Adir Levy                   What Should Danny Do? (The Power to Choose Ser...   \n",
      "Admiral William H. McRaven  Make Your Bed: Little Things That Can Change Y...   \n",
      "...                                                                       ...   \n",
      "Walter Isaacson                                                    Steve Jobs   \n",
      "William Davis               Wheat Belly: Lose the Wheat, Lose the Weight, ...   \n",
      "William P. Young                  The Shack: Where Tragedy Confronts Eternity   \n",
      "Wizards RPG Team                       Player's Handbook (Dungeons & Dragons)   \n",
      "Zhi Gang Sha                Soul Healing Miracles: Ancient and New Sacred ...   \n",
      "\n",
      "                           User Rating      Reviews        Price      Year  \\\n",
      "                                   min  max     min    max   min max   min   \n",
      "Author                                                                       \n",
      "Abraham Verghese                   4.6  4.6    4866   4866    11  11  2010   \n",
      "Adam Gasiewski                     4.4  4.4    3113   3113     6   6  2017   \n",
      "Adam Mansbach                      4.8  4.8    9568   9568     9   9  2011   \n",
      "Adir Levy                          4.8  4.8    8170   8170    13  13  2019   \n",
      "Admiral William H. McRaven         4.7  4.7   10199  10199    11  11  2017   \n",
      "...                                ...  ...     ...    ...   ...  ..   ...   \n",
      "Walter Isaacson                    4.5  4.6    3014   7827    20  21  2011   \n",
      "William Davis                      4.4  4.4    7497   7497     6   6  2012   \n",
      "William P. Young                   4.6  4.6   19720  19720     8   8  2009   \n",
      "Wizards RPG Team                   4.8  4.8   16990  16990    27  27  2017   \n",
      "Zhi Gang Sha                       4.6  4.6      37    220     6  17  2009   \n",
      "\n",
      "                                        Genre               \n",
      "                             max          min          max  \n",
      "Author                                                      \n",
      "Abraham Verghese            2011      Fiction      Fiction  \n",
      "Adam Gasiewski              2017  Non Fiction  Non Fiction  \n",
      "Adam Mansbach               2011      Fiction      Fiction  \n",
      "Adir Levy                   2019      Fiction      Fiction  \n",
      "Admiral William H. McRaven  2017  Non Fiction  Non Fiction  \n",
      "...                          ...          ...          ...  \n",
      "Walter Isaacson             2017  Non Fiction  Non Fiction  \n",
      "William Davis               2013  Non Fiction  Non Fiction  \n",
      "William P. Young            2017      Fiction      Fiction  \n",
      "Wizards RPG Team            2019      Fiction      Fiction  \n",
      "Zhi Gang Sha                2013  Non Fiction  Non Fiction  \n",
      "\n",
      "[248 rows x 12 columns]\n"
     ]
    }
   ],
   "source": [
    "print( data.groupby(\"Author\").agg([\"min\", \"max\"]) )\n"
   ]
  },
  {
   "block_group": "16f4a682c2cd478ea0980be5963c5685",
   "cell_type": "markdown",
   "metadata": {
    "cell_id": "16f4a682c2cd478ea0980be5963c5685",
    "deepnote_app_coordinates": {
     "h": 5,
     "w": 12,
     "x": 0,
     "y": 781
    },
    "deepnote_cell_type": "markdown",
    "tags": []
   },
   "source": [
    "Group by author and get the minimum & maximum from the column \"Reviews\" and add the values of the column \"User Rating\""
   ]
  },
  {
   "block_group": "416b971a22634298a5c36814c2797930",
   "cell_type": "code",
   "execution_count": 51,
   "metadata": {
    "cell_id": "416b971a22634298a5c36814c2797930",
    "deepnote_app_coordinates": {
     "h": 5,
     "w": 12,
     "x": 0,
     "y": 787
    },
    "deepnote_cell_type": "code",
    "deepnote_to_be_reexecuted": false,
    "execution_millis": 3,
    "execution_start": 1669182430621,
    "source_hash": "842b87c",
    "tags": []
   },
   "outputs": [
    {
     "name": "stdout",
     "output_type": "stream",
     "text": [
      "                           Reviews        User Rating\n",
      "                               min    max         sum\n",
      "Author                                               \n",
      "Abraham Verghese              4866   4866         9.2\n",
      "Adam Gasiewski                3113   3113         4.4\n",
      "Adam Mansbach                 9568   9568         4.8\n",
      "Adir Levy                     8170   8170         4.8\n",
      "Admiral William H. McRaven   10199  10199         4.7\n",
      "...                            ...    ...         ...\n",
      "Walter Isaacson               3014   7827        13.7\n",
      "William Davis                 7497   7497         8.8\n",
      "William P. Young             19720  19720         9.2\n",
      "Wizards RPG Team             16990  16990        14.4\n",
      "Zhi Gang Sha                    37    220         9.2\n",
      "\n",
      "[248 rows x 3 columns]\n"
     ]
    }
   ],
   "source": [
    "print( data.groupby(\"Author\").agg( {\"Reviews\":[\"min\",\"max\"], \"User Rating\":\"sum\"} ) )"
   ]
  },
  {
   "block_group": "b5fa862786814434885b11483880521e",
   "cell_type": "markdown",
   "metadata": {
    "cell_id": "b5fa862786814434885b11483880521e",
    "deepnote_app_coordinates": {
     "h": 5,
     "w": 12,
     "x": 0,
     "y": 793
    },
    "deepnote_cell_type": "text-cell-h2",
    "formattedRanges": [],
    "is_collapsed": false,
    "tags": []
   },
   "source": [
    "## Group by(multiple arguments)"
   ]
  },
  {
   "block_group": "56fcfc43f1d84c8589ba9122d7aac22d",
   "cell_type": "markdown",
   "metadata": {
    "cell_id": "56fcfc43f1d84c8589ba9122d7aac22d",
    "deepnote_app_coordinates": {
     "h": 5,
     "w": 12,
     "x": 0,
     "y": 799
    },
    "deepnote_cell_type": "markdown",
    "tags": []
   },
   "source": [
    "**Group by can also receive multiple argument**\n",
    "\n",
    "\n",
    "Group by \"Author\" & \"Year\" & count the values from the other columns\n"
   ]
  },
  {
   "block_group": "0c93fb24278043a4bbb148a753113f3e",
   "cell_type": "code",
   "execution_count": 52,
   "metadata": {
    "cell_id": "0c93fb24278043a4bbb148a753113f3e",
    "deepnote_app_coordinates": {
     "h": 5,
     "w": 12,
     "x": 0,
     "y": 805
    },
    "deepnote_cell_type": "code",
    "deepnote_to_be_reexecuted": false,
    "execution_millis": 15,
    "execution_start": 1669182430657,
    "source_hash": "e001c8d3",
    "tags": []
   },
   "outputs": [
    {
     "name": "stdout",
     "output_type": "stream",
     "text": [
      "                       Name  User Rating  Reviews  Price  Genre\n",
      "Author           Year                                          \n",
      "Abraham Verghese 2010     1            1        1      1      1\n",
      "                 2011     1            1        1      1      1\n",
      "Adam Gasiewski   2017     1            1        1      1      1\n",
      "Adam Mansbach    2011     1            1        1      1      1\n",
      "Adir Levy        2019     1            1        1      1      1\n",
      "...                     ...          ...      ...    ...    ...\n",
      "Wizards RPG Team 2017     1            1        1      1      1\n",
      "                 2018     1            1        1      1      1\n",
      "                 2019     1            1        1      1      1\n",
      "Zhi Gang Sha     2009     1            1        1      1      1\n",
      "                 2013     1            1        1      1      1\n",
      "\n",
      "[493 rows x 5 columns]\n"
     ]
    }
   ],
   "source": [
    "print( data.groupby([\"Author\", \"Year\"]).count() )"
   ]
  },
  {
   "block_group": "1a7323430f6c48c097eac46cb8f654e5",
   "cell_type": "markdown",
   "metadata": {
    "cell_id": "1a7323430f6c48c097eac46cb8f654e5",
    "deepnote_app_coordinates": {
     "h": 5,
     "w": 12,
     "x": 0,
     "y": 811
    },
    "deepnote_cell_type": "text-cell-h1",
    "formattedRanges": [],
    "is_collapsed": false,
    "tags": []
   },
   "source": [
    "# Merge & Concat"
   ]
  },
  {
   "block_group": "05f7aebb5d6442f895997ed65083dab8",
   "cell_type": "code",
   "execution_count": 53,
   "metadata": {
    "cell_id": "05f7aebb5d6442f895997ed65083dab8",
    "deepnote_app_coordinates": {
     "h": 5,
     "w": 12,
     "x": 0,
     "y": 817
    },
    "deepnote_cell_type": "code",
    "deepnote_to_be_reexecuted": false,
    "execution_millis": 14,
    "execution_start": 1669182430658,
    "source_hash": "ca5a3dcd",
    "tags": []
   },
   "outputs": [
    {
     "name": "stdout",
     "output_type": "stream",
     "text": [
      "-----Database1:-----\n",
      "    A   B   C   D\n",
      "0  A0  B0  C0  D0\n",
      "1  A1  B1  C1  D1\n",
      "2  A2  B2  C2  D2\n",
      "3  A3  B3  C3  D3\n",
      "-----Database2:-----\n",
      "    A   B   C   D\n",
      "0  A4  B4  C4  D4\n",
      "1  A5  B5  C5  D5\n",
      "2  A6  B6  C6  D6\n",
      "3  A7  B7  C7  D7\n"
     ]
    }
   ],
   "source": [
    "import pandas as pd\n",
    "\n",
    "import numpy as np\n",
    "\n",
    "#let's create a new dataframe\n",
    "df1 = pd.DataFrame(\n",
    "    {\n",
    "        \"A\":[\"A0\",\"A1\",\"A2\",\"A3\"],\n",
    "        \"B\":[\"B0\",\"B1\",\"B2\",\"B3\"],\n",
    "        \"C\":[\"C0\",\"C1\",\"C2\",\"C3\"],\n",
    "        \"D\":[\"D0\",\"D1\",\"D2\",\"D3\"]\n",
    "    }\n",
    ")\n",
    "\n",
    "df2 = pd.DataFrame(\n",
    "    {\n",
    "        'A':['A4', 'A5', 'A6','A7'],\n",
    "\t    'B':['B4', 'B5', 'B6','B7'],\n",
    "\t    'C':['C4', 'C5', 'C6','C7'],\n",
    "\t    'D':['D4', 'D5', 'D6','D7']\n",
    "    }\n",
    ")\n",
    "\n",
    "print(\"-----Database1:-----\")\n",
    "print(df1)\n",
    "print(\"-----Database2:-----\")\n",
    "print(df2)"
   ]
  },
  {
   "block_group": "7c8fc8a4aed2461e82a6bbf044ce0d79",
   "cell_type": "markdown",
   "metadata": {
    "cell_id": "7c8fc8a4aed2461e82a6bbf044ce0d79",
    "deepnote_app_coordinates": {
     "h": 5,
     "w": 12,
     "x": 0,
     "y": 823
    },
    "deepnote_cell_type": "text-cell-h2",
    "formattedRanges": [],
    "is_collapsed": false,
    "tags": []
   },
   "source": [
    "## concatenate dataframes (row level)"
   ]
  },
  {
   "block_group": "2d74887dc94645019692bcbd91f86e67",
   "cell_type": "code",
   "execution_count": 54,
   "metadata": {
    "cell_id": "2d74887dc94645019692bcbd91f86e67",
    "deepnote_app_coordinates": {
     "h": 5,
     "w": 12,
     "x": 0,
     "y": 829
    },
    "deepnote_cell_type": "code",
    "deepnote_to_be_reexecuted": false,
    "execution_millis": 15,
    "execution_start": 1669182430658,
    "source_hash": "d71e936d",
    "tags": []
   },
   "outputs": [
    {
     "name": "stdout",
     "output_type": "stream",
     "text": [
      "    A   B   C   D\n",
      "0  A0  B0  C0  D0\n",
      "1  A1  B1  C1  D1\n",
      "2  A2  B2  C2  D2\n",
      "3  A3  B3  C3  D3\n",
      "0  A4  B4  C4  D4\n",
      "1  A5  B5  C5  D5\n",
      "2  A6  B6  C6  D6\n",
      "3  A7  B7  C7  D7\n"
     ]
    }
   ],
   "source": [
    "#row level concatenation\n",
    "\n",
    "print( pd.concat([df1, df2]) )"
   ]
  },
  {
   "block_group": "84e4b149117d46a292470be2e71f6907",
   "cell_type": "markdown",
   "metadata": {
    "cell_id": "84e4b149117d46a292470be2e71f6907",
    "deepnote_app_coordinates": {
     "h": 5,
     "w": 12,
     "x": 0,
     "y": 835
    },
    "deepnote_cell_type": "markdown",
    "tags": []
   },
   "source": [
    "notice that the indexes are repeated. Let's fix this by correcting the indexes"
   ]
  },
  {
   "block_group": "1790395b6b4f40d48f64718c6012f20a",
   "cell_type": "code",
   "execution_count": 55,
   "metadata": {
    "cell_id": "1790395b6b4f40d48f64718c6012f20a",
    "deepnote_app_coordinates": {
     "h": 5,
     "w": 12,
     "x": 0,
     "y": 841
    },
    "deepnote_cell_type": "code",
    "deepnote_to_be_reexecuted": false,
    "execution_millis": 13,
    "execution_start": 1669182430676,
    "source_hash": "2b4ac566",
    "tags": []
   },
   "outputs": [
    {
     "name": "stdout",
     "output_type": "stream",
     "text": [
      "    A   B   C   D\n",
      "0  A0  B0  C0  D0\n",
      "1  A1  B1  C1  D1\n",
      "2  A2  B2  C2  D2\n",
      "3  A3  B3  C3  D3\n",
      "4  A4  B4  C4  D4\n",
      "5  A5  B5  C5  D5\n",
      "6  A6  B6  C6  D6\n",
      "7  A7  B7  C7  D7\n"
     ]
    }
   ],
   "source": [
    "print( pd.concat([df1, df2], ignore_index=True) )"
   ]
  },
  {
   "block_group": "0552957bf0ca4362ba2b2d4ab6d41b40",
   "cell_type": "markdown",
   "metadata": {
    "cell_id": "0552957bf0ca4362ba2b2d4ab6d41b40",
    "deepnote_app_coordinates": {
     "h": 5,
     "w": 12,
     "x": 0,
     "y": 847
    },
    "deepnote_cell_type": "text-cell-h2",
    "formattedRanges": [],
    "is_collapsed": false,
    "tags": []
   },
   "source": [
    "## concatenate dataframes (column level)"
   ]
  },
  {
   "block_group": "cd63a723d1394815b452ce5eabb8be6b",
   "cell_type": "code",
   "execution_count": 56,
   "metadata": {
    "cell_id": "cd63a723d1394815b452ce5eabb8be6b",
    "deepnote_app_coordinates": {
     "h": 5,
     "w": 12,
     "x": 0,
     "y": 853
    },
    "deepnote_cell_type": "code",
    "deepnote_to_be_reexecuted": false,
    "execution_millis": 59,
    "execution_start": 1669182430684,
    "source_hash": "32b5a3a1",
    "tags": []
   },
   "outputs": [
    {
     "name": "stdout",
     "output_type": "stream",
     "text": [
      "    A   B   C   D   A   B   C   D\n",
      "0  A0  B0  C0  D0  A4  B4  C4  D4\n",
      "1  A1  B1  C1  D1  A5  B5  C5  D5\n",
      "2  A2  B2  C2  D2  A6  B6  C6  D6\n",
      "3  A3  B3  C3  D3  A7  B7  C7  D7\n"
     ]
    }
   ],
   "source": [
    "#column level concatenation\n",
    "\n",
    "print( pd.concat([df1,df2], axis=1) )"
   ]
  },
  {
   "block_group": "afa52a8cf55b4be0819335de0eac5355",
   "cell_type": "markdown",
   "metadata": {
    "cell_id": "afa52a8cf55b4be0819335de0eac5355",
    "deepnote_app_coordinates": {
     "h": 5,
     "w": 12,
     "x": 0,
     "y": 859
    },
    "deepnote_cell_type": "text-cell-h2",
    "formattedRanges": [],
    "is_collapsed": false,
    "tags": []
   },
   "source": [
    "## Merge"
   ]
  },
  {
   "block_group": "d4e6fc03afab48f2bf153cfb9906532c",
   "cell_type": "markdown",
   "metadata": {
    "cell_id": "d4e6fc03afab48f2bf153cfb9906532c",
    "deepnote_app_coordinates": {
     "h": 5,
     "w": 12,
     "x": 0,
     "y": 865
    },
    "deepnote_cell_type": "markdown",
    "tags": []
   },
   "source": [
    "![Picture title](image-20221122-214237.png)"
   ]
  },
  {
   "block_group": "595d9d95e35b4425bf6a254149a566db",
   "cell_type": "markdown",
   "metadata": {
    "cell_id": "595d9d95e35b4425bf6a254149a566db",
    "deepnote_app_coordinates": {
     "h": 5,
     "w": 12,
     "x": 0,
     "y": 871
    },
    "deepnote_cell_type": "text-cell-h3",
    "formattedRanges": [],
    "is_collapsed": false,
    "tags": []
   },
   "source": [
    "### inner join with .merge()"
   ]
  },
  {
   "block_group": "05e96a2f954d4209b289a47c129df376",
   "cell_type": "code",
   "execution_count": 57,
   "metadata": {
    "cell_id": "05e96a2f954d4209b289a47c129df376",
    "deepnote_app_coordinates": {
     "h": 5,
     "w": 12,
     "x": 0,
     "y": 877
    },
    "deepnote_cell_type": "code",
    "deepnote_to_be_reexecuted": false,
    "execution_millis": 6,
    "execution_start": 1669182430737,
    "source_hash": "dd4ee87d",
    "tags": []
   },
   "outputs": [
    {
     "name": "stdout",
     "output_type": "stream",
     "text": [
      "-----Left database:-----\n",
      "  key   A   B\n",
      "0  k0  A0  B0\n",
      "1  k1  A1  B1\n",
      "2  k2  A2  B2\n",
      "3  k3  A3  B3\n",
      "-----Right database-----\n",
      "  key   C   D\n",
      "0  k0  C0  D0\n",
      "1  k1  C1  D1\n",
      "2  k2  C2  D2\n",
      "3  k3  C3  D3\n"
     ]
    }
   ],
   "source": [
    "#using the logic from the picture above, let's merge\n",
    "\n",
    "#creating dataframe\n",
    "\n",
    "izq = pd.DataFrame(\n",
    "    {\n",
    "        'key' : ['k0', 'k1', 'k2','k3'],\n",
    "        'A' : ['A0', 'A1', 'A2','A3'],\n",
    "        'B': ['B0', 'B1', 'B2','B3']\n",
    "    }\n",
    ")\n",
    "\n",
    "der = pd.DataFrame(\n",
    "    {\n",
    "        'key' : ['k0', 'k1', 'k2','k3'],\n",
    "        'C' : ['C0', 'C1', 'C2','C3'],\n",
    "        'D': ['D0', 'D1', 'D2','D3']\n",
    "    }\n",
    ")\n",
    "print(\"-----Left database:-----\")\n",
    "print(izq)\n",
    "\n",
    "print(\"-----Right database-----\")\n",
    "print(der)"
   ]
  },
  {
   "block_group": "f7e79408ef734a1b9c7b3381040ab763",
   "cell_type": "markdown",
   "metadata": {
    "cell_id": "f7e79408ef734a1b9c7b3381040ab763",
    "deepnote_app_coordinates": {
     "h": 5,
     "w": 12,
     "x": 0,
     "y": 883
    },
    "deepnote_cell_type": "markdown",
    "tags": []
   },
   "source": [
    "let's join the dataframe Der to Izq"
   ]
  },
  {
   "block_group": "f853d071a3c647b78f120e89cd6e3520",
   "cell_type": "code",
   "execution_count": 58,
   "metadata": {
    "cell_id": "f853d071a3c647b78f120e89cd6e3520",
    "deepnote_app_coordinates": {
     "h": 5,
     "w": 12,
     "x": 0,
     "y": 889
    },
    "deepnote_cell_type": "code",
    "deepnote_to_be_reexecuted": false,
    "execution_millis": 16,
    "execution_start": 1669182430738,
    "source_hash": "9ccdc1d7",
    "tags": []
   },
   "outputs": [
    {
     "name": "stdout",
     "output_type": "stream",
     "text": [
      "  key   A   B   C   D\n",
      "0  k0  A0  B0  C0  D0\n",
      "1  k1  A1  B1  C1  D1\n",
      "2  k2  A2  B2  C2  D2\n",
      "3  k3  A3  B3  C3  D3\n"
     ]
    }
   ],
   "source": [
    "#merge\n",
    "merge1 = izq.merge(der , on=\"key\")\n",
    "\n",
    "print(merge1)"
   ]
  },
  {
   "block_group": "e1dabc79a93c476b97b89a202f4a6352",
   "cell_type": "markdown",
   "metadata": {
    "cell_id": "e1dabc79a93c476b97b89a202f4a6352",
    "deepnote_app_coordinates": {
     "h": 5,
     "w": 12,
     "x": 0,
     "y": 895
    },
    "deepnote_cell_type": "text-cell-h3",
    "formattedRanges": [],
    "is_collapsed": false,
    "tags": []
   },
   "source": [
    "### inner join with .merge() -different col names-"
   ]
  },
  {
   "block_group": "230cc98116d54c69a75f4f9e3e647d5b",
   "cell_type": "code",
   "execution_count": 59,
   "metadata": {
    "cell_id": "230cc98116d54c69a75f4f9e3e647d5b",
    "deepnote_app_coordinates": {
     "h": 5,
     "w": 12,
     "x": 0,
     "y": 901
    },
    "deepnote_cell_type": "code",
    "deepnote_to_be_reexecuted": false,
    "execution_millis": 22,
    "execution_start": 1669182430755,
    "source_hash": "6f2fa081",
    "tags": []
   },
   "outputs": [
    {
     "name": "stdout",
     "output_type": "stream",
     "text": [
      "-----Left database:-----\n",
      "  key   A   B\n",
      "0  k0  A0  B0\n",
      "1  k1  A1  B1\n",
      "2  k2  A2  B2\n",
      "3  k3  A3  B3\n",
      "-----Right database-----\n",
      "  key_2   C   D\n",
      "0    k0  C0  D0\n",
      "1    k1  C1  D1\n",
      "2    k2  C2  D2\n",
      "3    k3  C3  D3\n"
     ]
    }
   ],
   "source": [
    "#MERGE 2\n",
    "izq = pd.DataFrame({'key' : ['k0', 'k1', 'k2','k3'],\n",
    " 'A' : ['A0', 'A1', 'A2','A3'],\n",
    "'B': ['B0', 'B1', 'B2','B3']})\n",
    "\n",
    "der = pd.DataFrame({'key_2' : ['k0', 'k1', 'k2','k3'],\n",
    " 'C' : ['C0', 'C1', 'C2','C3'],\n",
    "'D': ['D0', 'D1', 'D2','D3']})\n",
    "\n",
    "print(\"-----Left database:-----\")\n",
    "print(izq)\n",
    "\n",
    "print(\"-----Right database-----\")\n",
    "print(der)"
   ]
  },
  {
   "block_group": "6f0c3a0d5991478fa046f2cce6ba3f46",
   "cell_type": "markdown",
   "metadata": {
    "cell_id": "6f0c3a0d5991478fa046f2cce6ba3f46",
    "deepnote_app_coordinates": {
     "h": 5,
     "w": 12,
     "x": 0,
     "y": 907
    },
    "deepnote_cell_type": "markdown",
    "tags": []
   },
   "source": [
    "Note that the column names are not the same, so we must specify the column names"
   ]
  },
  {
   "block_group": "17dbea15d7d048b5831c01943befebfb",
   "cell_type": "code",
   "execution_count": 60,
   "metadata": {
    "cell_id": "17dbea15d7d048b5831c01943befebfb",
    "deepnote_app_coordinates": {
     "h": 5,
     "w": 12,
     "x": 0,
     "y": 913
    },
    "deepnote_cell_type": "code",
    "deepnote_to_be_reexecuted": false,
    "execution_millis": 5,
    "execution_start": 1669182430777,
    "source_hash": "94696384",
    "tags": []
   },
   "outputs": [
    {
     "name": "stdout",
     "output_type": "stream",
     "text": [
      "  key   A   B key_2   C   D\n",
      "0  k0  A0  B0    k0  C0  D0\n",
      "1  k1  A1  B1    k1  C1  D1\n",
      "2  k2  A2  B2    k2  C2  D2\n",
      "3  k3  A3  B3    k3  C3  D3\n"
     ]
    }
   ],
   "source": [
    "merge2 = izq.merge(der, left_on=\"key\", right_on=\"key_2\")\n",
    "\n",
    "print(merge2)"
   ]
  },
  {
   "block_group": "8f15efd83c084108937777b3c7ffee93",
   "cell_type": "markdown",
   "metadata": {
    "cell_id": "8f15efd83c084108937777b3c7ffee93",
    "deepnote_app_coordinates": {
     "h": 5,
     "w": 12,
     "x": 0,
     "y": 919
    },
    "deepnote_cell_type": "text-cell-h3",
    "formattedRanges": [],
    "is_collapsed": false,
    "tags": []
   },
   "source": [
    "### left join with .merge() -empty records in key col-"
   ]
  },
  {
   "block_group": "67bbf32ff88d4bee97e4bf3ae5dc9da0",
   "cell_type": "code",
   "execution_count": 61,
   "metadata": {
    "cell_id": "67bbf32ff88d4bee97e4bf3ae5dc9da0",
    "deepnote_app_coordinates": {
     "h": 5,
     "w": 12,
     "x": 0,
     "y": 925
    },
    "deepnote_cell_type": "code",
    "deepnote_to_be_reexecuted": false,
    "execution_millis": 11,
    "execution_start": 1669182430783,
    "source_hash": "929d90da",
    "tags": []
   },
   "outputs": [
    {
     "name": "stdout",
     "output_type": "stream",
     "text": [
      "-----Left database:-----\n",
      "  key   A   B\n",
      "0  k0  A0  B0\n",
      "1  k1  A1  B1\n",
      "2  k2  A2  B2\n",
      "3  k3  A3  B3\n",
      "-----Right database-----\n",
      "  key_2   C   D\n",
      "0    k0  C0  D0\n",
      "1    k1  C1  D1\n",
      "2    k2  C2  D2\n",
      "3   NaN  C3  D3\n"
     ]
    }
   ],
   "source": [
    "#let's create the dataframes\n",
    "\n",
    "izq = pd.DataFrame({'key' : ['k0', 'k1', 'k2','k3'],\n",
    " 'A' : ['A0', 'A1', 'A2','A3'],\n",
    "'B': ['B0', 'B1', 'B2','B3']})\n",
    "\n",
    "der = pd.DataFrame({'key_2' : ['k0', 'k1', 'k2',np.nan],\n",
    " 'C' : ['C0', 'C1', 'C2','C3'],\n",
    "'D': ['D0', 'D1', 'D2','D3']})\n",
    "\n",
    "print(\"-----Left database:-----\")\n",
    "print(izq)\n",
    "\n",
    "print(\"-----Right database-----\")\n",
    "print(der)"
   ]
  },
  {
   "block_group": "2f749dfcc5444afa9d969c3afaa9d4d0",
   "cell_type": "markdown",
   "metadata": {
    "cell_id": "2f749dfcc5444afa9d969c3afaa9d4d0",
    "deepnote_app_coordinates": {
     "h": 5,
     "w": 12,
     "x": 0,
     "y": 931
    },
    "deepnote_cell_type": "markdown",
    "tags": []
   },
   "source": [
    "Since there is a missing value in the column keys, pandas won't detect it as a match. Solve it with a \"How\""
   ]
  },
  {
   "block_group": "898e2ed4676f4d4b99b116bd65c2af68",
   "cell_type": "code",
   "execution_count": 62,
   "metadata": {
    "cell_id": "898e2ed4676f4d4b99b116bd65c2af68",
    "deepnote_app_coordinates": {
     "h": 5,
     "w": 12,
     "x": 0,
     "y": 937
    },
    "deepnote_cell_type": "code",
    "deepnote_to_be_reexecuted": false,
    "execution_millis": 28,
    "execution_start": 1669182430783,
    "source_hash": "e9d09fdd",
    "tags": []
   },
   "outputs": [
    {
     "name": "stdout",
     "output_type": "stream",
     "text": [
      "  key   A   B key_2    C    D\n",
      "0  k0  A0  B0    k0   C0   D0\n",
      "1  k1  A1  B1    k1   C1   D1\n",
      "2  k2  A2  B2    k2   C2   D2\n",
      "3  k3  A3  B3   NaN  NaN  NaN\n"
     ]
    }
   ],
   "source": [
    "merge3 = izq.merge(der, left_on=\"key\" , right_on=\"key_2\", how = \"left\")\n",
    "\n",
    "print(merge3)"
   ]
  },
  {
   "block_group": "559c7ed5494b41bdaa7fb91c37c59cf3",
   "cell_type": "markdown",
   "metadata": {
    "cell_id": "559c7ed5494b41bdaa7fb91c37c59cf3",
    "deepnote_app_coordinates": {
     "h": 5,
     "w": 12,
     "x": 0,
     "y": 943
    },
    "deepnote_cell_type": "text-cell-h1",
    "formattedRanges": [],
    "is_collapsed": false,
    "tags": []
   },
   "source": [
    "# Join"
   ]
  },
  {
   "block_group": "efbbf6a08df64d60bb8cce7ceddcdb30",
   "cell_type": "markdown",
   "metadata": {
    "cell_id": "efbbf6a08df64d60bb8cce7ceddcdb30",
    "deepnote_app_coordinates": {
     "h": 5,
     "w": 12,
     "x": 0,
     "y": 949
    },
    "deepnote_cell_type": "markdown",
    "tags": []
   },
   "source": [
    "you can join with the .join() function\n",
    "\n",
    "**.join() is going to match the records BASED ON THE INDEX**, remember that **.merge() matches the records based on the column names**"
   ]
  },
  {
   "block_group": "a0e295ce17d944a38456fdd410b8884d",
   "cell_type": "code",
   "execution_count": 63,
   "metadata": {
    "cell_id": "a0e295ce17d944a38456fdd410b8884d",
    "deepnote_app_coordinates": {
     "h": 5,
     "w": 12,
     "x": 0,
     "y": 955
    },
    "deepnote_cell_type": "code",
    "deepnote_to_be_reexecuted": false,
    "execution_millis": 2,
    "execution_start": 1669182430844,
    "source_hash": "eb435ce4",
    "tags": []
   },
   "outputs": [
    {
     "name": "stdout",
     "output_type": "stream",
     "text": [
      "-----left database-----\n",
      "     A   B\n",
      "k0  A0  B0\n",
      "k1  A1  B1\n",
      "k2  A2  B2\n",
      "-----right database-----\n",
      "     C   D\n",
      "k0  C0  D0\n",
      "k2  C1  D1\n",
      "k3  C2  D2\n"
     ]
    }
   ],
   "source": [
    "import pandas as pd\n",
    "import numpy as np\n",
    "\n",
    "izq = pd.DataFrame({'A': ['A0','A1','A2'],\n",
    "  'B':['B0','B1','B2']},\n",
    "  index=['k0','k1','k2'])\n",
    "\n",
    "der =pd.DataFrame({'C': ['C0','C1','C2'],\n",
    "  'D':['D0','D1','D2']},\n",
    "  index=['k0','k2','k3']) \n",
    "\n",
    "print(\"-----left database-----\")\n",
    "print(izq)\n",
    "\n",
    "print(\"-----right database-----\")\n",
    "print(der)"
   ]
  },
  {
   "block_group": "d84750bc9fde48e7af9a07a260daa5b1",
   "cell_type": "markdown",
   "metadata": {
    "cell_id": "d84750bc9fde48e7af9a07a260daa5b1",
    "deepnote_app_coordinates": {
     "h": 5,
     "w": 12,
     "x": 0,
     "y": 961
    },
    "deepnote_cell_type": "text-cell-h2",
    "formattedRanges": [],
    "is_collapsed": false,
    "tags": []
   },
   "source": [
    "## inner join"
   ]
  },
  {
   "block_group": "91825585401d465ca00ee6ff6ecdfa94",
   "cell_type": "code",
   "execution_count": 64,
   "metadata": {
    "cell_id": "91825585401d465ca00ee6ff6ecdfa94",
    "deepnote_app_coordinates": {
     "h": 5,
     "w": 12,
     "x": 0,
     "y": 967
    },
    "deepnote_cell_type": "code",
    "deepnote_to_be_reexecuted": false,
    "execution_millis": 2,
    "execution_start": 1669182430844,
    "source_hash": "3ef712de",
    "tags": []
   },
   "outputs": [
    {
     "name": "stdout",
     "output_type": "stream",
     "text": [
      "     A   B   C   D\n",
      "k0  A0  B0  C0  D0\n",
      "k2  A2  B2  C1  D1\n"
     ]
    }
   ],
   "source": [
    "print(izq.join(der, how=\"inner\"))"
   ]
  },
  {
   "block_group": "16cdb4dabee3450e9de35c0d17a1f7e6",
   "cell_type": "markdown",
   "metadata": {
    "cell_id": "16cdb4dabee3450e9de35c0d17a1f7e6",
    "deepnote_app_coordinates": {
     "h": 5,
     "w": 12,
     "x": 0,
     "y": 973
    },
    "deepnote_cell_type": "text-cell-h2",
    "formattedRanges": [],
    "is_collapsed": false,
    "tags": []
   },
   "source": [
    "## outer join"
   ]
  },
  {
   "block_group": "df635c2322ab43388d5674df2cc3237e",
   "cell_type": "markdown",
   "metadata": {
    "cell_id": "df635c2322ab43388d5674df2cc3237e",
    "deepnote_app_coordinates": {
     "h": 5,
     "w": 12,
     "x": 0,
     "y": 979
    },
    "deepnote_cell_type": "markdown",
    "tags": []
   },
   "source": [
    "this can be explained as \"bring me all data even if there's no match\""
   ]
  },
  {
   "block_group": "5cde1b8f1ebe41b6a3b38152c5cb587e",
   "cell_type": "code",
   "execution_count": 65,
   "metadata": {
    "cell_id": "5cde1b8f1ebe41b6a3b38152c5cb587e",
    "deepnote_app_coordinates": {
     "h": 5,
     "w": 12,
     "x": 0,
     "y": 985
    },
    "deepnote_cell_type": "code",
    "deepnote_to_be_reexecuted": false,
    "execution_millis": 4,
    "execution_start": 1669182430845,
    "source_hash": "d0931c19",
    "tags": []
   },
   "outputs": [
    {
     "name": "stdout",
     "output_type": "stream",
     "text": [
      "      A    B    C    D\n",
      "k0   A0   B0   C0   D0\n",
      "k1   A1   B1  NaN  NaN\n",
      "k2   A2   B2   C1   D1\n",
      "k3  NaN  NaN   C2   D2\n"
     ]
    }
   ],
   "source": [
    "print(izq.join(der, how=\"outer\"))"
   ]
  },
  {
   "block_group": "76708ca6c25c40e9b2ff6f9dfc3767d1",
   "cell_type": "markdown",
   "metadata": {
    "cell_id": "76708ca6c25c40e9b2ff6f9dfc3767d1",
    "deepnote_app_coordinates": {
     "h": 5,
     "w": 12,
     "x": 0,
     "y": 991
    },
    "deepnote_cell_type": "text-cell-h2",
    "formattedRanges": [],
    "is_collapsed": false,
    "tags": []
   },
   "source": [
    "## left join"
   ]
  },
  {
   "block_group": "2f71aa53baa84f3bbbc6f343840c80f8",
   "cell_type": "code",
   "execution_count": 66,
   "metadata": {
    "cell_id": "2f71aa53baa84f3bbbc6f343840c80f8",
    "deepnote_app_coordinates": {
     "h": 5,
     "w": 12,
     "x": 0,
     "y": 997
    },
    "deepnote_cell_type": "code",
    "deepnote_to_be_reexecuted": false,
    "execution_millis": 10,
    "execution_start": 1669182430848,
    "source_hash": "1b3567c0",
    "tags": []
   },
   "outputs": [
    {
     "name": "stdout",
     "output_type": "stream",
     "text": [
      "     A   B    C    D\n",
      "k0  A0  B0   C0   D0\n",
      "k1  A1  B1  NaN  NaN\n",
      "k2  A2  B2   C1   D1\n"
     ]
    }
   ],
   "source": [
    "print(izq.join(der, how=\"left\"))"
   ]
  },
  {
   "block_group": "57d955e7a30f42ff8c158b9e04da4719",
   "cell_type": "markdown",
   "metadata": {
    "cell_id": "57d955e7a30f42ff8c158b9e04da4719",
    "deepnote_app_coordinates": {
     "h": 5,
     "w": 12,
     "x": 0,
     "y": 1003
    },
    "deepnote_cell_type": "text-cell-h2",
    "formattedRanges": [],
    "is_collapsed": false,
    "tags": []
   },
   "source": [
    "## right join"
   ]
  },
  {
   "block_group": "3049430fa7c44a60bf51b3cee4c66758",
   "cell_type": "code",
   "execution_count": 67,
   "metadata": {
    "cell_id": "3049430fa7c44a60bf51b3cee4c66758",
    "deepnote_app_coordinates": {
     "h": 5,
     "w": 12,
     "x": 0,
     "y": 1009
    },
    "deepnote_cell_type": "code",
    "deepnote_to_be_reexecuted": false,
    "execution_millis": 4,
    "execution_start": 1669182430864,
    "source_hash": "54dc378c",
    "tags": []
   },
   "outputs": [
    {
     "name": "stdout",
     "output_type": "stream",
     "text": [
      "      A    B   C   D\n",
      "k0   A0   B0  C0  D0\n",
      "k2   A2   B2  C1  D1\n",
      "k3  NaN  NaN  C2  D2\n"
     ]
    }
   ],
   "source": [
    "print(izq.join(der, how=\"right\"))"
   ]
  },
  {
   "block_group": "8e02c6eebac8420f9151f25b1b09597e",
   "cell_type": "markdown",
   "metadata": {
    "cell_id": "8e02c6eebac8420f9151f25b1b09597e",
    "deepnote_app_coordinates": {
     "h": 5,
     "w": 12,
     "x": 0,
     "y": 1015
    },
    "deepnote_cell_type": "text-cell-h2",
    "formattedRanges": [],
    "is_collapsed": false,
    "tags": []
   },
   "source": [
    "## In terms of performance and speed, what is better? Merge or Join? when it comes to big data."
   ]
  },
  {
   "block_group": "8cda03b7168e4306a7fa7df529dc101a",
   "cell_type": "markdown",
   "metadata": {
    "cell_id": "8cda03b7168e4306a7fa7df529dc101a",
    "deepnote_app_coordinates": {
     "h": 5,
     "w": 12,
     "x": 0,
     "y": 1021
    },
    "deepnote_cell_type": "markdown",
    "tags": []
   },
   "source": [
    "En temas de performance y velocidad, ¿cuál es mejor el Merge o el Join, cuando se trata de miles de registros?\n",
    "@gustavomp, Platzinauta\n",
    "\n",
    "Respuesta:\n",
    "join suele ser mejor\n",
    "@alarcon7a, Profe Platzi"
   ]
  },
  {
   "block_group": "052ea642fd6e445dbf77005a97b3d60f",
   "cell_type": "markdown",
   "metadata": {
    "cell_id": "052ea642fd6e445dbf77005a97b3d60f",
    "deepnote_app_coordinates": {
     "h": 5,
     "w": 12,
     "x": 0,
     "y": 1027
    },
    "deepnote_cell_type": "text-cell-h1",
    "formattedRanges": [],
    "is_collapsed": false,
    "tags": []
   },
   "source": [
    "# Pivot Table"
   ]
  },
  {
   "block_group": "fa58b7257a394c908420d604fe49bfa6",
   "cell_type": "markdown",
   "metadata": {
    "cell_id": "fa58b7257a394c908420d604fe49bfa6",
    "deepnote_app_coordinates": {
     "h": 5,
     "w": 12,
     "x": 0,
     "y": 1033
    },
    "deepnote_cell_type": "markdown",
    "tags": []
   },
   "source": [
    "Pivot transforms determined values from columns or rows into index of a new dataframe, the intersection is the result.\n",
    "\n",
    "*the structure is:*\n",
    "\n",
    "*dataframe* **.pivot_table()** \n",
    "\n",
    "*with three arguments:*\n",
    "- index\n",
    "- columns\n",
    "- values"
   ]
  },
  {
   "block_group": "5827eed0ca634ce7ae52eea7498454c5",
   "cell_type": "code",
   "execution_count": 68,
   "metadata": {
    "cell_id": "5827eed0ca634ce7ae52eea7498454c5",
    "deepnote_app_coordinates": {
     "h": 5,
     "w": 12,
     "x": 0,
     "y": 1039
    },
    "deepnote_cell_type": "code",
    "deepnote_to_be_reexecuted": false,
    "execution_millis": 70,
    "execution_start": 1669182430911,
    "source_hash": "81e61df3",
    "tags": []
   },
   "outputs": [
    {
     "name": "stdout",
     "output_type": "stream",
     "text": [
      "                                                Name  \\\n",
      "0                      10-Day Green Smoothie Cleanse   \n",
      "1                                  11/22/63: A Novel   \n",
      "2            12 Rules for Life: An Antidote to Chaos   \n",
      "3                             1984 (Signet Classics)   \n",
      "4  5,000 Awesome Facts (About Everything!) (Natio...   \n",
      "\n",
      "                     Author  User Rating  Reviews  Price  Year        Genre  \n",
      "0                  JJ Smith          4.7    17350      8  2016  Non Fiction  \n",
      "1              Stephen King          4.6     2052     22  2011      Fiction  \n",
      "2        Jordan B. Peterson          4.7    18979     15  2018  Non Fiction  \n",
      "3             George Orwell          4.7    21424      6  2017      Fiction  \n",
      "4  National Geographic Kids          4.8     7665     12  2019  Non Fiction  \n"
     ]
    }
   ],
   "source": [
    "import pandas as pd\n",
    "import numpy as np\n",
    "\n",
    "#let's import our data\n",
    "df_books = pd.read_csv(\"bestsellers-with-categories.csv\")\n",
    "\n",
    "#now let's explore it\n",
    "print( df_books.head() )"
   ]
  },
  {
   "block_group": "c936e4a0edc54be2b7f6496f638be73d",
   "cell_type": "markdown",
   "metadata": {
    "cell_id": "c936e4a0edc54be2b7f6496f638be73d",
    "deepnote_app_coordinates": {
     "h": 5,
     "w": 12,
     "x": 0,
     "y": 1045
    },
    "deepnote_cell_type": "markdown",
    "tags": []
   },
   "source": [
    "now let's apply pivot_table"
   ]
  },
  {
   "block_group": "9b1a9237a1eb4730bbdfc9d31b0a59a1",
   "cell_type": "code",
   "execution_count": 69,
   "metadata": {
    "cell_id": "9b1a9237a1eb4730bbdfc9d31b0a59a1",
    "deepnote_app_coordinates": {
     "h": 5,
     "w": 12,
     "x": 0,
     "y": 1051
    },
    "deepnote_cell_type": "code",
    "deepnote_table_loading": false,
    "deepnote_table_state": {
     "filters": [],
     "pageIndex": 1,
     "pageSize": 10,
     "sortBy": []
    },
    "deepnote_to_be_reexecuted": false,
    "execution_millis": 12,
    "execution_start": 1669182430970,
    "source_hash": "aa441017",
    "tags": []
   },
   "outputs": [
    {
     "name": "stdout",
     "output_type": "stream",
     "text": [
      "Genre                       Fiction  Non Fiction\n",
      "Author                                          \n",
      "Abraham Verghese                4.6          NaN\n",
      "Adam Gasiewski                  NaN     4.400000\n",
      "Adam Mansbach                   4.8          NaN\n",
      "Adir Levy                       4.8          NaN\n",
      "Admiral William H. McRaven      NaN     4.700000\n",
      "...                             ...          ...\n",
      "Walter Isaacson                 NaN     4.566667\n",
      "William Davis                   NaN     4.400000\n",
      "William P. Young                4.6          NaN\n",
      "Wizards RPG Team                4.8          NaN\n",
      "Zhi Gang Sha                    NaN     4.600000\n",
      "\n",
      "[248 rows x 2 columns]\n"
     ]
    }
   ],
   "source": [
    "print( df_books.pivot_table(index=\"Author\", columns=\"Genre\", values=\"User Rating\") )"
   ]
  },
  {
   "block_group": "7576e98d533f489aa8b9240830de0eb0",
   "cell_type": "markdown",
   "metadata": {
    "cell_id": "7576e98d533f489aa8b9240830de0eb0",
    "deepnote_app_coordinates": {
     "h": 5,
     "w": 12,
     "x": 0,
     "y": 1057
    },
    "deepnote_cell_type": "markdown",
    "tags": []
   },
   "source": [
    "Another example:\n",
    "\n",
    "**Based on the genre and the year, get the user rating average**"
   ]
  },
  {
   "block_group": "ce0e496128554008905a58be9ccfedb2",
   "cell_type": "code",
   "execution_count": 70,
   "metadata": {
    "cell_id": "ce0e496128554008905a58be9ccfedb2",
    "deepnote_app_coordinates": {
     "h": 5,
     "w": 12,
     "x": 0,
     "y": 1063
    },
    "deepnote_cell_type": "code",
    "deepnote_to_be_reexecuted": false,
    "execution_millis": 12,
    "execution_start": 1669182430971,
    "source_hash": "40f6ed57",
    "tags": []
   },
   "outputs": [
    {
     "name": "stdout",
     "output_type": "stream",
     "text": [
      "Year             2009   2010      2011      2012      2013      2014  \\\n",
      "Genre                                                                  \n",
      "Fiction      4.591667  4.615  4.619048  4.495238  4.545833  4.631034   \n",
      "Non Fiction  4.576923  4.520  4.513793  4.558621  4.561538  4.609524   \n",
      "\n",
      "Year             2015      2016      2017      2018      2019  \n",
      "Genre                                                          \n",
      "Fiction      4.652941  4.715789  4.737500  4.738095  4.820000  \n",
      "Non Fiction  4.645455  4.654839  4.588462  4.617241  4.686667  \n"
     ]
    }
   ],
   "source": [
    "print( df_books.pivot_table(index=\"Genre\", columns=\"Year\", values=\"User Rating\", aggfunc=\"mean\") )"
   ]
  },
  {
   "block_group": "847d3fc94b4a4d7c91835cb4ac56b48a",
   "cell_type": "markdown",
   "metadata": {
    "cell_id": "847d3fc94b4a4d7c91835cb4ac56b48a",
    "deepnote_app_coordinates": {
     "h": 5,
     "w": 12,
     "x": 0,
     "y": 1069
    },
    "deepnote_cell_type": "markdown",
    "tags": []
   },
   "source": [
    "Another example:\n",
    "\n",
    "**Based on the genre and the year, get the user rating median**"
   ]
  },
  {
   "block_group": "2992bd54e5ef40b78e86b1ba7fced645",
   "cell_type": "code",
   "execution_count": 71,
   "metadata": {
    "cell_id": "2992bd54e5ef40b78e86b1ba7fced645",
    "deepnote_app_coordinates": {
     "h": 5,
     "w": 12,
     "x": 0,
     "y": 1075
    },
    "deepnote_cell_type": "code",
    "deepnote_to_be_reexecuted": false,
    "execution_millis": 33,
    "execution_start": 1669182430975,
    "source_hash": "ef1d9a31",
    "tags": []
   },
   "outputs": [
    {
     "name": "stdout",
     "output_type": "stream",
     "text": [
      "Year         2009  2010  2011  2012  2013  2014  2015  2016  2017  2018  2019\n",
      "Genre                                                                        \n",
      "Fiction       4.7  4.70   4.7   4.6  4.65   4.7   4.8   4.8   4.8   4.8  4.85\n",
      "Non Fiction   4.6  4.55   4.6   4.6  4.60   4.6   4.7   4.7   4.6   4.7  4.70\n"
     ]
    }
   ],
   "source": [
    "print( df_books.pivot_table(index=\"Genre\", columns=\"Year\", values=\"User Rating\", aggfunc=\"median\") )"
   ]
  },
  {
   "block_group": "07505ad9fedd4f13b23ed4a0eff8f0e5",
   "cell_type": "markdown",
   "metadata": {
    "cell_id": "07505ad9fedd4f13b23ed4a0eff8f0e5",
    "deepnote_app_coordinates": {
     "h": 5,
     "w": 12,
     "x": 0,
     "y": 1081
    },
    "deepnote_cell_type": "text-cell-h1",
    "formattedRanges": [],
    "is_collapsed": false,
    "tags": []
   },
   "source": [
    "# Melt (or unpivot columns)"
   ]
  },
  {
   "block_group": "83704250f61b4146a4e84a5800523bca",
   "cell_type": "markdown",
   "metadata": {
    "cell_id": "83704250f61b4146a4e84a5800523bca",
    "deepnote_app_coordinates": {
     "h": 5,
     "w": 12,
     "x": 0,
     "y": 1087
    },
    "deepnote_cell_type": "markdown",
    "tags": []
   },
   "source": [
    "Melt turns columns into rows. it will generate two columns. \n",
    "\n",
    "1st column with the previous column name\n",
    "2nd column with the value assigned to that column"
   ]
  },
  {
   "block_group": "6ed46ad1f62743f99d3b4a7d6f75d9b6",
   "cell_type": "markdown",
   "metadata": {
    "cell_id": "6ed46ad1f62743f99d3b4a7d6f75d9b6",
    "deepnote_app_coordinates": {
     "h": 5,
     "w": 12,
     "x": 0,
     "y": 1093
    },
    "deepnote_cell_type": "markdown",
    "tags": []
   },
   "source": [
    "example: suposse you have the following data:"
   ]
  },
  {
   "block_group": "976c439dfe6d4a83b8dde7c067031a11",
   "cell_type": "markdown",
   "metadata": {
    "cell_id": "976c439dfe6d4a83b8dde7c067031a11",
    "deepnote_app_coordinates": {
     "h": 5,
     "w": 12,
     "x": 0,
     "y": 1099
    },
    "deepnote_cell_type": "markdown",
    "tags": []
   },
   "source": [
    "![Picture title](image-20221122-231059.png)"
   ]
  },
  {
   "block_group": "556079469d4644529e9a4f7c09099d26",
   "cell_type": "markdown",
   "metadata": {
    "cell_id": "556079469d4644529e9a4f7c09099d26",
    "deepnote_app_coordinates": {
     "h": 5,
     "w": 12,
     "x": 0,
     "y": 1105
    },
    "deepnote_cell_type": "markdown",
    "tags": []
   },
   "source": [
    "and you want to put those column names (which are data) into rows. **.melt()** will do this for you!\n",
    "\n",
    "*data available and loaded at financial.csv*\n",
    "\n",
    "*please note that it is delimited by;*"
   ]
  },
  {
   "block_group": "c41172fc73564078ae16904f793284b7",
   "cell_type": "code",
   "execution_count": 72,
   "metadata": {
    "cell_id": "c41172fc73564078ae16904f793284b7",
    "deepnote_app_coordinates": {
     "h": 5,
     "w": 12,
     "x": 0,
     "y": 1111
    },
    "deepnote_cell_type": "code",
    "deepnote_to_be_reexecuted": false,
    "execution_millis": 16,
    "execution_start": 1669182431006,
    "source_hash": "505fa528",
    "tags": []
   },
   "outputs": [
    {
     "name": "stdout",
     "output_type": "stream",
     "text": [
      "         Categoria  01/19  02/19  03/19  04/19  05/19  06/19  07/19  08/19  \\\n",
      "0           Online   6500   6500   6500   6500   6500   6500   6500   6500   \n",
      "1           Comida   1200   1200   1200   1200   1200   1200   1200   1200   \n",
      "2     Electricidad    900    900    900    900    900    900    900    900   \n",
      "3  Entretenimiento   1000   1000   1000   1000   1000   1000   1000   1000   \n",
      "4           Renta    3500   3500   3500   3500   3500   3500   3500   3500   \n",
      "5        Servicios    500    500    500    500    500    500    500    500   \n",
      "6         Telefono    300    300    300    300    300    300    300    300   \n",
      "7       Transporte    800    800    800    800    800    800    800    800   \n",
      "8            Otros    200    200    200    200    200    200    200    200   \n",
      "\n",
      "   09/19  ...  03/20  04/20  05/20  06/20  07/20  08/20  09/20  10/20  11/20  \\\n",
      "0   6500  ...   6500   6500   6500   6500   6500   6500   6500   6500   6500   \n",
      "1   1200  ...   1200   1200   1200   1200   1200   1200   1200   1200   1200   \n",
      "2    900  ...    900    900    900    900    900    900    900    900    900   \n",
      "3   1000  ...   1000   1000   1000   1000   1000   1000   1000   1000   1000   \n",
      "4   3500  ...   3500   3500   3500   3500   3500   3500   3500   3500   3500   \n",
      "5    500  ...    500    500    500    500    500    500    500    500    500   \n",
      "6    300  ...    300    300    300    300    300    300    300    300    300   \n",
      "7    800  ...    800    800    800    800    800    800    800    800    800   \n",
      "8    200  ...    200    200    200    200    200    200    200    200    200   \n",
      "\n",
      "   12/20  \n",
      "0   6500  \n",
      "1   1200  \n",
      "2    900  \n",
      "3   1000  \n",
      "4   3500  \n",
      "5    500  \n",
      "6    300  \n",
      "7    800  \n",
      "8    200  \n",
      "\n",
      "[9 rows x 25 columns]\n"
     ]
    }
   ],
   "source": [
    "import numpy as np\n",
    "import pandas as pd\n",
    "\n",
    "financial = pd.read_csv(\"financial.csv\", delimiter=\";\")\n",
    "\n",
    "print(financial)"
   ]
  },
  {
   "block_group": "2ada0d5ee13e4967af08d93aef5695e8",
   "cell_type": "markdown",
   "metadata": {
    "cell_id": "2ada0d5ee13e4967af08d93aef5695e8",
    "deepnote_app_coordinates": {
     "h": 5,
     "w": 12,
     "x": 0,
     "y": 1117
    },
    "deepnote_cell_type": "markdown",
    "tags": []
   },
   "source": [
    "let's unpivot the thing\n",
    "\n",
    "- note that we want to unpivot the dates **but still keep the category column**"
   ]
  },
  {
   "block_group": "ff8c07dd10034a899cdaa271ac3b134f",
   "cell_type": "code",
   "execution_count": 73,
   "metadata": {
    "cell_id": "ff8c07dd10034a899cdaa271ac3b134f",
    "deepnote_app_coordinates": {
     "h": 5,
     "w": 12,
     "x": 0,
     "y": 1123
    },
    "deepnote_cell_type": "code",
    "deepnote_to_be_reexecuted": false,
    "execution_millis": 9,
    "execution_start": 1669182431021,
    "source_hash": "a30381fd",
    "tags": []
   },
   "outputs": [
    {
     "name": "stdout",
     "output_type": "stream",
     "text": [
      "           Categoria variable  value\n",
      "0             Online    01/19   6500\n",
      "1             Comida    01/19   1200\n",
      "2       Electricidad    01/19    900\n",
      "3    Entretenimiento    01/19   1000\n",
      "4             Renta     01/19   3500\n",
      "..               ...      ...    ...\n",
      "211           Renta     12/20   3500\n",
      "212        Servicios    12/20    500\n",
      "213         Telefono    12/20    300\n",
      "214       Transporte    12/20    800\n",
      "215            Otros    12/20    200\n",
      "\n",
      "[216 rows x 3 columns]\n"
     ]
    }
   ],
   "source": [
    "print( financial.melt(id_vars=\"Categoria\") )"
   ]
  },
  {
   "block_group": "656310b0acd848879106c54bbf9b5f0e",
   "cell_type": "markdown",
   "metadata": {
    "cell_id": "656310b0acd848879106c54bbf9b5f0e",
    "deepnote_app_coordinates": {
     "h": 5,
     "w": 12,
     "x": 0,
     "y": 1129
    },
    "deepnote_cell_type": "markdown",
    "tags": []
   },
   "source": [
    "Simplemente, podemos seleccionar las columnas que no quiero hacer melt usando el parámetro id_vars."
   ]
  },
  {
   "block_group": "a3cbbe2ede5f47d79d7e38580b7b773e",
   "cell_type": "markdown",
   "metadata": {
    "cell_id": "a3cbbe2ede5f47d79d7e38580b7b773e",
    "deepnote_app_coordinates": {
     "h": 5,
     "w": 12,
     "x": 0,
     "y": 1135
    },
    "deepnote_cell_type": "text-cell-h1",
    "formattedRanges": [],
    "is_collapsed": false,
    "tags": []
   },
   "source": [
    "# Apply"
   ]
  },
  {
   "block_group": "bc48b2d5207b4468be4649c691f70944",
   "cell_type": "markdown",
   "metadata": {
    "cell_id": "bc48b2d5207b4468be4649c691f70944",
    "deepnote_app_coordinates": {
     "h": 5,
     "w": 12,
     "x": 0,
     "y": 1141
    },
    "deepnote_cell_type": "markdown",
    "tags": []
   },
   "source": [
    "Apply allows us to *apply* functions to our dataframe"
   ]
  },
  {
   "block_group": "d5dcb73e4fc84f8d8f7df1409ead826a",
   "cell_type": "code",
   "execution_count": 74,
   "metadata": {
    "cell_id": "d5dcb73e4fc84f8d8f7df1409ead826a",
    "deepnote_app_coordinates": {
     "h": 5,
     "w": 12,
     "x": 0,
     "y": 1147
    },
    "deepnote_cell_type": "code",
    "deepnote_to_be_reexecuted": false,
    "execution_millis": 21,
    "execution_start": 1669182431036,
    "source_hash": "e81e51c7",
    "tags": []
   },
   "outputs": [
    {
     "name": "stdout",
     "output_type": "stream",
     "text": [
      "                                                  Name  \\\n",
      "0                        10-Day Green Smoothie Cleanse   \n",
      "1                                    11/22/63: A Novel   \n",
      "2              12 Rules for Life: An Antidote to Chaos   \n",
      "3                               1984 (Signet Classics)   \n",
      "4    5,000 Awesome Facts (About Everything!) (Natio...   \n",
      "..                                                 ...   \n",
      "545       Wrecking Ball (Diary of a Wimpy Kid Book 14)   \n",
      "546  You Are a Badass: How to Stop Doubting Your Gr...   \n",
      "547  You Are a Badass: How to Stop Doubting Your Gr...   \n",
      "548  You Are a Badass: How to Stop Doubting Your Gr...   \n",
      "549  You Are a Badass: How to Stop Doubting Your Gr...   \n",
      "\n",
      "                       Author  User Rating  Reviews  Price  Year        Genre  \\\n",
      "0                    JJ Smith          4.7    17350      8  2016  Non Fiction   \n",
      "1                Stephen King          4.6     2052     22  2011      Fiction   \n",
      "2          Jordan B. Peterson          4.7    18979     15  2018  Non Fiction   \n",
      "3               George Orwell          4.7    21424      6  2017      Fiction   \n",
      "4    National Geographic Kids          4.8     7665     12  2019  Non Fiction   \n",
      "..                        ...          ...      ...    ...   ...          ...   \n",
      "545               Jeff Kinney          4.9     9413      8  2019      Fiction   \n",
      "546               Jen Sincero          4.7    14331      8  2016  Non Fiction   \n",
      "547               Jen Sincero          4.7    14331      8  2017  Non Fiction   \n",
      "548               Jen Sincero          4.7    14331      8  2018  Non Fiction   \n",
      "549               Jen Sincero          4.7    14331      8  2019  Non Fiction   \n",
      "\n",
      "     User Rating2  \n",
      "0             9.4  \n",
      "1             9.2  \n",
      "2             9.4  \n",
      "3             9.4  \n",
      "4             9.6  \n",
      "..            ...  \n",
      "545           9.8  \n",
      "546           9.4  \n",
      "547           9.4  \n",
      "548           9.4  \n",
      "549           9.4  \n",
      "\n",
      "[550 rows x 8 columns]\n"
     ]
    }
   ],
   "source": [
    "import pandas as pf\n",
    "\n",
    "#creating my dataframe\n",
    "data = pd.read_csv(\"bestsellers-with-categories.csv\")\n",
    "\n",
    "#and also let's create a function that multiplies whatever the argument is *2\n",
    "def twotimes(value):\n",
    "    return value*2\n",
    "\n",
    "#and now we can apply that function to User Rating\n",
    "data[\"User Rating2\"] = data[\"User Rating\"].apply(twotimes)\n",
    "\n",
    "print(data)"
   ]
  },
  {
   "block_group": "8feda500fd1d4ad98c3ddd8ea1996258",
   "cell_type": "markdown",
   "metadata": {
    "cell_id": "8feda500fd1d4ad98c3ddd8ea1996258",
    "deepnote_app_coordinates": {
     "h": 5,
     "w": 12,
     "x": 0,
     "y": 1153
    },
    "deepnote_cell_type": "markdown",
    "tags": []
   },
   "source": [
    "note that now we have the new column\n",
    "\n",
    "You can even apply lambda functions:"
   ]
  },
  {
   "block_group": "98655ce85475415682f6ec9474de5435",
   "cell_type": "code",
   "execution_count": 75,
   "metadata": {
    "cell_id": "98655ce85475415682f6ec9474de5435",
    "deepnote_app_coordinates": {
     "h": 5,
     "w": 12,
     "x": 0,
     "y": 1159
    },
    "deepnote_cell_type": "code",
    "deepnote_to_be_reexecuted": false,
    "execution_millis": 9,
    "execution_start": 1669182431059,
    "source_hash": "87f1c2a4",
    "tags": []
   },
   "outputs": [
    {
     "name": "stdout",
     "output_type": "stream",
     "text": [
      "                                                  Name  \\\n",
      "0                        10-Day Green Smoothie Cleanse   \n",
      "1                                    11/22/63: A Novel   \n",
      "2              12 Rules for Life: An Antidote to Chaos   \n",
      "3                               1984 (Signet Classics)   \n",
      "4    5,000 Awesome Facts (About Everything!) (Natio...   \n",
      "..                                                 ...   \n",
      "545       Wrecking Ball (Diary of a Wimpy Kid Book 14)   \n",
      "546  You Are a Badass: How to Stop Doubting Your Gr...   \n",
      "547  You Are a Badass: How to Stop Doubting Your Gr...   \n",
      "548  You Are a Badass: How to Stop Doubting Your Gr...   \n",
      "549  You Are a Badass: How to Stop Doubting Your Gr...   \n",
      "\n",
      "                       Author  User Rating  Reviews  Price  Year        Genre  \\\n",
      "0                    JJ Smith          4.7    17350      8  2016  Non Fiction   \n",
      "1                Stephen King          4.6     2052     22  2011      Fiction   \n",
      "2          Jordan B. Peterson          4.7    18979     15  2018  Non Fiction   \n",
      "3               George Orwell          4.7    21424      6  2017      Fiction   \n",
      "4    National Geographic Kids          4.8     7665     12  2019  Non Fiction   \n",
      "..                        ...          ...      ...    ...   ...          ...   \n",
      "545               Jeff Kinney          4.9     9413      8  2019      Fiction   \n",
      "546               Jen Sincero          4.7    14331      8  2016  Non Fiction   \n",
      "547               Jen Sincero          4.7    14331      8  2017  Non Fiction   \n",
      "548               Jen Sincero          4.7    14331      8  2018  Non Fiction   \n",
      "549               Jen Sincero          4.7    14331      8  2019  Non Fiction   \n",
      "\n",
      "     User Rating2  Rating3  \n",
      "0             9.4     14.1  \n",
      "1             9.2     13.8  \n",
      "2             9.4     14.1  \n",
      "3             9.4     14.1  \n",
      "4             9.6     14.4  \n",
      "..            ...      ...  \n",
      "545           9.8     14.7  \n",
      "546           9.4     14.1  \n",
      "547           9.4     14.1  \n",
      "548           9.4     14.1  \n",
      "549           9.4     14.1  \n",
      "\n",
      "[550 rows x 9 columns]\n"
     ]
    }
   ],
   "source": [
    "data[\"Rating3\"] = data[\"User Rating\"].apply(lambda x: x*3)\n",
    "\n",
    "print(data)"
   ]
  },
  {
   "block_group": "934d68baf5ef4fa58403af24f3fe865b",
   "cell_type": "markdown",
   "metadata": {
    "cell_id": "934d68baf5ef4fa58403af24f3fe865b",
    "deepnote_app_coordinates": {
     "h": 5,
     "w": 12,
     "x": 0,
     "y": 1165
    },
    "deepnote_cell_type": "text-cell-h2",
    "formattedRanges": [],
    "is_collapsed": false,
    "tags": []
   },
   "source": [
    "## Apply functions with conditions"
   ]
  },
  {
   "block_group": "ed50b4273a8147e2a9a94927fe691433",
   "cell_type": "code",
   "execution_count": 76,
   "metadata": {
    "cell_id": "ed50b4273a8147e2a9a94927fe691433",
    "deepnote_app_coordinates": {
     "h": 5,
     "w": 12,
     "x": 0,
     "y": 1171
    },
    "deepnote_cell_type": "code",
    "deepnote_to_be_reexecuted": false,
    "execution_millis": 81,
    "execution_start": 1669182431070,
    "source_hash": "40f8604e",
    "tags": []
   },
   "outputs": [
    {
     "data": {
      "application/vnd.deepnote.dataframe.v3+json": {
       "column_count": 10,
       "columns": [
        {
         "dtype": "object",
         "name": "Name",
         "stats": {
          "categories": [
           {
            "count": 10,
            "name": "Publication Manual of the American Psychological Association, 6th Edition"
           },
           {
            "count": 9,
            "name": "StrengthsFinder 2.0"
           },
           {
            "count": 531,
            "name": "349 others"
           }
          ],
          "nan_count": 0,
          "unique_count": 351
         }
        },
        {
         "dtype": "object",
         "name": "Author",
         "stats": {
          "categories": [
           {
            "count": 12,
            "name": "Jeff Kinney"
           },
           {
            "count": 11,
            "name": "Suzanne Collins"
           },
           {
            "count": 527,
            "name": "246 others"
           }
          ],
          "nan_count": 0,
          "unique_count": 248
         }
        },
        {
         "dtype": "float64",
         "name": "User Rating",
         "stats": {
          "histogram": [
           {
            "bin_end": 3.46,
            "bin_start": 3.3,
            "count": 1
           },
           {
            "bin_end": 3.62,
            "bin_start": 3.46,
            "count": 1
           },
           {
            "bin_end": 3.7800000000000002,
            "bin_start": 3.62,
            "count": 0
           },
           {
            "bin_end": 3.94,
            "bin_start": 3.7800000000000002,
            "count": 5
           },
           {
            "bin_end": 4.1,
            "bin_start": 3.94,
            "count": 14
           },
           {
            "bin_end": 4.26,
            "bin_start": 4.1,
            "count": 14
           },
           {
            "bin_end": 4.42,
            "bin_start": 4.26,
            "count": 63
           },
           {
            "bin_end": 4.58,
            "bin_start": 4.42,
            "count": 60
           },
           {
            "bin_end": 4.74,
            "bin_start": 4.58,
            "count": 213
           },
           {
            "bin_end": 4.9,
            "bin_start": 4.74,
            "count": 179
           }
          ],
          "max": "4.9",
          "min": "3.3",
          "nan_count": 0,
          "unique_count": 14
         }
        },
        {
         "dtype": "int64",
         "name": "Reviews",
         "stats": {
          "histogram": [
           {
            "bin_end": 8817.4,
            "bin_start": 37,
            "count": 287
           },
           {
            "bin_end": 17597.8,
            "bin_start": 8817.4,
            "count": 131
           },
           {
            "bin_end": 26378.199999999997,
            "bin_start": 17597.8,
            "count": 87
           },
           {
            "bin_end": 35158.6,
            "bin_start": 26378.199999999997,
            "count": 25
           },
           {
            "bin_end": 43939,
            "bin_start": 35158.6,
            "count": 4
           },
           {
            "bin_end": 52719.399999999994,
            "bin_start": 43939,
            "count": 8
           },
           {
            "bin_end": 61499.799999999996,
            "bin_start": 52719.399999999994,
            "count": 5
           },
           {
            "bin_end": 70280.2,
            "bin_start": 61499.799999999996,
            "count": 0
           },
           {
            "bin_end": 79060.59999999999,
            "bin_start": 70280.2,
            "count": 0
           },
           {
            "bin_end": 87841,
            "bin_start": 79060.59999999999,
            "count": 3
           }
          ],
          "max": "87841",
          "min": "37",
          "nan_count": 0,
          "unique_count": 346
         }
        },
        {
         "dtype": "int64",
         "name": "Price",
         "stats": {
          "histogram": [
           {
            "bin_end": 10.5,
            "bin_start": 0,
            "count": 266
           },
           {
            "bin_end": 21,
            "bin_start": 10.5,
            "count": 216
           },
           {
            "bin_end": 31.5,
            "bin_start": 21,
            "count": 42
           },
           {
            "bin_end": 42,
            "bin_start": 31.5,
            "count": 9
           },
           {
            "bin_end": 52.5,
            "bin_start": 42,
            "count": 12
           },
           {
            "bin_end": 63,
            "bin_start": 52.5,
            "count": 2
           },
           {
            "bin_end": 73.5,
            "bin_start": 63,
            "count": 0
           },
           {
            "bin_end": 84,
            "bin_start": 73.5,
            "count": 1
           },
           {
            "bin_end": 94.5,
            "bin_start": 84,
            "count": 0
           },
           {
            "bin_end": 105,
            "bin_start": 94.5,
            "count": 2
           }
          ],
          "max": "105",
          "min": "0",
          "nan_count": 0,
          "unique_count": 40
         }
        },
        {
         "dtype": "int64",
         "name": "Year",
         "stats": {
          "histogram": [
           {
            "bin_end": 2010,
            "bin_start": 2009,
            "count": 50
           },
           {
            "bin_end": 2011,
            "bin_start": 2010,
            "count": 50
           },
           {
            "bin_end": 2012,
            "bin_start": 2011,
            "count": 50
           },
           {
            "bin_end": 2013,
            "bin_start": 2012,
            "count": 50
           },
           {
            "bin_end": 2014,
            "bin_start": 2013,
            "count": 50
           },
           {
            "bin_end": 2015,
            "bin_start": 2014,
            "count": 50
           },
           {
            "bin_end": 2016,
            "bin_start": 2015,
            "count": 50
           },
           {
            "bin_end": 2017,
            "bin_start": 2016,
            "count": 50
           },
           {
            "bin_end": 2018,
            "bin_start": 2017,
            "count": 50
           },
           {
            "bin_end": 2019,
            "bin_start": 2018,
            "count": 100
           }
          ],
          "max": "2019",
          "min": "2009",
          "nan_count": 0,
          "unique_count": 11
         }
        },
        {
         "dtype": "object",
         "name": "Genre",
         "stats": {
          "categories": [
           {
            "count": 310,
            "name": "Non Fiction"
           },
           {
            "count": 240,
            "name": "Fiction"
           }
          ],
          "nan_count": 0,
          "unique_count": 2
         }
        },
        {
         "dtype": "float64",
         "name": "User Rating2",
         "stats": {
          "histogram": [
           {
            "bin_end": 6.92,
            "bin_start": 6.6,
            "count": 1
           },
           {
            "bin_end": 7.24,
            "bin_start": 6.92,
            "count": 1
           },
           {
            "bin_end": 7.5600000000000005,
            "bin_start": 7.24,
            "count": 0
           },
           {
            "bin_end": 7.88,
            "bin_start": 7.5600000000000005,
            "count": 5
           },
           {
            "bin_end": 8.2,
            "bin_start": 7.88,
            "count": 14
           },
           {
            "bin_end": 8.52,
            "bin_start": 8.2,
            "count": 14
           },
           {
            "bin_end": 8.84,
            "bin_start": 8.52,
            "count": 63
           },
           {
            "bin_end": 9.16,
            "bin_start": 8.84,
            "count": 60
           },
           {
            "bin_end": 9.48,
            "bin_start": 9.16,
            "count": 213
           },
           {
            "bin_end": 9.8,
            "bin_start": 9.48,
            "count": 179
           }
          ],
          "max": "9.8",
          "min": "6.6",
          "nan_count": 0,
          "unique_count": 14
         }
        },
        {
         "dtype": "float64",
         "name": "Rating3",
         "stats": {
          "histogram": [
           {
            "bin_end": 10.379999999999999,
            "bin_start": 9.899999999999999,
            "count": 1
           },
           {
            "bin_end": 10.86,
            "bin_start": 10.379999999999999,
            "count": 1
           },
           {
            "bin_end": 11.34,
            "bin_start": 10.86,
            "count": 0
           },
           {
            "bin_end": 11.82,
            "bin_start": 11.34,
            "count": 5
           },
           {
            "bin_end": 12.3,
            "bin_start": 11.82,
            "count": 20
           },
           {
            "bin_end": 12.780000000000001,
            "bin_start": 12.3,
            "count": 8
           },
           {
            "bin_end": 13.26,
            "bin_start": 12.780000000000001,
            "count": 63
           },
           {
            "bin_end": 13.74,
            "bin_start": 13.26,
            "count": 60
           },
           {
            "bin_end": 14.22,
            "bin_start": 13.74,
            "count": 213
           },
           {
            "bin_end": 14.700000000000001,
            "bin_start": 14.22,
            "count": 179
           }
          ],
          "max": "14.700000000000001",
          "min": "9.899999999999999",
          "nan_count": 0,
          "unique_count": 14
         }
        },
        {
         "dtype": "float64",
         "name": "RatingConditioned",
         "stats": {
          "histogram": [
           {
            "bin_end": 4.58,
            "bin_start": 4,
            "count": 100
           },
           {
            "bin_end": 5.16,
            "bin_start": 4.58,
            "count": 210
           },
           {
            "bin_end": 5.74,
            "bin_start": 5.16,
            "count": 0
           },
           {
            "bin_end": 6.32,
            "bin_start": 5.74,
            "count": 0
           },
           {
            "bin_end": 6.9,
            "bin_start": 6.32,
            "count": 1
           },
           {
            "bin_end": 7.48,
            "bin_start": 6.9,
            "count": 1
           },
           {
            "bin_end": 8.06,
            "bin_start": 7.48,
            "count": 10
           },
           {
            "bin_end": 8.64,
            "bin_start": 8.06,
            "count": 18
           },
           {
            "bin_end": 9.22,
            "bin_start": 8.64,
            "count": 59
           },
           {
            "bin_end": 9.8,
            "bin_start": 9.22,
            "count": 151
           }
          ],
          "max": "9.8",
          "min": "4.0",
          "nan_count": 0,
          "unique_count": 24
         }
        },
        {
         "dtype": "int64",
         "name": "_deepnote_index_column"
        }
       ],
       "row_count": 550,
       "rows": [
        {
         "Author": "Fredrik Backman",
         "Genre": "Fiction",
         "Name": "A Man Called Ove: A Novel",
         "Price": "8",
         "Rating3": "13.799999999999999",
         "RatingConditioned": "9.2",
         "Reviews": "23848",
         "User Rating": "4.6",
         "User Rating2": "9.2",
         "Year": "2017",
         "_deepnote_index_column": "10"
        },
        {
         "Author": "Larry Schweikart",
         "Genre": "Non Fiction",
         "Name": "A Patriot's History of the United States: From Columbus's Great Discovery to the War on Terror",
         "Price": "2",
         "Rating3": "13.799999999999999",
         "RatingConditioned": "4.6",
         "Reviews": "460",
         "User Rating": "4.6",
         "User Rating2": "9.2",
         "Year": "2010",
         "_deepnote_index_column": "11"
        },
        {
         "Author": "Jaycee Dugard",
         "Genre": "Non Fiction",
         "Name": "A Stolen Life: A Memoir",
         "Price": "32",
         "Rating3": "13.799999999999999",
         "RatingConditioned": "4.6",
         "Reviews": "4149",
         "User Rating": "4.6",
         "User Rating2": "9.2",
         "Year": "2011",
         "_deepnote_index_column": "12"
        },
        {
         "Author": "Madeleine L'Engle",
         "Genre": "Fiction",
         "Name": "A Wrinkle in Time (Time Quintet)",
         "Price": "5",
         "Rating3": "13.5",
         "RatingConditioned": "9.0",
         "Reviews": "5153",
         "User Rating": "4.5",
         "User Rating2": "9.0",
         "Year": "2018",
         "_deepnote_index_column": "13"
        },
        {
         "Author": "Steve Harvey",
         "Genre": "Non Fiction",
         "Name": "Act Like a Lady, Think Like a Man: What Men Really Think About Love, Relationships, Intimacy, and Commitment",
         "Price": "17",
         "Rating3": "13.799999999999999",
         "RatingConditioned": "4.6",
         "Reviews": "5013",
         "User Rating": "4.6",
         "User Rating2": "9.2",
         "Year": "2009",
         "_deepnote_index_column": "14"
        },
        {
         "Author": "Adult Coloring Book Designs",
         "Genre": "Non Fiction",
         "Name": "Adult Coloring Book Designs: Stress Relief Coloring Book: Garden Designs, Mandalas, Animals, and Paisley Patterns",
         "Price": "4",
         "Rating3": "13.5",
         "RatingConditioned": "4.5",
         "Reviews": "2313",
         "User Rating": "4.5",
         "User Rating2": "9.0",
         "Year": "2016",
         "_deepnote_index_column": "15"
        },
        {
         "Author": "Blue Star Coloring",
         "Genre": "Non Fiction",
         "Name": "Adult Coloring Book: Stress Relieving Animal Designs",
         "Price": "6",
         "Rating3": "13.799999999999999",
         "RatingConditioned": "4.6",
         "Reviews": "2925",
         "User Rating": "4.6",
         "User Rating2": "9.2",
         "Year": "2015",
         "_deepnote_index_column": "16"
        },
        {
         "Author": "Blue Star Coloring",
         "Genre": "Non Fiction",
         "Name": "Adult Coloring Book: Stress Relieving Patterns",
         "Price": "6",
         "Rating3": "13.200000000000001",
         "RatingConditioned": "4.4",
         "Reviews": "2951",
         "User Rating": "4.4",
         "User Rating2": "8.8",
         "Year": "2015",
         "_deepnote_index_column": "17"
        },
        {
         "Author": "Coloring Books for Adults",
         "Genre": "Non Fiction",
         "Name": "Adult Coloring Books: A Coloring Book for Adults Featuring Mandalas and Henna Inspired Flowers, Animals, and Paisley…",
         "Price": "8",
         "Rating3": "13.5",
         "RatingConditioned": "4.5",
         "Reviews": "2426",
         "User Rating": "4.5",
         "User Rating2": "9.0",
         "Year": "2015",
         "_deepnote_index_column": "18"
        },
        {
         "Author": "Ron Chernow",
         "Genre": "Non Fiction",
         "Name": "Alexander Hamilton",
         "Price": "13",
         "Rating3": "14.399999999999999",
         "RatingConditioned": "4.8",
         "Reviews": "9198",
         "User Rating": "4.8",
         "User Rating2": "9.6",
         "Year": "2016",
         "_deepnote_index_column": "19"
        }
       ]
      },
      "text/html": [
       "<div>\n",
       "<style scoped>\n",
       "    .dataframe tbody tr th:only-of-type {\n",
       "        vertical-align: middle;\n",
       "    }\n",
       "\n",
       "    .dataframe tbody tr th {\n",
       "        vertical-align: top;\n",
       "    }\n",
       "\n",
       "    .dataframe thead th {\n",
       "        text-align: right;\n",
       "    }\n",
       "</style>\n",
       "<table border=\"1\" class=\"dataframe\">\n",
       "  <thead>\n",
       "    <tr style=\"text-align: right;\">\n",
       "      <th></th>\n",
       "      <th>Name</th>\n",
       "      <th>Author</th>\n",
       "      <th>User Rating</th>\n",
       "      <th>Reviews</th>\n",
       "      <th>Price</th>\n",
       "      <th>Year</th>\n",
       "      <th>Genre</th>\n",
       "      <th>User Rating2</th>\n",
       "      <th>Rating3</th>\n",
       "      <th>RatingConditioned</th>\n",
       "    </tr>\n",
       "  </thead>\n",
       "  <tbody>\n",
       "    <tr>\n",
       "      <th>0</th>\n",
       "      <td>10-Day Green Smoothie Cleanse</td>\n",
       "      <td>JJ Smith</td>\n",
       "      <td>4.7</td>\n",
       "      <td>17350</td>\n",
       "      <td>8</td>\n",
       "      <td>2016</td>\n",
       "      <td>Non Fiction</td>\n",
       "      <td>9.4</td>\n",
       "      <td>14.1</td>\n",
       "      <td>4.7</td>\n",
       "    </tr>\n",
       "    <tr>\n",
       "      <th>1</th>\n",
       "      <td>11/22/63: A Novel</td>\n",
       "      <td>Stephen King</td>\n",
       "      <td>4.6</td>\n",
       "      <td>2052</td>\n",
       "      <td>22</td>\n",
       "      <td>2011</td>\n",
       "      <td>Fiction</td>\n",
       "      <td>9.2</td>\n",
       "      <td>13.8</td>\n",
       "      <td>9.2</td>\n",
       "    </tr>\n",
       "    <tr>\n",
       "      <th>2</th>\n",
       "      <td>12 Rules for Life: An Antidote to Chaos</td>\n",
       "      <td>Jordan B. Peterson</td>\n",
       "      <td>4.7</td>\n",
       "      <td>18979</td>\n",
       "      <td>15</td>\n",
       "      <td>2018</td>\n",
       "      <td>Non Fiction</td>\n",
       "      <td>9.4</td>\n",
       "      <td>14.1</td>\n",
       "      <td>4.7</td>\n",
       "    </tr>\n",
       "    <tr>\n",
       "      <th>3</th>\n",
       "      <td>1984 (Signet Classics)</td>\n",
       "      <td>George Orwell</td>\n",
       "      <td>4.7</td>\n",
       "      <td>21424</td>\n",
       "      <td>6</td>\n",
       "      <td>2017</td>\n",
       "      <td>Fiction</td>\n",
       "      <td>9.4</td>\n",
       "      <td>14.1</td>\n",
       "      <td>9.4</td>\n",
       "    </tr>\n",
       "    <tr>\n",
       "      <th>4</th>\n",
       "      <td>5,000 Awesome Facts (About Everything!) (Natio...</td>\n",
       "      <td>National Geographic Kids</td>\n",
       "      <td>4.8</td>\n",
       "      <td>7665</td>\n",
       "      <td>12</td>\n",
       "      <td>2019</td>\n",
       "      <td>Non Fiction</td>\n",
       "      <td>9.6</td>\n",
       "      <td>14.4</td>\n",
       "      <td>4.8</td>\n",
       "    </tr>\n",
       "    <tr>\n",
       "      <th>...</th>\n",
       "      <td>...</td>\n",
       "      <td>...</td>\n",
       "      <td>...</td>\n",
       "      <td>...</td>\n",
       "      <td>...</td>\n",
       "      <td>...</td>\n",
       "      <td>...</td>\n",
       "      <td>...</td>\n",
       "      <td>...</td>\n",
       "      <td>...</td>\n",
       "    </tr>\n",
       "    <tr>\n",
       "      <th>545</th>\n",
       "      <td>Wrecking Ball (Diary of a Wimpy Kid Book 14)</td>\n",
       "      <td>Jeff Kinney</td>\n",
       "      <td>4.9</td>\n",
       "      <td>9413</td>\n",
       "      <td>8</td>\n",
       "      <td>2019</td>\n",
       "      <td>Fiction</td>\n",
       "      <td>9.8</td>\n",
       "      <td>14.7</td>\n",
       "      <td>9.8</td>\n",
       "    </tr>\n",
       "    <tr>\n",
       "      <th>546</th>\n",
       "      <td>You Are a Badass: How to Stop Doubting Your Gr...</td>\n",
       "      <td>Jen Sincero</td>\n",
       "      <td>4.7</td>\n",
       "      <td>14331</td>\n",
       "      <td>8</td>\n",
       "      <td>2016</td>\n",
       "      <td>Non Fiction</td>\n",
       "      <td>9.4</td>\n",
       "      <td>14.1</td>\n",
       "      <td>4.7</td>\n",
       "    </tr>\n",
       "    <tr>\n",
       "      <th>547</th>\n",
       "      <td>You Are a Badass: How to Stop Doubting Your Gr...</td>\n",
       "      <td>Jen Sincero</td>\n",
       "      <td>4.7</td>\n",
       "      <td>14331</td>\n",
       "      <td>8</td>\n",
       "      <td>2017</td>\n",
       "      <td>Non Fiction</td>\n",
       "      <td>9.4</td>\n",
       "      <td>14.1</td>\n",
       "      <td>4.7</td>\n",
       "    </tr>\n",
       "    <tr>\n",
       "      <th>548</th>\n",
       "      <td>You Are a Badass: How to Stop Doubting Your Gr...</td>\n",
       "      <td>Jen Sincero</td>\n",
       "      <td>4.7</td>\n",
       "      <td>14331</td>\n",
       "      <td>8</td>\n",
       "      <td>2018</td>\n",
       "      <td>Non Fiction</td>\n",
       "      <td>9.4</td>\n",
       "      <td>14.1</td>\n",
       "      <td>4.7</td>\n",
       "    </tr>\n",
       "    <tr>\n",
       "      <th>549</th>\n",
       "      <td>You Are a Badass: How to Stop Doubting Your Gr...</td>\n",
       "      <td>Jen Sincero</td>\n",
       "      <td>4.7</td>\n",
       "      <td>14331</td>\n",
       "      <td>8</td>\n",
       "      <td>2019</td>\n",
       "      <td>Non Fiction</td>\n",
       "      <td>9.4</td>\n",
       "      <td>14.1</td>\n",
       "      <td>4.7</td>\n",
       "    </tr>\n",
       "  </tbody>\n",
       "</table>\n",
       "<p>550 rows × 10 columns</p>\n",
       "</div>"
      ],
      "text/plain": [
       "                                                  Name  \\\n",
       "0                        10-Day Green Smoothie Cleanse   \n",
       "1                                    11/22/63: A Novel   \n",
       "2              12 Rules for Life: An Antidote to Chaos   \n",
       "3                               1984 (Signet Classics)   \n",
       "4    5,000 Awesome Facts (About Everything!) (Natio...   \n",
       "..                                                 ...   \n",
       "545       Wrecking Ball (Diary of a Wimpy Kid Book 14)   \n",
       "546  You Are a Badass: How to Stop Doubting Your Gr...   \n",
       "547  You Are a Badass: How to Stop Doubting Your Gr...   \n",
       "548  You Are a Badass: How to Stop Doubting Your Gr...   \n",
       "549  You Are a Badass: How to Stop Doubting Your Gr...   \n",
       "\n",
       "                       Author  User Rating  Reviews  Price  Year        Genre  \\\n",
       "0                    JJ Smith          4.7    17350      8  2016  Non Fiction   \n",
       "1                Stephen King          4.6     2052     22  2011      Fiction   \n",
       "2          Jordan B. Peterson          4.7    18979     15  2018  Non Fiction   \n",
       "3               George Orwell          4.7    21424      6  2017      Fiction   \n",
       "4    National Geographic Kids          4.8     7665     12  2019  Non Fiction   \n",
       "..                        ...          ...      ...    ...   ...          ...   \n",
       "545               Jeff Kinney          4.9     9413      8  2019      Fiction   \n",
       "546               Jen Sincero          4.7    14331      8  2016  Non Fiction   \n",
       "547               Jen Sincero          4.7    14331      8  2017  Non Fiction   \n",
       "548               Jen Sincero          4.7    14331      8  2018  Non Fiction   \n",
       "549               Jen Sincero          4.7    14331      8  2019  Non Fiction   \n",
       "\n",
       "     User Rating2  Rating3  RatingConditioned  \n",
       "0             9.4     14.1                4.7  \n",
       "1             9.2     13.8                9.2  \n",
       "2             9.4     14.1                4.7  \n",
       "3             9.4     14.1                9.4  \n",
       "4             9.6     14.4                4.8  \n",
       "..            ...      ...                ...  \n",
       "545           9.8     14.7                9.8  \n",
       "546           9.4     14.1                4.7  \n",
       "547           9.4     14.1                4.7  \n",
       "548           9.4     14.1                4.7  \n",
       "549           9.4     14.1                4.7  \n",
       "\n",
       "[550 rows x 10 columns]"
      ]
     },
     "execution_count": 76,
     "metadata": {},
     "output_type": "execute_result"
    }
   ],
   "source": [
    "#multiply *2 the records that meet the condition (genre = fiction)\n",
    "data[\"RatingConditioned\"] = data.apply( \n",
    "    lambda x : x[\"User Rating\"]*2 if x[\"Genre\"] == \"Fiction\" else x[\"User Rating\"], axis = 1)\n",
    "\n",
    "data"
   ]
  },
  {
   "cell_type": "markdown",
   "metadata": {
    "created_in_deepnote_cell": true,
    "deepnote_cell_type": "markdown"
   },
   "source": [
    "<a style='text-decoration:none;line-height:16px;display:flex;color:#5B5B62;padding:10px;justify-content:end;' href='https://deepnote.com?utm_source=created-in-deepnote-cell&projectId=fbf5e099-647a-47c3-8670-cb24011bd17b' target=\"_blank\">\n",
    "<img alt='Created in deepnote.com' style='display:inline;max-height:16px;margin:0px;margin-right:7.5px;' src='data:image/svg+xml;base64,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' > </img>\n",
    "Created in <span style='font-weight:600;margin-left:4px;'>Deepnote</span></a>"
   ]
  }
 ],
 "metadata": {
  "deepnote": {},
  "deepnote_app_layout": "article",
  "deepnote_execution_queue": [],
  "deepnote_notebook_id": "1c3462bc51cf404089c2a436423307de",
  "deepnote_persisted_session": {
   "createdAt": "2022-11-23T06:16:12.086Z"
  },
  "language_info": {
   "codemirror_mode": {
    "name": "ipython",
    "version": 3
   },
   "file_extension": ".py",
   "mimetype": "text/x-python",
   "name": "python",
   "nbconvert_exporter": "python",
   "pygments_lexer": "ipython3",
   "version": "3.11.4"
  }
 },
 "nbformat": 4,
 "nbformat_minor": 0
}